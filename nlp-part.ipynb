{
  "cells": [
    {
      "cell_type": "code",
      "execution_count": 2,
      "metadata": {
        "id": "el0tB28G2HpX"
      },
      "outputs": [],
      "source": [
        "import numpy as np\n",
        "import pandas as pd\n",
        "from matplotlib import pyplot as plt\n",
        "%matplotlib inline\n",
        "import seaborn as sns\n",
        "import re\n",
        "import zipfile"
      ]
    },
    {
      "cell_type": "code",
      "execution_count": 3,
      "metadata": {
        "colab": {
          "base_uri": "https://localhost:8080/"
        },
        "id": "rsBeXEjP2SYs",
        "outputId": "9129f998-1661-4a6b-a67e-7c8a2543d114"
      },
      "outputs": [
        {
          "name": "stdout",
          "output_type": "stream",
          "text": [
            "                 id                                       comment_text  toxic  \\\n",
            "0  0000997932d777bf  Explanation\\nWhy the edits made under my usern...      0   \n",
            "1  000103f0d9cfb60f  D'aww! He matches this background colour I'm s...      0   \n",
            "2  000113f07ec002fd  Hey man, I'm really not trying to edit war. It...      0   \n",
            "3  0001b41b1c6bb37e  \"\\nMore\\nI can't make any real suggestions on ...      0   \n",
            "4  0001d958c54c6e35  You, sir, are my hero. Any chance you remember...      0   \n",
            "\n",
            "   severe_toxic  obscene  threat  insult  identity_hate  \n",
            "0             0        0       0       0              0  \n",
            "1             0        0       0       0              0  \n",
            "2             0        0       0       0              0  \n",
            "3             0        0       0       0              0  \n",
            "4             0        0       0       0              0  \n"
          ]
        }
      ],
      "source": [
        "data = pd.read_csv(\"nlp-train.csv\")\n",
        "print(data.head())"
      ]
    },
    {
      "cell_type": "code",
      "execution_count": 4,
      "metadata": {
        "colab": {
          "base_uri": "https://localhost:8080/"
        },
        "id": "bcp6iXqM23P3",
        "outputId": "6b8f672e-bab0-456b-9455-60dba42ea504"
      },
      "outputs": [
        {
          "data": {
            "text/plain": [
              "Index(['id', 'comment_text', 'toxic', 'severe_toxic', 'obscene', 'threat',\n",
              "       'insult', 'identity_hate'],\n",
              "      dtype='object')"
            ]
          },
          "execution_count": 4,
          "metadata": {},
          "output_type": "execute_result"
        }
      ],
      "source": [
        "# Feature Imformation \n",
        "data.columns"
      ]
    },
    {
      "cell_type": "code",
      "execution_count": 5,
      "metadata": {
        "colab": {
          "base_uri": "https://localhost:8080/"
        },
        "id": "IgWNxANa23Th",
        "outputId": "b91b3311-6906-448c-ad93-c42ac9549734"
      },
      "outputs": [
        {
          "data": {
            "text/plain": [
              "(159571, 8)"
            ]
          },
          "execution_count": 5,
          "metadata": {},
          "output_type": "execute_result"
        }
      ],
      "source": [
        "# Data Dimension \n",
        "\n",
        "data.shape "
      ]
    },
    {
      "cell_type": "code",
      "execution_count": 6,
      "metadata": {
        "id": "RApcJPdk3Ntx"
      },
      "outputs": [],
      "source": [
        "cols_target = ['obscene','insult','toxic','severe_toxic','identity_hate','threat']"
      ]
    },
    {
      "cell_type": "code",
      "execution_count": 7,
      "metadata": {
        "colab": {
          "base_uri": "https://localhost:8080/"
        },
        "id": "7U5pk5yi3RXi",
        "outputId": "2b8a4cf4-8e57-44e8-ed3d-4b5717c3f206"
      },
      "outputs": [
        {
          "name": "stdout",
          "output_type": "stream",
          "text": [
            "0\n"
          ]
        }
      ],
      "source": [
        "# Check Missing Value \n",
        "\n",
        "print(data[\"comment_text\"].isna().sum())\n",
        "\n",
        "# dropna "
      ]
    },
    {
      "cell_type": "code",
      "execution_count": 8,
      "metadata": {
        "colab": {
          "base_uri": "https://localhost:8080/",
          "height": 300
        },
        "id": "tVtsLGAp3UH9",
        "outputId": "d79ae79d-19c9-4557-d650-c062557ec963"
      },
      "outputs": [
        {
          "data": {
            "text/html": [
              "<div>\n",
              "<style scoped>\n",
              "    .dataframe tbody tr th:only-of-type {\n",
              "        vertical-align: middle;\n",
              "    }\n",
              "\n",
              "    .dataframe tbody tr th {\n",
              "        vertical-align: top;\n",
              "    }\n",
              "\n",
              "    .dataframe thead th {\n",
              "        text-align: right;\n",
              "    }\n",
              "</style>\n",
              "<table border=\"1\" class=\"dataframe\">\n",
              "  <thead>\n",
              "    <tr style=\"text-align: right;\">\n",
              "      <th></th>\n",
              "      <th>toxic</th>\n",
              "      <th>severe_toxic</th>\n",
              "      <th>obscene</th>\n",
              "      <th>threat</th>\n",
              "      <th>insult</th>\n",
              "      <th>identity_hate</th>\n",
              "    </tr>\n",
              "  </thead>\n",
              "  <tbody>\n",
              "    <tr>\n",
              "      <th>count</th>\n",
              "      <td>159571.000000</td>\n",
              "      <td>159571.000000</td>\n",
              "      <td>159571.000000</td>\n",
              "      <td>159571.000000</td>\n",
              "      <td>159571.000000</td>\n",
              "      <td>159571.000000</td>\n",
              "    </tr>\n",
              "    <tr>\n",
              "      <th>mean</th>\n",
              "      <td>0.095844</td>\n",
              "      <td>0.009996</td>\n",
              "      <td>0.052948</td>\n",
              "      <td>0.002996</td>\n",
              "      <td>0.049364</td>\n",
              "      <td>0.008805</td>\n",
              "    </tr>\n",
              "    <tr>\n",
              "      <th>std</th>\n",
              "      <td>0.294379</td>\n",
              "      <td>0.099477</td>\n",
              "      <td>0.223931</td>\n",
              "      <td>0.054650</td>\n",
              "      <td>0.216627</td>\n",
              "      <td>0.093420</td>\n",
              "    </tr>\n",
              "    <tr>\n",
              "      <th>min</th>\n",
              "      <td>0.000000</td>\n",
              "      <td>0.000000</td>\n",
              "      <td>0.000000</td>\n",
              "      <td>0.000000</td>\n",
              "      <td>0.000000</td>\n",
              "      <td>0.000000</td>\n",
              "    </tr>\n",
              "    <tr>\n",
              "      <th>25%</th>\n",
              "      <td>0.000000</td>\n",
              "      <td>0.000000</td>\n",
              "      <td>0.000000</td>\n",
              "      <td>0.000000</td>\n",
              "      <td>0.000000</td>\n",
              "      <td>0.000000</td>\n",
              "    </tr>\n",
              "    <tr>\n",
              "      <th>50%</th>\n",
              "      <td>0.000000</td>\n",
              "      <td>0.000000</td>\n",
              "      <td>0.000000</td>\n",
              "      <td>0.000000</td>\n",
              "      <td>0.000000</td>\n",
              "      <td>0.000000</td>\n",
              "    </tr>\n",
              "    <tr>\n",
              "      <th>75%</th>\n",
              "      <td>0.000000</td>\n",
              "      <td>0.000000</td>\n",
              "      <td>0.000000</td>\n",
              "      <td>0.000000</td>\n",
              "      <td>0.000000</td>\n",
              "      <td>0.000000</td>\n",
              "    </tr>\n",
              "    <tr>\n",
              "      <th>max</th>\n",
              "      <td>1.000000</td>\n",
              "      <td>1.000000</td>\n",
              "      <td>1.000000</td>\n",
              "      <td>1.000000</td>\n",
              "      <td>1.000000</td>\n",
              "      <td>1.000000</td>\n",
              "    </tr>\n",
              "  </tbody>\n",
              "</table>\n",
              "</div>"
            ],
            "text/plain": [
              "               toxic   severe_toxic        obscene         threat  \\\n",
              "count  159571.000000  159571.000000  159571.000000  159571.000000   \n",
              "mean        0.095844       0.009996       0.052948       0.002996   \n",
              "std         0.294379       0.099477       0.223931       0.054650   \n",
              "min         0.000000       0.000000       0.000000       0.000000   \n",
              "25%         0.000000       0.000000       0.000000       0.000000   \n",
              "50%         0.000000       0.000000       0.000000       0.000000   \n",
              "75%         0.000000       0.000000       0.000000       0.000000   \n",
              "max         1.000000       1.000000       1.000000       1.000000   \n",
              "\n",
              "              insult  identity_hate  \n",
              "count  159571.000000  159571.000000  \n",
              "mean        0.049364       0.008805  \n",
              "std         0.216627       0.093420  \n",
              "min         0.000000       0.000000  \n",
              "25%         0.000000       0.000000  \n",
              "50%         0.000000       0.000000  \n",
              "75%         0.000000       0.000000  \n",
              "max         1.000000       1.000000  "
            ]
          },
          "execution_count": 8,
          "metadata": {},
          "output_type": "execute_result"
        }
      ],
      "source": [
        "# check missing values in numeric columns\n",
        "data.describe()"
      ]
    },
    {
      "cell_type": "code",
      "execution_count": 9,
      "metadata": {
        "colab": {
          "base_uri": "https://localhost:8080/"
        },
        "id": "M-01EPYz3Wke",
        "outputId": "bfabcef8-e6f8-4d49-b8bb-02ddbdf94623"
      },
      "outputs": [
        {
          "name": "stdout",
          "output_type": "stream",
          "text": [
            "Percentage of unlabelled comments or good comments is  89.83211235124176\n"
          ]
        }
      ],
      "source": [
        "unlabelled_in_all = data[(data['toxic']!=1) & (data['severe_toxic']!=1) &\n",
        "                             (data['obscene']!=1) & (data['threat']!=1) &\n",
        "                             (data['insult']!=1) & (data['identity_hate']!=1)]\n",
        "print('Percentage of unlabelled comments or good comments is ', len(unlabelled_in_all)/len(data)*100)"
      ]
    },
    {
      "cell_type": "code",
      "execution_count": 10,
      "metadata": {
        "colab": {
          "base_uri": "https://localhost:8080/"
        },
        "id": "Jvdjw2JC3q6E",
        "outputId": "e979a244-0341-42dd-9bdc-1252fd41b4a0"
      },
      "outputs": [
        {
          "name": "stdout",
          "output_type": "stream",
          "text": [
            "Percentage of comments which is present in all categories is  0.019427088882065038\n"
          ]
        }
      ],
      "source": [
        "labelled_in_all = data[(data['toxic']==1) & (data['severe_toxic']==1) &\n",
        "                             (data['obscene']==1) & (data['threat']==1) &\n",
        "                             (data['insult']==1) & (data['identity_hate']==1)]\n",
        "print('Percentage of comments which is present in all categories is ', len(labelled_in_all)/len(data)*100)"
      ]
    },
    {
      "cell_type": "code",
      "execution_count": 11,
      "metadata": {
        "colab": {
          "base_uri": "https://localhost:8080/"
        },
        "id": "hZwrco-R3yhC",
        "outputId": "83f29374-3dca-4bf3-dc5e-8df103c92e2a"
      },
      "outputs": [
        {
          "name": "stdout",
          "output_type": "stream",
          "text": [
            "Total rows in train is 159571\n",
            "obscene           8449\n",
            "insult            7877\n",
            "toxic            15294\n",
            "severe_toxic      1595\n",
            "identity_hate     1405\n",
            "threat             478\n",
            "dtype: int64\n"
          ]
        }
      ],
      "source": [
        "# let's see the total rows in train, test data and the numbers for the various categories\n",
        "print('Total rows in train is {}'.format(len(data)))\n",
        "print(data[cols_target].sum())"
      ]
    },
    {
      "cell_type": "code",
      "execution_count": 12,
      "metadata": {
        "id": "aiKB8MBd4Arw"
      },
      "outputs": [],
      "source": [
        "#Examining correlation"
      ]
    },
    {
      "cell_type": "code",
      "execution_count": 13,
      "metadata": {
        "colab": {
          "base_uri": "https://localhost:8080/",
          "height": 482
        },
        "id": "r63lECtv4Ej5",
        "outputId": "539c1aa4-d34a-48dc-b82b-c90c7093f7c6"
      },
      "outputs": [
        {
          "data": {
            "text/plain": [
              "<AxesSubplot:title={'center':'Correlation of features & targets'}>"
            ]
          },
          "execution_count": 13,
          "metadata": {},
          "output_type": "execute_result"
        },
        {
          "data": {
            "image/png": "[encoded data removed]",
            "text/plain": [
              "<Figure size 504x504 with 2 Axes>"
            ]
          },
          "metadata": {
            "needs_background": "light"
          },
          "output_type": "display_data"
        }
      ],
      "source": [
        "target_data = data[cols_target]\n",
        "colormap = plt.cm.plasma\n",
        "plt.figure(figsize=(7,7))\n",
        "plt.title('Correlation of features & targets',y=1.05,size=14)\n",
        "sns.heatmap(target_data.astype(float).corr(),linewidths=0.1,vmax=1.0,square=True,cmap=colormap,\n",
        "           linecolor='white',annot=True)"
      ]
    },
    {
      "cell_type": "code",
      "execution_count": 14,
      "metadata": {
        "id": "OEzt0_Dw4FUn"
      },
      "outputs": [],
      "source": [
        "#Indeed, it looks like some of the labels are higher correlated, e.g. insult-obscene has the highest at 0.74, followed by toxic-obscene and toxic-insult."
      ]
    },
    {
      "cell_type": "markdown",
      "metadata": {
        "id": "wS1FasMy4Ovy"
      },
      "source": [
        "Now this kind of problem is\n",
        "1) Multi class problem and not Binary\n",
        "\n",
        "2) Also all classes are not independent but rather dependent or correlated\n",
        "\n",
        "3) A comment can belong to multiple classes at the same time for e.g. comment can be toxic and insulting at the same time\n",
        "\n",
        "Let us simplify the problem by first classifying the comments as \"block\" vs \"allow\""
      ]
    },
    {
      "cell_type": "code",
      "execution_count": 15,
      "metadata": {
        "colab": {
          "base_uri": "https://localhost:8080/"
        },
        "id": "Oj9TH2gL4RR1",
        "outputId": "39e25a0d-776f-470a-ddf0-d0d92610ea44"
      },
      "outputs": [
        {
          "name": "stdout",
          "output_type": "stream",
          "text": [
            "0    143346\n",
            "1      6360\n",
            "3      4209\n",
            "2      3480\n",
            "4      1760\n",
            "5       385\n",
            "6        31\n",
            "Name: block, dtype: int64\n",
            "0    143346\n",
            "1     16225\n",
            "Name: block, dtype: int64\n"
          ]
        }
      ],
      "source": [
        "data['block'] =data[cols_target].sum(axis =1)\n",
        "print(data['block'].value_counts())\n",
        "data['block'] = data['block'] > 0 \n",
        "data['block'] = data['block'].astype(int)\n",
        "print(data['block'].value_counts())"
      ]
    },
    {
      "cell_type": "code",
      "execution_count": 16,
      "metadata": {
        "colab": {
          "base_uri": "https://localhost:8080/",
          "height": 285
        },
        "id": "ak8XiizD4X4I",
        "outputId": "5e1b206a-7628-47d2-d49c-686d025e1903"
      },
      "outputs": [
        {
          "data": {
            "image/png": "[encoded data removed]",
            "text/plain": [
              "<Figure size 432x288 with 1 Axes>"
            ]
          },
          "metadata": {},
          "output_type": "display_data"
        }
      ],
      "source": [
        "# look at the count plot for text length\n",
        "sns.set()\n",
        "sns.countplot(x=\"block\" , data = data )\n",
        "plt.show()"
      ]
    },
    {
      "cell_type": "code",
      "execution_count": 17,
      "metadata": {
        "colab": {
          "base_uri": "https://localhost:8080/"
        },
        "id": "lOxDL6HU4Ymo",
        "outputId": "f4f47e31-1637-44b4-ca01-128b4f838cc0"
      },
      "outputs": [
        {
          "name": "stdout",
          "output_type": "stream",
          "text": [
            "Percentage Event Rate :  10.17 %\n"
          ]
        }
      ],
      "source": [
        "# Event Rate \n",
        "\n",
        "print(\"Percentage Event Rate : \" , round(100*data['block'].sum()/data.shape[0],2) , \"%\")"
      ]
    },
    {
      "cell_type": "code",
      "execution_count": 18,
      "metadata": {
        "id": "qN_vU-NH4k8v"
      },
      "outputs": [],
      "source": [
        "# Let's look at the character length for the rows in the training data and record these\n",
        "data['char_length'] = data['comment_text'].apply(lambda x: len(str(x)))"
      ]
    },
    {
      "cell_type": "code",
      "execution_count": 19,
      "metadata": {
        "colab": {
          "base_uri": "https://localhost:8080/",
          "height": 268
        },
        "id": "tkTG3f9B4nxB",
        "outputId": "00fc7b91-1505-48f8-a039-5e5adbce9cf4"
      },
      "outputs": [
        {
          "data": {
            "image/png": "[encoded data removed]",
            "text/plain": [
              "<Figure size 432x288 with 1 Axes>"
            ]
          },
          "metadata": {},
          "output_type": "display_data"
        }
      ],
      "source": [
        "# look at the histogram plot for text length\n",
        "sns.set()\n",
        "data['char_length'].hist()\n",
        "plt.show()"
      ]
    },
    {
      "cell_type": "code",
      "execution_count": 20,
      "metadata": {
        "id": "7M_evses4qY_"
      },
      "outputs": [],
      "source": [
        "def clean_text(text):\n",
        "    text = text.lower()\n",
        "    text = re.sub(r\"what's\", \"what is \", text)\n",
        "    text = re.sub(r\"\\'s\", \" \", text)\n",
        "    text = re.sub(r\"\\'ve\", \" have \", text)\n",
        "    text = re.sub(r\"can't\", \"cannot \", text)\n",
        "    text = re.sub(r\"n't\", \" not \", text)\n",
        "    text = re.sub(r\"i'm\", \"i am \", text)\n",
        "    text = re.sub(r\"\\'re\", \" are \", text)\n",
        "    text = re.sub(r\"\\'d\", \" would \", text)\n",
        "    text = re.sub(r\"\\'ll\", \" will \", text)\n",
        "    text = re.sub(r\"\\'scuse\", \" excuse \", text)\n",
        "    text = re.sub('\\W', ' ', text)\n",
        "    text = re.sub('\\s+', ' ', text)\n",
        "    text = text.strip(' ')\n",
        "    return text"
      ]
    },
    {
      "cell_type": "code",
      "execution_count": 21,
      "metadata": {
        "colab": {
          "base_uri": "https://localhost:8080/"
        },
        "id": "yclCyNVt4w7I",
        "outputId": "6d405522-5312-4d5f-9a2e-3e449d8e9ee6"
      },
      "outputs": [
        {
          "name": "stdout",
          "output_type": "stream",
          "text": [
            "Wall time: 6.18 s\n"
          ]
        }
      ],
      "source": [
        "%%time \n",
        "# clean the comment_text in train_df [Thanks to Pulkit Jha for the useful pointer.]\n",
        "data['comment_text'] = data['comment_text'].map(lambda com : clean_text(com))"
      ]
    },
    {
      "cell_type": "code",
      "execution_count": 22,
      "metadata": {
        "id": "SwtgBL4b4xD-"
      },
      "outputs": [],
      "source": [
        "from sklearn.model_selection import train_test_split\n",
        "\n",
        "X_train, X_test, y_train, y_test = train_test_split(data['comment_text'], data['block'], test_size=0.2, random_state=42)"
      ]
    },
    {
      "cell_type": "code",
      "execution_count": 23,
      "metadata": {
        "colab": {
          "base_uri": "https://localhost:8080/"
        },
        "id": "WZIV1FDi48oC",
        "outputId": "a690e93d-89f5-492b-90d0-74b42b4b48f3"
      },
      "outputs": [
        {
          "name": "stdout",
          "output_type": "stream",
          "text": [
            "(127656,) (31915,)\n",
            "(127656,) (31915,)\n"
          ]
        }
      ],
      "source": [
        "print(X_train.shape, X_test.shape)\n",
        "print(y_train.shape, y_test.shape)"
      ]
    },
    {
      "cell_type": "code",
      "execution_count": 24,
      "metadata": {
        "colab": {
          "base_uri": "https://localhost:8080/"
        },
        "id": "3r-oHx11A15F",
        "outputId": "4e6a3f8d-d33f-46ae-ae21-9db95277ffbd"
      },
      "outputs": [
        {
          "data": {
            "text/plain": [
              "140030    grandma terri should burn in trash grandma ter...\n",
              "159124    9 may 2009 utc it would be easiest if you were...\n",
              "60006     the objectivity of this discussion is doubtful...\n",
              "65432                          shelly shock shelly shock is\n",
              "154979    i do not care refer to ong teng cheong talk pa...\n",
              "                                ...                        \n",
              "119879    redirect talk john loveday experimental physicist\n",
              "103694     back it up post the line here with the reference\n",
              "131932    i wo not stop that sometimes germanic equals g...\n",
              "146867    british bands i think you have mistaken scotti...\n",
              "121958    you are wrong justin thompson is mentioned in ...\n",
              "Name: comment_text, Length: 127656, dtype: object"
            ]
          },
          "execution_count": 24,
          "metadata": {},
          "output_type": "execute_result"
        }
      ],
      "source": [
        "X_train"
      ]
    },
    {
      "cell_type": "code",
      "execution_count": 25,
      "metadata": {
        "colab": {
          "base_uri": "https://localhost:8080/"
        },
        "id": "qJ1qDDLtEYNp",
        "outputId": "a1303e58-b57d-42ca-ff13-8f7d72cd6d2d"
      },
      "outputs": [
        {
          "data": {
            "text/plain": [
              "119105    geez are you forgetful we have already discuss...\n",
              "131631    carioca rfa thanks for your support on my requ...\n",
              "125326    birthday no worries it what i do enjoy ur day ...\n",
              "111256    pseudoscience category i am assuming that this...\n",
              "83590     and if such phrase exists it would be provided...\n",
              "                                ...                        \n",
              "121162    would you claim them to be part of the ignoran...\n",
              "34019     the lyrics is found in the german version so i...\n",
              "83938     encyclopedia titanica references do not source...\n",
              "78687             a silly fat cow who wo not leave me alone\n",
              "127984    shazbot now your lieing you already stated you...\n",
              "Name: comment_text, Length: 31915, dtype: object"
            ]
          },
          "execution_count": 25,
          "metadata": {},
          "output_type": "execute_result"
        }
      ],
      "source": [
        " X_test"
      ]
    },
    {
      "cell_type": "code",
      "execution_count": 26,
      "metadata": {
        "colab": {
          "base_uri": "https://localhost:8080/"
        },
        "id": "gJ_ogLHO49F_",
        "outputId": "9b842912-3cb7-4499-c3d5-9d0176be8c8e"
      },
      "outputs": [
        {
          "name": "stdout",
          "output_type": "stream",
          "text": [
            "TfidfVectorizer(max_features=10000, stop_words='english')\n"
          ]
        }
      ],
      "source": [
        "# import and instantiate TfidfVectorizer\n",
        "from sklearn.feature_extraction.text import CountVectorizer\n",
        "from sklearn.feature_extraction.text import TfidfVectorizer\n",
        "vect = TfidfVectorizer(max_features = 10000, stop_words='english')\n",
        "#vect = TfidfVectorizer(stop_words='english')\n",
        "print(vect)"
      ]
    },
    {
      "cell_type": "code",
      "execution_count": 27,
      "metadata": {
        "colab": {
          "base_uri": "https://localhost:8080/"
        },
        "id": "v3ksXLb34_mP",
        "outputId": "679734ba-b968-4a4d-b19b-7e1752bf02a1"
      },
      "outputs": [
        {
          "name": "stdout",
          "output_type": "stream",
          "text": [
            "Wall time: 5.01 s\n"
          ]
        },
        {
          "data": {
            "text/plain": [
              "<127656x10000 sparse matrix of type '<class 'numpy.float64'>'\n",
              "\twith 2792162 stored elements in Compressed Sparse Row format>"
            ]
          },
          "execution_count": 27,
          "metadata": {},
          "output_type": "execute_result"
        }
      ],
      "source": [
        "%%time \n",
        "# learn the vocabulary in the training data, then use it to create a document-term matrix\n",
        "X_train_dtm = vect.fit_transform(X_train)\n",
        "# examine the document-term matrix created from X_train\n",
        "X_train_dtm"
      ]
    },
    {
      "cell_type": "code",
      "execution_count": 28,
      "metadata": {
        "colab": {
          "base_uri": "https://localhost:8080/"
        },
        "id": "3XkV3jKy5DM2",
        "outputId": "795a8422-4c6f-4180-ea3b-91deeb518995"
      },
      "outputs": [
        {
          "data": {
            "text/plain": [
              "(127656, 10000)"
            ]
          },
          "execution_count": 28,
          "metadata": {},
          "output_type": "execute_result"
        }
      ],
      "source": [
        "X_train_dtm.shape"
      ]
    },
    {
      "cell_type": "code",
      "execution_count": 29,
      "metadata": {
        "colab": {
          "base_uri": "https://localhost:8080/"
        },
        "id": "8boAzbnj5H53",
        "outputId": "e89aef07-d3a6-4974-e787-f025a6ca1456"
      },
      "outputs": [
        {
          "data": {
            "text/plain": [
              "0.2187254809801341"
            ]
          },
          "execution_count": 29,
          "metadata": {},
          "output_type": "execute_result"
        }
      ],
      "source": [
        "100*2792162/ (127656*10000)"
      ]
    },
    {
      "cell_type": "code",
      "execution_count": 30,
      "metadata": {
        "colab": {
          "base_uri": "https://localhost:8080/"
        },
        "id": "NF9aHm6a5J_w",
        "outputId": "914217c2-e8ad-4e72-b507-dae96509d97c"
      },
      "outputs": [
        {
          "name": "stdout",
          "output_type": "stream",
          "text": [
            "Wall time: 1.16 s\n"
          ]
        },
        {
          "data": {
            "text/plain": [
              "<31915x10000 sparse matrix of type '<class 'numpy.float64'>'\n",
              "\twith 688258 stored elements in Compressed Sparse Row format>"
            ]
          },
          "execution_count": 30,
          "metadata": {},
          "output_type": "execute_result"
        }
      ],
      "source": [
        "%%time\n",
        "# transform the test data using the earlier fitted vocabulary, into a document-term matrix\n",
        "X_test_dtm = vect.transform(X_test)\n",
        "# examine the document-term matrix from X_test\n",
        "X_test_dtm"
      ]
    },
    {
      "cell_type": "code",
      "execution_count": 31,
      "metadata": {
        "colab": {
          "base_uri": "https://localhost:8080/"
        },
        "id": "_OdmcjYsD8M5",
        "outputId": "2b8c18e2-2a09-401c-8146-cfcfc2800972"
      },
      "outputs": [
        {
          "data": {
            "text/plain": [
              "(31915, 10000)"
            ]
          },
          "execution_count": 31,
          "metadata": {},
          "output_type": "execute_result"
        }
      ],
      "source": [
        "X_test_dtm.shape"
      ]
    },
    {
      "cell_type": "code",
      "execution_count": 32,
      "metadata": {
        "colab": {
          "base_uri": "https://localhost:8080/"
        },
        "id": "vGSEOQQH5M8n",
        "outputId": "671d3495-ea11-4ef7-e784-1ce6998f0ec0"
      },
      "outputs": [
        {
          "name": "stdout",
          "output_type": "stream",
          "text": [
            "Training accuracy is 0.9594613649182178\n",
            "Test accuracy is 0.9563214789284036\n",
            "[[28507   164]\n",
            " [ 1230  2014]]\n"
          ]
        }
      ],
      "source": [
        "#Using Logistic Regression:\n",
        "\n",
        "# import and instantiate the Logistic Regression model\n",
        "from sklearn.linear_model import LogisticRegression\n",
        "from sklearn.metrics import accuracy_score\n",
        "from sklearn.metrics import confusion_matrix\n",
        "logreg = LogisticRegression(C=1, max_iter = 2000)\n",
        "\n",
        "\n",
        "\n",
        "# train the model using X_train_dtm & y_train\n",
        "logreg.fit(X_train_dtm, y_train)\n",
        "# compute the training accuracy\n",
        "y_pred_train = logreg.predict(X_train_dtm)\n",
        "print('Training accuracy is {}'.format(accuracy_score(y_train, y_pred_train)))\n",
        "# compute the predicted probabilities for X_test_dtm\n",
        "y_pred_test = logreg.predict(X_test_dtm)\n",
        "print('Test accuracy is {}'.format(accuracy_score(y_test,y_pred_test)))\n",
        "print(confusion_matrix(y_test,y_pred_test))"
      ]
    },
    {
      "cell_type": "code",
      "execution_count": 33,
      "metadata": {
        "colab": {
          "base_uri": "https://localhost:8080/"
        },
        "id": "1569ALx5ADlL",
        "outputId": "c01eea47-3ce5-4d8a-e972-dc774cb16713"
      },
      "outputs": [
        {
          "name": "stdout",
          "output_type": "stream",
          "text": [
            "Not Toxic\n"
          ]
        }
      ],
      "source": [
        "output=logreg.predict(vect.transform(np.array([input('Sample Input text: ')])))\n",
        "output=str(output)\n",
        "if (output==\"[1]\"):\n",
        "  print('Toxic')\n",
        "elif (output==\"[0]\"):\n",
        "  print('Not Toxic')"
      ]
    },
    {
      "cell_type": "code",
      "execution_count": 34,
      "metadata": {
        "colab": {
          "base_uri": "https://localhost:8080/"
        },
        "id": "BSKcI4ke5eCg",
        "outputId": "7817adf5-16ba-4031-d27e-316094ed32b6"
      },
      "outputs": [
        {
          "data": {
            "text/plain": [
              "0.9563214789284036"
            ]
          },
          "execution_count": 34,
          "metadata": {},
          "output_type": "execute_result"
        }
      ],
      "source": [
        "\n",
        "(28507 + 2014)/(28507+2014+164+1230)"
      ]
    },
    {
      "cell_type": "code",
      "execution_count": 35,
      "metadata": {
        "colab": {
          "base_uri": "https://localhost:8080/",
          "height": 301
        },
        "id": "KX8wcQxb5xZP",
        "outputId": "30987d3b-d880-44ed-8ac9-e02abb553822"
      },
      "outputs": [
        {
          "data": {
            "image/png": "[encoded data removed]",
            "text/plain": [
              "<Figure size 432x288 with 1 Axes>"
            ]
          },
          "metadata": {},
          "output_type": "display_data"
        }
      ],
      "source": [
        "import sklearn.metrics as metrics\n",
        "# calculate the fpr and tpr for all thresholds of the classification\n",
        "probs = logreg.predict_proba(X_test_dtm)\n",
        "preds = probs[:,1]\n",
        "fpr, tpr, threshold = metrics.roc_curve(y_test, preds)\n",
        "roc_auc = metrics.auc(fpr, tpr)\n",
        "\n",
        "# method I: plt\n",
        "import matplotlib.pyplot as plt\n",
        "plt.title('Receiver Operating Characteristic')\n",
        "plt.plot(fpr, tpr, 'b', label = 'AUC = %0.2f' % roc_auc)\n",
        "plt.legend(loc = 'lower right')\n",
        "plt.plot([0, 1], [0, 1],'r--')\n",
        "plt.xlim([0, 1])\n",
        "plt.ylim([0, 1])\n",
        "plt.ylabel('True Positive Rate')\n",
        "plt.xlabel('False Positive Rate')\n",
        "plt.show()"
      ]
    },
    {
      "cell_type": "code",
      "execution_count": 36,
      "metadata": {
        "colab": {
          "base_uri": "https://localhost:8080/"
        },
        "id": "wnlGwCJm50Zf",
        "outputId": "52915f1f-08ba-4a3e-ce56-bde1c9c425f7"
      },
      "outputs": [
        {
          "name": "stdout",
          "output_type": "stream",
          "text": [
            "F1 score on Test data :  0.7428992991516045\n"
          ]
        }
      ],
      "source": [
        "from sklearn.metrics import f1_score\n",
        "\n",
        "\n",
        "print(\"F1 score on Test data : \" ,f1_score(y_test,y_pred_test))"
      ]
    },
    {
      "cell_type": "markdown",
      "metadata": {
        "id": "cb78NGMk5_ee"
      },
      "source": [
        "In case of Class Imbalance - we use F1 score as a general measure for the model performance\n",
        "Depending on the Business case - we need to fine tune the model\n",
        "\n",
        "There is a Precision vs Recall Trade off\n",
        "\n",
        "If you want to capture all toxic tweets - then some of the good tweets will be misclassified as bad tweets"
      ]
    },
    {
      "cell_type": "code",
      "execution_count": 37,
      "metadata": {
        "colab": {
          "base_uri": "https://localhost:8080/"
        },
        "id": "f62aKjBY54c3",
        "outputId": "39804fb4-c13d-41f7-a887-1b24a0a5ac3a"
      },
      "outputs": [
        {
          "name": "stdout",
          "output_type": "stream",
          "text": [
            "Test accuracy is 0.9515588281372396\n",
            "[[27777   894]\n",
            " [  652  2592]]\n",
            "F1 score on Test data :  0.7702823179791977\n"
          ]
        }
      ],
      "source": [
        "y_pred_test = logreg.predict_proba(X_test_dtm)[:,1]\n",
        "#print(y_pred_test)\n",
        "y_pred_test = y_pred_test >= 0.2 # by default it is 0.5\n",
        "y_pred_test = y_pred_test.astype(int)\n",
        "print('Test accuracy is {}'.format(accuracy_score(y_test,y_pred_test)))\n",
        "print(confusion_matrix(y_test,y_pred_test))\n",
        "print(\"F1 score on Test data : \" ,f1_score(y_test,y_pred_test))"
      ]
    },
    {
      "cell_type": "code",
      "execution_count": 38,
      "metadata": {
        "colab": {
          "base_uri": "https://localhost:8080/"
        },
        "id": "n94NGObf6DZH",
        "outputId": "e12e68ec-14d9-495f-cfe9-0b0a8a0e76b0"
      },
      "outputs": [
        {
          "name": "stderr",
          "output_type": "stream",
          "text": [
            "UsageError: Line magic function `%%time` not found.\n"
          ]
        }
      ],
      "source": [
        "#Using Decision Trees\n",
        "%%time \n",
        "\n",
        "from sklearn.metrics import f1_score\n",
        "from sklearn.tree import DecisionTreeClassifier \n",
        "\n",
        "dt_clf = DecisionTreeClassifier()\n",
        "# train the model using X_train_dtm & y_train\n",
        "dt_clf.fit(X_train_dtm, y_train)\n",
        "# compute the training accuracy\n",
        "y_pred_train = dt_clf.predict(X_train_dtm)\n",
        "print('Training accuracy is {}'.format(accuracy_score(y_train, y_pred_train)))\n",
        "# compute the predicted probabilities for X_test_dtm\n",
        "y_pred_test = dt_clf.predict(X_test_dtm)\n",
        "print('Test accuracy is {}'.format(accuracy_score(y_test,y_pred_test)))\n",
        "print(confusion_matrix(y_test,y_pred_test))\n",
        "print(\"F1 score on Test data : \" ,f1_score(y_test,y_pred_test))"
      ]
    },
    {
      "cell_type": "markdown",
      "metadata": {
        "id": "Gw3P4bUr6U2_"
      },
      "source": [
        "Using Ensemble of trees"
      ]
    },
    {
      "cell_type": "code",
      "execution_count": 39,
      "metadata": {
        "colab": {
          "base_uri": "https://localhost:8080/"
        },
        "id": "fkJwRyBp6Ksu",
        "outputId": "46f1e689-e00c-42ca-b142-bc9a05933ed7"
      },
      "outputs": [
        {
          "name": "stdout",
          "output_type": "stream",
          "text": [
            "Training accuracy is 0.9987544651250235\n",
            "Test accuracy is 0.9573554754817484\n",
            "[[28295   376]\n",
            " [  985  2259]]\n",
            "F1 score on Test data :  0.7684980438850144\n",
            "Wall time: 4min 32s\n"
          ]
        }
      ],
      "source": [
        "%%time \n",
        "from sklearn.metrics import f1_score\n",
        "from sklearn.ensemble import RandomForestClassifier \n",
        "from sklearn.tree import DecisionTreeClassifier \n",
        "\n",
        "rf_clf = RandomForestClassifier()\n",
        "\n",
        "# train the model using X_train_dtm & y_train\n",
        "rf_clf.fit(X_train_dtm, y_train)\n",
        "# compute the training accuracy\n",
        "y_pred_train = rf_clf.predict(X_train_dtm)\n",
        "print('Training accuracy is {}'.format(accuracy_score(y_train, y_pred_train)))\n",
        "# compute the predicted probabilities for X_test_dtm\n",
        "y_pred_test = rf_clf.predict(X_test_dtm)\n",
        "print('Test accuracy is {}'.format(accuracy_score(y_test,y_pred_test)))\n",
        "print(confusion_matrix(y_test,y_pred_test))\n",
        "print(\"F1 score on Test data : \" ,f1_score(y_test,y_pred_test))"
      ]
    },
    {
      "cell_type": "code",
      "execution_count": 40,
      "metadata": {
        "colab": {
          "base_uri": "https://localhost:8080/"
        },
        "id": "MR0efpDR6bLm",
        "outputId": "3a265a72-bd15-4fea-af2f-9c2acdd30ca8"
      },
      "outputs": [
        {
          "name": "stdout",
          "output_type": "stream",
          "text": [
            "Test accuracy is 0.8118752937490208\n",
            "[[22853  5818]\n",
            " [  186  3058]]\n",
            "F1 score on Test data :  0.5046204620462046\n"
          ]
        }
      ],
      "source": [
        "# Fine Tuning Random Forest \n",
        "\n",
        "y_pred_test = rf_clf.predict_proba(X_test_dtm)[:,1]\n",
        "y_pred_test = y_pred_test >= 0.05 # by default it is 0.5\n",
        "y_pred_test = y_pred_test.astype(int)\n",
        "print('Test accuracy is {}'.format(accuracy_score(y_test,y_pred_test)))\n",
        "print(confusion_matrix(y_test,y_pred_test))\n",
        "print(\"F1 score on Test data : \" ,f1_score(y_test,y_pred_test))"
      ]
    },
    {
      "cell_type": "code",
      "execution_count": 41,
      "metadata": {
        "colab": {
          "base_uri": "https://localhost:8080/"
        },
        "id": "m5vNA4DL7YUC",
        "outputId": "23253420-83e2-484e-c639-9fbb70710907"
      },
      "outputs": [
        {
          "name": "stdout",
          "output_type": "stream",
          "text": [
            "Training accuracy is 0.9755984834242025\n",
            "Test accuracy is 0.9530314898950337\n",
            "[[28144   527]\n",
            " [  972  2272]]\n",
            "F1 score on Test data :  0.7519443984775774\n",
            "Wall time: 607 ms\n"
          ]
        }
      ],
      "source": [
        "%%time\n",
        "from sklearn.metrics import f1_score\n",
        "from sklearn.linear_model  import PassiveAggressiveClassifier \n",
        "\n",
        "pa_clf = PassiveAggressiveClassifier()\n",
        "\n",
        "# train the model using X_train_dtm & y_train\n",
        "pa_clf.fit(X_train_dtm, y_train)\n",
        "# compute the training accuracy\n",
        "y_pred_train = pa_clf.predict(X_train_dtm)\n",
        "print('Training accuracy is {}'.format(accuracy_score(y_train, y_pred_train)))\n",
        "# compute the predicted probabilities for X_test_dtm\n",
        "y_pred_test = pa_clf.predict(X_test_dtm)\n",
        "print('Test accuracy is {}'.format(accuracy_score(y_test,y_pred_test)))\n",
        "print(confusion_matrix(y_test,y_pred_test))\n",
        "print(\"F1 score on Test data : \" ,f1_score(y_test,y_pred_test))"
      ]
    },
    {
      "cell_type": "code",
      "execution_count": 42,
      "metadata": {
        "colab": {
          "base_uri": "https://localhost:8080/"
        },
        "id": "iIZw72oX7Y87",
        "outputId": "ed1134a3-8264-4268-f2a6-f399b9aaf73a"
      },
      "outputs": [
        {
          "name": "stderr",
          "output_type": "stream",
          "text": [
            "C:\\Users\\shakt\\anaconda3\\envs\\vggfacemodel\\lib\\site-packages\\xgboost\\sklearn.py:1224: UserWarning: The use of label encoder in XGBClassifier is deprecated and will be removed in a future release. To remove this warning, do the following: 1) Pass option use_label_encoder=False when constructing XGBClassifier object; and 2) Encode your labels (y) as integers starting with 0, i.e. 0, 1, 2, ..., [num_class - 1].\n",
            "  warnings.warn(label_encoder_deprecation_msg, UserWarning)\n"
          ]
        },
        {
          "name": "stdout",
          "output_type": "stream",
          "text": [
            "[12:49:15] WARNING: C:/Users/Administrator/workspace/xgboost-win64_release_1.5.1/src/learner.cc:1115: Starting in XGBoost 1.3.0, the default evaluation metric used with the objective 'binary:logistic' was changed from 'error' to 'logloss'. Explicitly set eval_metric if you'd like to restore the old behavior.\n",
            "Training accuracy is 0.9605032274237012\n",
            "Test accuracy is 0.9544414851950493\n",
            "[[28513   158]\n",
            " [ 1296  1948]]\n",
            "F1 score on Test data :  0.7282242990654205\n",
            "Wall time: 18.3 s\n"
          ]
        }
      ],
      "source": [
        "%%time \n",
        "from sklearn.metrics import f1_score\n",
        "import xgboost \n",
        "\n",
        "xgb = xgboost.XGBClassifier()\n",
        "# train the model using X_train_dtm & y_train\n",
        "xgb.fit(X_train_dtm, y_train)\n",
        "# compute the training accuracy\n",
        "y_pred_train = xgb.predict(X_train_dtm)\n",
        "print('Training accuracy is {}'.format(accuracy_score(y_train, y_pred_train)))\n",
        "# compute the predicted probabilities for X_test_dtm\n",
        "y_pred_test = xgb.predict(X_test_dtm)\n",
        "print('Test accuracy is {}'.format(accuracy_score(y_test,y_pred_test)))\n",
        "print(confusion_matrix(y_test,y_pred_test))\n",
        "print(\"F1 score on Test data : \" ,f1_score(y_test,y_pred_test))\n"
      ]
    },
    {
      "cell_type": "code",
      "execution_count": 43,
      "metadata": {
        "colab": {
          "base_uri": "https://localhost:8080/"
        },
        "id": "X2V9hD2a7eLp",
        "outputId": "738903ea-0b7c-4344-da54-953bd4786293"
      },
      "outputs": [
        {
          "name": "stdout",
          "output_type": "stream",
          "text": [
            "Test accuracy is 0.8847877173742754\n",
            "[[25405  3266]\n",
            " [  411  2833]]\n",
            "F1 score on Test data :  0.6064433265546398\n"
          ]
        }
      ],
      "source": [
        "# Fine Tuning XGBOOST\n",
        "\n",
        "y_pred_test = xgb.predict_proba(X_test_dtm)[:,1]\n",
        "y_pred_test = y_pred_test >= 0.06 # by default it is 0.5\n",
        "y_pred_test = y_pred_test.astype(int)\n",
        "print('Test accuracy is {}'.format(accuracy_score(y_test,y_pred_test)))\n",
        "print(confusion_matrix(y_test,y_pred_test))\n",
        "print(\"F1 score on Test data : \" ,f1_score(y_test,y_pred_test))"
      ]
    },
    {
      "cell_type": "code",
      "execution_count": 44,
      "metadata": {
        "colab": {
          "base_uri": "https://localhost:8080/"
        },
        "id": "e9xxlvnh7h4E",
        "outputId": "6d1146ae-cc49-49bf-c8c1-0e76555601a4"
      },
      "outputs": [
        {
          "name": "stderr",
          "output_type": "stream",
          "text": [
            "C:\\Users\\shakt\\anaconda3\\envs\\vggfacemodel\\lib\\site-packages\\lightgbm\\engine.py:181: UserWarning: 'early_stopping_rounds' argument is deprecated and will be removed in a future release of LightGBM. Pass 'early_stopping()' callback via 'callbacks' argument instead.\n",
            "  _log_warning(\"'early_stopping_rounds' argument is deprecated and will be removed in a future release of LightGBM. \"\n"
          ]
        },
        {
          "name": "stdout",
          "output_type": "stream",
          "text": [
            "[LightGBM] [Warning] objective is set=binary, application=binary will be ignored. Current value: objective=binary\n",
            "[LightGBM] [Warning] objective is set=binary, application=binary will be ignored. Current value: objective=binary\n",
            "[LightGBM] [Warning] Auto-choosing col-wise multi-threading, the overhead of testing was 1.346368 seconds.\n",
            "You can set `force_col_wise=true` to remove the overhead.\n",
            "[LightGBM] [Warning] objective is set=binary, application=binary will be ignored. Current value: objective=binary\n",
            "[1]\tvalid_0's auc: 0.799381\n",
            "Training until validation scores don't improve for 10 rounds\n",
            "[2]\tvalid_0's auc: 0.842415\n",
            "[3]\tvalid_0's auc: 0.866246\n",
            "[4]\tvalid_0's auc: 0.872495\n",
            "[5]\tvalid_0's auc: 0.884018\n",
            "[6]\tvalid_0's auc: 0.887705\n",
            "[7]\tvalid_0's auc: 0.888553\n",
            "[8]\tvalid_0's auc: 0.893005\n",
            "[9]\tvalid_0's auc: 0.892921\n",
            "[10]\tvalid_0's auc: 0.894356\n",
            "[11]\tvalid_0's auc: 0.895582\n",
            "[12]\tvalid_0's auc: 0.895666\n",
            "[13]\tvalid_0's auc: 0.895692\n",
            "[14]\tvalid_0's auc: 0.896003\n",
            "[15]\tvalid_0's auc: 0.896534\n",
            "[16]\tvalid_0's auc: 0.897696\n",
            "[17]\tvalid_0's auc: 0.89956\n",
            "[18]\tvalid_0's auc: 0.900632\n",
            "[19]\tvalid_0's auc: 0.901152\n",
            "[20]\tvalid_0's auc: 0.902062\n",
            "[21]\tvalid_0's auc: 0.903436\n",
            "[22]\tvalid_0's auc: 0.903909\n",
            "[23]\tvalid_0's auc: 0.9054\n",
            "[24]\tvalid_0's auc: 0.906536\n",
            "[25]\tvalid_0's auc: 0.906696\n",
            "[26]\tvalid_0's auc: 0.908478\n",
            "[27]\tvalid_0's auc: 0.908942\n",
            "[28]\tvalid_0's auc: 0.909501\n",
            "[29]\tvalid_0's auc: 0.909827\n",
            "[30]\tvalid_0's auc: 0.91053\n",
            "[31]\tvalid_0's auc: 0.910478\n",
            "[32]\tvalid_0's auc: 0.910927\n",
            "[33]\tvalid_0's auc: 0.911481\n",
            "[34]\tvalid_0's auc: 0.911823\n",
            "[35]\tvalid_0's auc: 0.912382\n",
            "[36]\tvalid_0's auc: 0.913296\n",
            "[37]\tvalid_0's auc: 0.914119\n",
            "[38]\tvalid_0's auc: 0.914296\n",
            "[39]\tvalid_0's auc: 0.915484\n",
            "[40]\tvalid_0's auc: 0.91628\n",
            "[41]\tvalid_0's auc: 0.917959\n",
            "[42]\tvalid_0's auc: 0.918518\n",
            "[43]\tvalid_0's auc: 0.919311\n",
            "[44]\tvalid_0's auc: 0.920118\n",
            "[45]\tvalid_0's auc: 0.920752\n",
            "[46]\tvalid_0's auc: 0.921554\n",
            "[47]\tvalid_0's auc: 0.922456\n",
            "[48]\tvalid_0's auc: 0.923151\n",
            "[49]\tvalid_0's auc: 0.923441\n",
            "[50]\tvalid_0's auc: 0.92381\n",
            "[51]\tvalid_0's auc: 0.924388\n",
            "[52]\tvalid_0's auc: 0.924887\n",
            "[53]\tvalid_0's auc: 0.925538\n",
            "[54]\tvalid_0's auc: 0.92591\n",
            "[55]\tvalid_0's auc: 0.926452\n",
            "[56]\tvalid_0's auc: 0.926999\n",
            "[57]\tvalid_0's auc: 0.927435\n",
            "[58]\tvalid_0's auc: 0.927826\n",
            "[59]\tvalid_0's auc: 0.928352\n",
            "[60]\tvalid_0's auc: 0.928696\n",
            "[61]\tvalid_0's auc: 0.929263\n",
            "[62]\tvalid_0's auc: 0.929724\n",
            "[63]\tvalid_0's auc: 0.930057\n",
            "[64]\tvalid_0's auc: 0.930394\n",
            "[65]\tvalid_0's auc: 0.93089\n",
            "[66]\tvalid_0's auc: 0.931217\n",
            "[67]\tvalid_0's auc: 0.93164\n",
            "[68]\tvalid_0's auc: 0.93199\n",
            "[69]\tvalid_0's auc: 0.932343\n",
            "[70]\tvalid_0's auc: 0.932543\n",
            "[71]\tvalid_0's auc: 0.932868\n",
            "[72]\tvalid_0's auc: 0.933439\n",
            "[73]\tvalid_0's auc: 0.933579\n",
            "[74]\tvalid_0's auc: 0.934015\n",
            "[75]\tvalid_0's auc: 0.934188\n",
            "[76]\tvalid_0's auc: 0.934515\n",
            "[77]\tvalid_0's auc: 0.934544\n",
            "[78]\tvalid_0's auc: 0.934871\n",
            "[79]\tvalid_0's auc: 0.934889\n",
            "[80]\tvalid_0's auc: 0.934997\n",
            "[81]\tvalid_0's auc: 0.935411\n",
            "[82]\tvalid_0's auc: 0.936002\n",
            "[83]\tvalid_0's auc: 0.936628\n",
            "[84]\tvalid_0's auc: 0.936881\n",
            "[85]\tvalid_0's auc: 0.937112\n",
            "[86]\tvalid_0's auc: 0.937569\n",
            "[87]\tvalid_0's auc: 0.937873\n",
            "[88]\tvalid_0's auc: 0.938151\n",
            "[89]\tvalid_0's auc: 0.938436\n",
            "[90]\tvalid_0's auc: 0.938632\n",
            "[91]\tvalid_0's auc: 0.938864\n",
            "[92]\tvalid_0's auc: 0.939134\n",
            "[93]\tvalid_0's auc: 0.939312\n",
            "[94]\tvalid_0's auc: 0.939449\n",
            "[95]\tvalid_0's auc: 0.939464\n",
            "[96]\tvalid_0's auc: 0.939674\n",
            "[97]\tvalid_0's auc: 0.939726\n",
            "[98]\tvalid_0's auc: 0.939775\n",
            "[99]\tvalid_0's auc: 0.939959\n",
            "[100]\tvalid_0's auc: 0.940085\n",
            "[101]\tvalid_0's auc: 0.94045\n",
            "[102]\tvalid_0's auc: 0.940766\n",
            "[103]\tvalid_0's auc: 0.941022\n",
            "[104]\tvalid_0's auc: 0.941291\n",
            "[105]\tvalid_0's auc: 0.941703\n",
            "[106]\tvalid_0's auc: 0.942009\n",
            "[107]\tvalid_0's auc: 0.942194\n",
            "[108]\tvalid_0's auc: 0.942567\n",
            "[109]\tvalid_0's auc: 0.942804\n",
            "[110]\tvalid_0's auc: 0.943023\n",
            "[111]\tvalid_0's auc: 0.943203\n",
            "[112]\tvalid_0's auc: 0.943493\n",
            "[113]\tvalid_0's auc: 0.94368\n",
            "[114]\tvalid_0's auc: 0.943784\n",
            "[115]\tvalid_0's auc: 0.943983\n",
            "[116]\tvalid_0's auc: 0.94405\n",
            "[117]\tvalid_0's auc: 0.944251\n",
            "[118]\tvalid_0's auc: 0.944401\n",
            "[119]\tvalid_0's auc: 0.944641\n",
            "[120]\tvalid_0's auc: 0.944821\n",
            "[121]\tvalid_0's auc: 0.945114\n",
            "[122]\tvalid_0's auc: 0.945444\n",
            "[123]\tvalid_0's auc: 0.945717\n",
            "[124]\tvalid_0's auc: 0.945812\n",
            "[125]\tvalid_0's auc: 0.945955\n",
            "[126]\tvalid_0's auc: 0.946042\n",
            "[127]\tvalid_0's auc: 0.946332\n",
            "[128]\tvalid_0's auc: 0.946417\n",
            "[129]\tvalid_0's auc: 0.946517\n",
            "[130]\tvalid_0's auc: 0.94655\n",
            "[131]\tvalid_0's auc: 0.946777\n",
            "[132]\tvalid_0's auc: 0.946943\n",
            "[133]\tvalid_0's auc: 0.947068\n",
            "[134]\tvalid_0's auc: 0.947201\n",
            "[135]\tvalid_0's auc: 0.947303\n",
            "[136]\tvalid_0's auc: 0.947401\n",
            "[137]\tvalid_0's auc: 0.947531\n",
            "[138]\tvalid_0's auc: 0.947649\n",
            "[139]\tvalid_0's auc: 0.947733\n",
            "[140]\tvalid_0's auc: 0.947726\n",
            "[141]\tvalid_0's auc: 0.947938\n",
            "[142]\tvalid_0's auc: 0.948175\n",
            "[143]\tvalid_0's auc: 0.948181\n",
            "[144]\tvalid_0's auc: 0.948455\n",
            "[145]\tvalid_0's auc: 0.94861\n",
            "[146]\tvalid_0's auc: 0.94871\n",
            "[147]\tvalid_0's auc: 0.948847\n",
            "[148]\tvalid_0's auc: 0.948945\n",
            "[149]\tvalid_0's auc: 0.949136\n",
            "[150]\tvalid_0's auc: 0.949224\n",
            "[151]\tvalid_0's auc: 0.949356\n",
            "[152]\tvalid_0's auc: 0.949376\n",
            "[153]\tvalid_0's auc: 0.949467\n",
            "[154]\tvalid_0's auc: 0.949552\n",
            "[155]\tvalid_0's auc: 0.949575\n",
            "[156]\tvalid_0's auc: 0.949623\n",
            "[157]\tvalid_0's auc: 0.949657\n",
            "[158]\tvalid_0's auc: 0.949746\n",
            "[159]\tvalid_0's auc: 0.949823\n",
            "[160]\tvalid_0's auc: 0.950011\n",
            "[161]\tvalid_0's auc: 0.950171\n",
            "[162]\tvalid_0's auc: 0.950298\n",
            "[163]\tvalid_0's auc: 0.950447\n",
            "[164]\tvalid_0's auc: 0.9505\n",
            "[165]\tvalid_0's auc: 0.950556\n",
            "[166]\tvalid_0's auc: 0.950693\n",
            "[167]\tvalid_0's auc: 0.950824\n",
            "[168]\tvalid_0's auc: 0.950969\n",
            "[169]\tvalid_0's auc: 0.95103\n",
            "[170]\tvalid_0's auc: 0.951164\n",
            "[171]\tvalid_0's auc: 0.951221\n",
            "[172]\tvalid_0's auc: 0.951269\n",
            "[173]\tvalid_0's auc: 0.95133\n",
            "[174]\tvalid_0's auc: 0.951421\n",
            "[175]\tvalid_0's auc: 0.951519\n",
            "[176]\tvalid_0's auc: 0.951598\n",
            "[177]\tvalid_0's auc: 0.951693\n",
            "[178]\tvalid_0's auc: 0.95172\n",
            "[179]\tvalid_0's auc: 0.95179\n",
            "[180]\tvalid_0's auc: 0.951843\n",
            "[181]\tvalid_0's auc: 0.951991\n",
            "[182]\tvalid_0's auc: 0.952081\n",
            "[183]\tvalid_0's auc: 0.952209\n",
            "[184]\tvalid_0's auc: 0.952282\n",
            "[185]\tvalid_0's auc: 0.952339\n",
            "[186]\tvalid_0's auc: 0.952409\n",
            "[187]\tvalid_0's auc: 0.952516\n",
            "[188]\tvalid_0's auc: 0.952556\n",
            "[189]\tvalid_0's auc: 0.952613\n",
            "[190]\tvalid_0's auc: 0.952643\n",
            "[191]\tvalid_0's auc: 0.952729\n",
            "[192]\tvalid_0's auc: 0.952799\n",
            "[193]\tvalid_0's auc: 0.95277\n",
            "[194]\tvalid_0's auc: 0.952872\n",
            "[195]\tvalid_0's auc: 0.952922\n",
            "[196]\tvalid_0's auc: 0.952965\n",
            "[197]\tvalid_0's auc: 0.953035\n",
            "[198]\tvalid_0's auc: 0.953137\n",
            "[199]\tvalid_0's auc: 0.953208\n",
            "[200]\tvalid_0's auc: 0.95324\n",
            "[201]\tvalid_0's auc: 0.953317\n",
            "[202]\tvalid_0's auc: 0.953372\n",
            "[203]\tvalid_0's auc: 0.953365\n",
            "[204]\tvalid_0's auc: 0.953394\n",
            "[205]\tvalid_0's auc: 0.953533\n",
            "[206]\tvalid_0's auc: 0.953547\n",
            "[207]\tvalid_0's auc: 0.953651\n",
            "[208]\tvalid_0's auc: 0.953714\n",
            "[209]\tvalid_0's auc: 0.953763\n",
            "[210]\tvalid_0's auc: 0.953804\n",
            "[211]\tvalid_0's auc: 0.953858\n",
            "[212]\tvalid_0's auc: 0.953842\n",
            "[213]\tvalid_0's auc: 0.953873\n",
            "[214]\tvalid_0's auc: 0.953963\n",
            "[215]\tvalid_0's auc: 0.953973\n",
            "[216]\tvalid_0's auc: 0.954\n",
            "[217]\tvalid_0's auc: 0.954088\n",
            "[218]\tvalid_0's auc: 0.954126\n",
            "[219]\tvalid_0's auc: 0.954073\n",
            "[220]\tvalid_0's auc: 0.954122\n",
            "[221]\tvalid_0's auc: 0.954226\n",
            "[222]\tvalid_0's auc: 0.954294\n",
            "[223]\tvalid_0's auc: 0.954382\n",
            "[224]\tvalid_0's auc: 0.954476\n",
            "[225]\tvalid_0's auc: 0.954567\n",
            "[226]\tvalid_0's auc: 0.954651\n",
            "[227]\tvalid_0's auc: 0.954725\n",
            "[228]\tvalid_0's auc: 0.954795\n",
            "[229]\tvalid_0's auc: 0.954861\n",
            "[230]\tvalid_0's auc: 0.954876\n",
            "[231]\tvalid_0's auc: 0.954917\n",
            "[232]\tvalid_0's auc: 0.955001\n",
            "[233]\tvalid_0's auc: 0.95501\n",
            "[234]\tvalid_0's auc: 0.955067\n",
            "[235]\tvalid_0's auc: 0.955039\n",
            "[236]\tvalid_0's auc: 0.955077\n",
            "[237]\tvalid_0's auc: 0.955142\n",
            "[238]\tvalid_0's auc: 0.955183\n",
            "[239]\tvalid_0's auc: 0.955186\n",
            "[240]\tvalid_0's auc: 0.955209\n",
            "[241]\tvalid_0's auc: 0.955304\n",
            "[242]\tvalid_0's auc: 0.955367\n",
            "[243]\tvalid_0's auc: 0.95543\n",
            "[244]\tvalid_0's auc: 0.955511\n",
            "[245]\tvalid_0's auc: 0.955667\n",
            "[246]\tvalid_0's auc: 0.955708\n",
            "[247]\tvalid_0's auc: 0.955734\n",
            "[248]\tvalid_0's auc: 0.955761\n",
            "[249]\tvalid_0's auc: 0.955768\n",
            "[250]\tvalid_0's auc: 0.955803\n",
            "[251]\tvalid_0's auc: 0.955819\n",
            "[252]\tvalid_0's auc: 0.95593\n",
            "[253]\tvalid_0's auc: 0.955958\n",
            "[254]\tvalid_0's auc: 0.955952\n",
            "[255]\tvalid_0's auc: 0.955933\n",
            "[256]\tvalid_0's auc: 0.956004\n",
            "[257]\tvalid_0's auc: 0.956048\n",
            "[258]\tvalid_0's auc: 0.956076\n",
            "[259]\tvalid_0's auc: 0.956146\n",
            "[260]\tvalid_0's auc: 0.956169\n",
            "[261]\tvalid_0's auc: 0.95624\n",
            "[262]\tvalid_0's auc: 0.956258\n",
            "[263]\tvalid_0's auc: 0.956347\n",
            "[264]\tvalid_0's auc: 0.956395\n",
            "[265]\tvalid_0's auc: 0.956434\n",
            "[266]\tvalid_0's auc: 0.956426\n",
            "[267]\tvalid_0's auc: 0.956478\n",
            "[268]\tvalid_0's auc: 0.956564\n",
            "[269]\tvalid_0's auc: 0.956583\n",
            "[270]\tvalid_0's auc: 0.956605\n",
            "[271]\tvalid_0's auc: 0.956609\n",
            "[272]\tvalid_0's auc: 0.956653\n",
            "[273]\tvalid_0's auc: 0.9567\n",
            "[274]\tvalid_0's auc: 0.956736\n",
            "[275]\tvalid_0's auc: 0.956757\n",
            "[276]\tvalid_0's auc: 0.956782\n",
            "[277]\tvalid_0's auc: 0.956791\n",
            "[278]\tvalid_0's auc: 0.956838\n",
            "[279]\tvalid_0's auc: 0.956871\n",
            "[280]\tvalid_0's auc: 0.956905\n",
            "[281]\tvalid_0's auc: 0.957035\n",
            "[282]\tvalid_0's auc: 0.957124\n",
            "[283]\tvalid_0's auc: 0.957124\n",
            "[284]\tvalid_0's auc: 0.957142\n",
            "[285]\tvalid_0's auc: 0.957215\n",
            "[286]\tvalid_0's auc: 0.957275\n",
            "[287]\tvalid_0's auc: 0.957295\n",
            "[288]\tvalid_0's auc: 0.957297\n",
            "[289]\tvalid_0's auc: 0.957286\n",
            "[290]\tvalid_0's auc: 0.957318\n",
            "[291]\tvalid_0's auc: 0.957341\n",
            "[292]\tvalid_0's auc: 0.957352\n",
            "[293]\tvalid_0's auc: 0.957399\n",
            "[294]\tvalid_0's auc: 0.957385\n",
            "[295]\tvalid_0's auc: 0.957434\n",
            "[296]\tvalid_0's auc: 0.957462\n",
            "[297]\tvalid_0's auc: 0.957473\n",
            "[298]\tvalid_0's auc: 0.95748\n",
            "[299]\tvalid_0's auc: 0.957509\n",
            "[300]\tvalid_0's auc: 0.957549\n",
            "[301]\tvalid_0's auc: 0.957588\n",
            "[302]\tvalid_0's auc: 0.957613\n",
            "[303]\tvalid_0's auc: 0.957639\n",
            "[304]\tvalid_0's auc: 0.95766\n",
            "[305]\tvalid_0's auc: 0.957676\n",
            "[306]\tvalid_0's auc: 0.957732\n",
            "[307]\tvalid_0's auc: 0.957753\n",
            "[308]\tvalid_0's auc: 0.957784\n",
            "[309]\tvalid_0's auc: 0.957755\n",
            "[310]\tvalid_0's auc: 0.957782\n",
            "[311]\tvalid_0's auc: 0.957752\n",
            "[312]\tvalid_0's auc: 0.957776\n",
            "[313]\tvalid_0's auc: 0.957788\n",
            "[314]\tvalid_0's auc: 0.957799\n",
            "[315]\tvalid_0's auc: 0.957782\n",
            "[316]\tvalid_0's auc: 0.957813\n",
            "[317]\tvalid_0's auc: 0.957777\n",
            "[318]\tvalid_0's auc: 0.957768\n",
            "[319]\tvalid_0's auc: 0.957765\n",
            "[320]\tvalid_0's auc: 0.957812\n",
            "[321]\tvalid_0's auc: 0.957869\n",
            "[322]\tvalid_0's auc: 0.957926\n",
            "[323]\tvalid_0's auc: 0.957962\n",
            "[324]\tvalid_0's auc: 0.95801\n",
            "[325]\tvalid_0's auc: 0.958062\n",
            "[326]\tvalid_0's auc: 0.958076\n",
            "[327]\tvalid_0's auc: 0.958162\n",
            "[328]\tvalid_0's auc: 0.958203\n",
            "[329]\tvalid_0's auc: 0.958207\n",
            "[330]\tvalid_0's auc: 0.95825\n",
            "[331]\tvalid_0's auc: 0.958289\n",
            "[332]\tvalid_0's auc: 0.958285\n",
            "[333]\tvalid_0's auc: 0.958271\n",
            "[334]\tvalid_0's auc: 0.958291\n",
            "[335]\tvalid_0's auc: 0.958277\n",
            "[336]\tvalid_0's auc: 0.958306\n",
            "[337]\tvalid_0's auc: 0.958338\n",
            "[338]\tvalid_0's auc: 0.958358\n",
            "[339]\tvalid_0's auc: 0.958421\n",
            "[340]\tvalid_0's auc: 0.958405\n",
            "[341]\tvalid_0's auc: 0.95847\n",
            "[342]\tvalid_0's auc: 0.958522\n",
            "[343]\tvalid_0's auc: 0.958574\n",
            "[344]\tvalid_0's auc: 0.958606\n",
            "[345]\tvalid_0's auc: 0.958709\n",
            "[346]\tvalid_0's auc: 0.95875\n",
            "[347]\tvalid_0's auc: 0.958782\n",
            "[348]\tvalid_0's auc: 0.958813\n",
            "[349]\tvalid_0's auc: 0.958815\n",
            "[350]\tvalid_0's auc: 0.958852\n",
            "[351]\tvalid_0's auc: 0.95886\n",
            "[352]\tvalid_0's auc: 0.958902\n",
            "[353]\tvalid_0's auc: 0.958931\n",
            "[354]\tvalid_0's auc: 0.958928\n",
            "[355]\tvalid_0's auc: 0.958974\n",
            "[356]\tvalid_0's auc: 0.959\n",
            "[357]\tvalid_0's auc: 0.959005\n",
            "[358]\tvalid_0's auc: 0.959016\n",
            "[359]\tvalid_0's auc: 0.95908\n",
            "[360]\tvalid_0's auc: 0.959119\n",
            "[361]\tvalid_0's auc: 0.959154\n",
            "[362]\tvalid_0's auc: 0.959147\n",
            "[363]\tvalid_0's auc: 0.959139\n",
            "[364]\tvalid_0's auc: 0.959193\n",
            "[365]\tvalid_0's auc: 0.959245\n",
            "[366]\tvalid_0's auc: 0.959231\n",
            "[367]\tvalid_0's auc: 0.959259\n",
            "[368]\tvalid_0's auc: 0.959233\n",
            "[369]\tvalid_0's auc: 0.959246\n",
            "[370]\tvalid_0's auc: 0.959213\n",
            "[371]\tvalid_0's auc: 0.959269\n",
            "[372]\tvalid_0's auc: 0.959267\n",
            "[373]\tvalid_0's auc: 0.959252\n",
            "[374]\tvalid_0's auc: 0.959237\n",
            "[375]\tvalid_0's auc: 0.959278\n",
            "[376]\tvalid_0's auc: 0.959221\n",
            "[377]\tvalid_0's auc: 0.959231\n",
            "[378]\tvalid_0's auc: 0.959212\n",
            "[379]\tvalid_0's auc: 0.959211\n",
            "[380]\tvalid_0's auc: 0.959193\n",
            "[381]\tvalid_0's auc: 0.959236\n",
            "[382]\tvalid_0's auc: 0.959256\n",
            "[383]\tvalid_0's auc: 0.959292\n",
            "[384]\tvalid_0's auc: 0.959346\n",
            "[385]\tvalid_0's auc: 0.959378\n",
            "[386]\tvalid_0's auc: 0.959384\n",
            "[387]\tvalid_0's auc: 0.959405\n",
            "[388]\tvalid_0's auc: 0.959426\n",
            "[389]\tvalid_0's auc: 0.959421\n",
            "[390]\tvalid_0's auc: 0.959386\n",
            "[391]\tvalid_0's auc: 0.95939\n",
            "[392]\tvalid_0's auc: 0.959415\n",
            "[393]\tvalid_0's auc: 0.95942\n",
            "[394]\tvalid_0's auc: 0.959424\n",
            "[395]\tvalid_0's auc: 0.95942\n",
            "[396]\tvalid_0's auc: 0.959426\n",
            "[397]\tvalid_0's auc: 0.959461\n",
            "[398]\tvalid_0's auc: 0.959506\n",
            "[399]\tvalid_0's auc: 0.959505\n",
            "[400]\tvalid_0's auc: 0.959494\n",
            "[401]\tvalid_0's auc: 0.959524\n",
            "[402]\tvalid_0's auc: 0.959523\n",
            "[403]\tvalid_0's auc: 0.959552\n",
            "[404]\tvalid_0's auc: 0.959569\n",
            "[405]\tvalid_0's auc: 0.959602\n",
            "[406]\tvalid_0's auc: 0.959658\n",
            "[407]\tvalid_0's auc: 0.959674\n",
            "[408]\tvalid_0's auc: 0.959678\n",
            "[409]\tvalid_0's auc: 0.959703\n",
            "[410]\tvalid_0's auc: 0.959726\n",
            "[411]\tvalid_0's auc: 0.959721\n",
            "[412]\tvalid_0's auc: 0.959718\n",
            "[413]\tvalid_0's auc: 0.959734\n",
            "[414]\tvalid_0's auc: 0.95976\n",
            "[415]\tvalid_0's auc: 0.959787\n",
            "[416]\tvalid_0's auc: 0.959776\n",
            "[417]\tvalid_0's auc: 0.959777\n",
            "[418]\tvalid_0's auc: 0.959752\n",
            "[419]\tvalid_0's auc: 0.959784\n",
            "[420]\tvalid_0's auc: 0.959801\n",
            "[421]\tvalid_0's auc: 0.95985\n",
            "[422]\tvalid_0's auc: 0.959867\n",
            "[423]\tvalid_0's auc: 0.959896\n",
            "[424]\tvalid_0's auc: 0.959911\n",
            "[425]\tvalid_0's auc: 0.959923\n",
            "[426]\tvalid_0's auc: 0.959954\n",
            "[427]\tvalid_0's auc: 0.959934\n",
            "[428]\tvalid_0's auc: 0.959927\n",
            "[429]\tvalid_0's auc: 0.95988\n",
            "[430]\tvalid_0's auc: 0.959916\n",
            "[431]\tvalid_0's auc: 0.959937\n",
            "[432]\tvalid_0's auc: 0.959976\n",
            "[433]\tvalid_0's auc: 0.959993\n",
            "[434]\tvalid_0's auc: 0.960062\n",
            "[435]\tvalid_0's auc: 0.960091\n",
            "[436]\tvalid_0's auc: 0.960115\n",
            "[437]\tvalid_0's auc: 0.960138\n",
            "[438]\tvalid_0's auc: 0.960126\n",
            "[439]\tvalid_0's auc: 0.960119\n",
            "[440]\tvalid_0's auc: 0.960122\n",
            "[441]\tvalid_0's auc: 0.960134\n",
            "[442]\tvalid_0's auc: 0.960117\n",
            "[443]\tvalid_0's auc: 0.960133\n",
            "[444]\tvalid_0's auc: 0.960141\n",
            "[445]\tvalid_0's auc: 0.960145\n",
            "[446]\tvalid_0's auc: 0.960156\n",
            "[447]\tvalid_0's auc: 0.96017\n",
            "[448]\tvalid_0's auc: 0.960173\n",
            "[449]\tvalid_0's auc: 0.960181\n",
            "[450]\tvalid_0's auc: 0.960223\n",
            "[451]\tvalid_0's auc: 0.96019\n",
            "[452]\tvalid_0's auc: 0.960204\n",
            "[453]\tvalid_0's auc: 0.960228\n",
            "[454]\tvalid_0's auc: 0.960248\n",
            "[455]\tvalid_0's auc: 0.960245\n",
            "[456]\tvalid_0's auc: 0.96024\n",
            "[457]\tvalid_0's auc: 0.960214\n",
            "[458]\tvalid_0's auc: 0.960221\n",
            "[459]\tvalid_0's auc: 0.960232\n",
            "[460]\tvalid_0's auc: 0.960227\n",
            "[461]\tvalid_0's auc: 0.960241\n",
            "[462]\tvalid_0's auc: 0.960245\n",
            "[463]\tvalid_0's auc: 0.960258\n",
            "[464]\tvalid_0's auc: 0.960304\n",
            "[465]\tvalid_0's auc: 0.9603\n",
            "[466]\tvalid_0's auc: 0.960314\n",
            "[467]\tvalid_0's auc: 0.960291\n",
            "[468]\tvalid_0's auc: 0.960299\n",
            "[469]\tvalid_0's auc: 0.960304\n",
            "[470]\tvalid_0's auc: 0.960311\n",
            "[471]\tvalid_0's auc: 0.960299\n",
            "[472]\tvalid_0's auc: 0.960279\n",
            "[473]\tvalid_0's auc: 0.960299\n",
            "[474]\tvalid_0's auc: 0.960291\n",
            "[475]\tvalid_0's auc: 0.96029\n",
            "[476]\tvalid_0's auc: 0.960336\n",
            "[477]\tvalid_0's auc: 0.960334\n",
            "[478]\tvalid_0's auc: 0.960282\n",
            "[479]\tvalid_0's auc: 0.960254\n",
            "[480]\tvalid_0's auc: 0.960277\n",
            "[481]\tvalid_0's auc: 0.960293\n",
            "[482]\tvalid_0's auc: 0.960318\n",
            "[483]\tvalid_0's auc: 0.960335\n",
            "[484]\tvalid_0's auc: 0.960309\n",
            "[485]\tvalid_0's auc: 0.960317\n",
            "[486]\tvalid_0's auc: 0.960299\n",
            "Early stopping, best iteration is:\n",
            "[476]\tvalid_0's auc: 0.960336\n"
          ]
        }
      ],
      "source": [
        "import lightgbm \n",
        "\n",
        "parameters = {\n",
        "    'application': 'binary',\n",
        "    'objective': 'binary',\n",
        "    'metric': 'auc',\n",
        "    'is_unbalance': 'true',\n",
        "    'boosting': 'gbdt',\n",
        "    'num_leaves': 31,\n",
        "    'feature_fraction': 0.5,\n",
        "    'bagging_fraction': 0.5,\n",
        "    'bagging_freq': 20,\n",
        "    'learning_rate': 0.05,\n",
        "    'verbose': 0\n",
        "}\n",
        "\n",
        "train_data = lightgbm.Dataset(X_train_dtm, label=y_train)\n",
        "test_data = lightgbm.Dataset(X_test_dtm, label=y_test)\n",
        "\n",
        "clf = lightgbm.train(parameters,\n",
        "                       train_data,\n",
        "                       valid_sets=test_data,\n",
        "                       num_boost_round=500,\n",
        "                       early_stopping_rounds=10)"
      ]
    },
    {
      "cell_type": "code",
      "execution_count": 45,
      "metadata": {
        "colab": {
          "base_uri": "https://localhost:8080/"
        },
        "id": "pqRTO_7T74nA",
        "outputId": "099e154f-6399-4746-c0ea-b7d3880afe69"
      },
      "outputs": [
        {
          "name": "stdout",
          "output_type": "stream",
          "text": [
            "Test accuracy is 0.899138336205546\n",
            "[[25799  2872]\n",
            " [  347  2897]]\n",
            "F1 score on Test data :  0.642849217796516\n"
          ]
        }
      ],
      "source": [
        "# Fine Tuning LIGHT GBM\n",
        "\n",
        "y_pred_test = clf.predict(X_test_dtm)\n",
        "y_pred_test = y_pred_test >= 0.35 # by default it is 0.5\n",
        "y_pred_test = y_pred_test.astype(int)\n",
        "print('Test accuracy is {}'.format(accuracy_score(y_test,y_pred_test)))\n",
        "print(confusion_matrix(y_test,y_pred_test))\n",
        "print(\"F1 score on Test data : \" ,f1_score(y_test,y_pred_test))"
      ]
    },
    {
      "cell_type": "code",
      "execution_count": 46,
      "metadata": {
        "colab": {
          "base_uri": "https://localhost:8080/"
        },
        "id": "DuFQeBb1-mNV",
        "outputId": "ee86ce36-758f-4cef-a5b6-76d3aa821560"
      },
      "outputs": [
        {
          "name": "stdout",
          "output_type": "stream",
          "text": [
            "Requirement already satisfied: eli5 in c:\\users\\shakt\\anaconda3\\envs\\vggfacemodel\\lib\\site-packages (0.11.0)\n",
            "Requirement already satisfied: attrs>16.0.0 in c:\\users\\shakt\\anaconda3\\envs\\vggfacemodel\\lib\\site-packages (from eli5) (20.3.0)\n",
            "Requirement already satisfied: numpy>=1.9.0 in c:\\users\\shakt\\anaconda3\\envs\\vggfacemodel\\lib\\site-packages (from eli5) (1.19.5)\n",
            "Requirement already satisfied: six in c:\\users\\shakt\\anaconda3\\envs\\vggfacemodel\\lib\\site-packages (from eli5) (1.15.0)\n",
            "Requirement already satisfied: graphviz in c:\\users\\shakt\\anaconda3\\envs\\vggfacemodel\\lib\\site-packages (from eli5) (0.19.1)\n",
            "Requirement already satisfied: tabulate>=0.7.7 in c:\\users\\shakt\\anaconda3\\envs\\vggfacemodel\\lib\\site-packages (from eli5) (0.8.9)\n",
            "Requirement already satisfied: scikit-learn>=0.20 in c:\\users\\shakt\\anaconda3\\envs\\vggfacemodel\\lib\\site-packages (from eli5) (0.24.1)\n",
            "Requirement already satisfied: jinja2 in c:\\users\\shakt\\anaconda3\\envs\\vggfacemodel\\lib\\site-packages (from eli5) (2.11.3)\n",
            "Requirement already satisfied: scipy in c:\\users\\shakt\\anaconda3\\envs\\vggfacemodel\\lib\\site-packages (from eli5) (1.6.2)\n",
            "Requirement already satisfied: threadpoolctl>=2.0.0 in c:\\users\\shakt\\anaconda3\\envs\\vggfacemodel\\lib\\site-packages (from scikit-learn>=0.20->eli5) (2.1.0)\n",
            "Requirement already satisfied: joblib>=0.11 in c:\\users\\shakt\\anaconda3\\envs\\vggfacemodel\\lib\\site-packages (from scikit-learn>=0.20->eli5) (1.0.1)\n",
            "Requirement already satisfied: MarkupSafe>=0.23 in c:\\users\\shakt\\anaconda3\\envs\\vggfacemodel\\lib\\site-packages (from jinja2->eli5) (1.1.1)\n",
            "Note: you may need to restart the kernel to use updated packages.\n"
          ]
        }
      ],
      "source": [
        "pip install eli5"
      ]
    },
    {
      "cell_type": "code",
      "execution_count": 47,
      "metadata": {
        "colab": {
          "base_uri": "https://localhost:8080/",
          "height": 440
        },
        "id": "NkokOpnm8A3Z",
        "outputId": "2f0a7dc0-3ef9-4a0d-bdb0-0eb7e76b9e98"
      },
      "outputs": [
        {
          "data": {
            "text/html": [
              "\n",
              "    <style>\n",
              "    table.eli5-weights tr:hover {\n",
              "        filter: brightness(85%);\n",
              "    }\n",
              "</style>\n",
              "\n",
              "\n",
              "\n",
              "    \n",
              "\n",
              "    \n",
              "\n",
              "    \n",
              "\n",
              "    \n",
              "\n",
              "    \n",
              "\n",
              "    \n",
              "\n",
              "\n",
              "    \n",
              "\n",
              "    \n",
              "\n",
              "    \n",
              "\n",
              "    \n",
              "        \n",
              "\n",
              "    \n",
              "\n",
              "        \n",
              "            \n",
              "                \n",
              "                \n",
              "    \n",
              "        <p style=\"margin-bottom: 0.5em; margin-top: 0em\">\n",
              "            <b>\n",
              "    \n",
              "        y=1\n",
              "    \n",
              "</b>\n",
              "\n",
              "top features\n",
              "        </p>\n",
              "    \n",
              "    <table class=\"eli5-weights\"\n",
              "           style=\"border-collapse: collapse; border: none; margin-top: 0em; table-layout: auto; margin-bottom: 2em;\">\n",
              "        <thead>\n",
              "        <tr style=\"border: none;\">\n",
              "            \n",
              "                <th style=\"padding: 0 1em 0 0.5em; text-align: right; border: none;\" title=\"Feature weights. Note that weights do not account for feature value scales, so if feature values have different scales, features with highest weights might not be the most important.\">\n",
              "                    Weight<sup>?</sup>\n",
              "                </th>\n",
              "            \n",
              "            <th style=\"padding: 0 0.5em 0 0.5em; text-align: left; border: none;\">Feature</th>\n",
              "            \n",
              "        </tr>\n",
              "        </thead>\n",
              "        <tbody>\n",
              "        \n",
              "            <tr style=\"background-color: hsl(120, 100.00%, 80.00%); border: none;\">\n",
              "    <td style=\"padding: 0 1em 0 0.5em; text-align: right; border: none;\">\n",
              "        +16.643\n",
              "    </td>\n",
              "    <td style=\"padding: 0 0.5em 0 0.5em; text-align: left; border: none;\">\n",
              "        fuck\n",
              "    </td>\n",
              "    \n",
              "</tr>\n",
              "        \n",
              "            <tr style=\"background-color: hsl(120, 100.00%, 82.75%); border: none;\">\n",
              "    <td style=\"padding: 0 1em 0 0.5em; text-align: right; border: none;\">\n",
              "        +13.475\n",
              "    </td>\n",
              "    <td style=\"padding: 0 0.5em 0 0.5em; text-align: left; border: none;\">\n",
              "        fucking\n",
              "    </td>\n",
              "    \n",
              "</tr>\n",
              "        \n",
              "            <tr style=\"background-color: hsl(120, 100.00%, 83.98%); border: none;\">\n",
              "    <td style=\"padding: 0 1em 0 0.5em; text-align: right; border: none;\">\n",
              "        +12.117\n",
              "    </td>\n",
              "    <td style=\"padding: 0 0.5em 0 0.5em; text-align: left; border: none;\">\n",
              "        shit\n",
              "    </td>\n",
              "    \n",
              "</tr>\n",
              "        \n",
              "            <tr style=\"background-color: hsl(120, 100.00%, 84.40%); border: none;\">\n",
              "    <td style=\"padding: 0 1em 0 0.5em; text-align: right; border: none;\">\n",
              "        +11.670\n",
              "    </td>\n",
              "    <td style=\"padding: 0 0.5em 0 0.5em; text-align: left; border: none;\">\n",
              "        idiot\n",
              "    </td>\n",
              "    \n",
              "</tr>\n",
              "        \n",
              "            <tr style=\"background-color: hsl(120, 100.00%, 85.01%); border: none;\">\n",
              "    <td style=\"padding: 0 1em 0 0.5em; text-align: right; border: none;\">\n",
              "        +11.024\n",
              "    </td>\n",
              "    <td style=\"padding: 0 0.5em 0 0.5em; text-align: left; border: none;\">\n",
              "        stupid\n",
              "    </td>\n",
              "    \n",
              "</tr>\n",
              "        \n",
              "            <tr style=\"background-color: hsl(120, 100.00%, 85.64%); border: none;\">\n",
              "    <td style=\"padding: 0 1em 0 0.5em; text-align: right; border: none;\">\n",
              "        +10.370\n",
              "    </td>\n",
              "    <td style=\"padding: 0 0.5em 0 0.5em; text-align: left; border: none;\">\n",
              "        ass\n",
              "    </td>\n",
              "    \n",
              "</tr>\n",
              "        \n",
              "            <tr style=\"background-color: hsl(120, 100.00%, 86.76%); border: none;\">\n",
              "    <td style=\"padding: 0 1em 0 0.5em; text-align: right; border: none;\">\n",
              "        +9.229\n",
              "    </td>\n",
              "    <td style=\"padding: 0 0.5em 0 0.5em; text-align: left; border: none;\">\n",
              "        asshole\n",
              "    </td>\n",
              "    \n",
              "</tr>\n",
              "        \n",
              "            <tr style=\"background-color: hsl(120, 100.00%, 87.09%); border: none;\">\n",
              "    <td style=\"padding: 0 1em 0 0.5em; text-align: right; border: none;\">\n",
              "        +8.903\n",
              "    </td>\n",
              "    <td style=\"padding: 0 0.5em 0 0.5em; text-align: left; border: none;\">\n",
              "        bullshit\n",
              "    </td>\n",
              "    \n",
              "</tr>\n",
              "        \n",
              "            <tr style=\"background-color: hsl(120, 100.00%, 87.22%); border: none;\">\n",
              "    <td style=\"padding: 0 1em 0 0.5em; text-align: right; border: none;\">\n",
              "        +8.776\n",
              "    </td>\n",
              "    <td style=\"padding: 0 0.5em 0 0.5em; text-align: left; border: none;\">\n",
              "        suck\n",
              "    </td>\n",
              "    \n",
              "</tr>\n",
              "        \n",
              "            <tr style=\"background-color: hsl(120, 100.00%, 87.31%); border: none;\">\n",
              "    <td style=\"padding: 0 1em 0 0.5em; text-align: right; border: none;\">\n",
              "        +8.692\n",
              "    </td>\n",
              "    <td style=\"padding: 0 0.5em 0 0.5em; text-align: left; border: none;\">\n",
              "        bitch\n",
              "    </td>\n",
              "    \n",
              "</tr>\n",
              "        \n",
              "            <tr style=\"background-color: hsl(120, 100.00%, 87.82%); border: none;\">\n",
              "    <td style=\"padding: 0 1em 0 0.5em; text-align: right; border: none;\">\n",
              "        +8.193\n",
              "    </td>\n",
              "    <td style=\"padding: 0 0.5em 0 0.5em; text-align: left; border: none;\">\n",
              "        crap\n",
              "    </td>\n",
              "    \n",
              "</tr>\n",
              "        \n",
              "            <tr style=\"background-color: hsl(120, 100.00%, 88.54%); border: none;\">\n",
              "    <td style=\"padding: 0 1em 0 0.5em; text-align: right; border: none;\">\n",
              "        +7.511\n",
              "    </td>\n",
              "    <td style=\"padding: 0 0.5em 0 0.5em; text-align: left; border: none;\">\n",
              "        dick\n",
              "    </td>\n",
              "    \n",
              "</tr>\n",
              "        \n",
              "            <tr style=\"background-color: hsl(120, 100.00%, 88.57%); border: none;\">\n",
              "    <td style=\"padding: 0 1em 0 0.5em; text-align: right; border: none;\">\n",
              "        +7.482\n",
              "    </td>\n",
              "    <td style=\"padding: 0 0.5em 0 0.5em; text-align: left; border: none;\">\n",
              "        faggot\n",
              "    </td>\n",
              "    \n",
              "</tr>\n",
              "        \n",
              "            <tr style=\"background-color: hsl(120, 100.00%, 88.60%); border: none;\">\n",
              "    <td style=\"padding: 0 1em 0 0.5em; text-align: right; border: none;\">\n",
              "        +7.460\n",
              "    </td>\n",
              "    <td style=\"padding: 0 0.5em 0 0.5em; text-align: left; border: none;\">\n",
              "        cunt\n",
              "    </td>\n",
              "    \n",
              "</tr>\n",
              "        \n",
              "            <tr style=\"background-color: hsl(120, 100.00%, 88.70%); border: none;\">\n",
              "    <td style=\"padding: 0 1em 0 0.5em; text-align: right; border: none;\">\n",
              "        +7.364\n",
              "    </td>\n",
              "    <td style=\"padding: 0 0.5em 0 0.5em; text-align: left; border: none;\">\n",
              "        moron\n",
              "    </td>\n",
              "    \n",
              "</tr>\n",
              "        \n",
              "        \n",
              "            <tr style=\"background-color: hsl(120, 100.00%, 88.70%); border: none;\">\n",
              "                <td colspan=\"2\" style=\"padding: 0 0.5em 0 0.5em; text-align: center; border: none; white-space: nowrap;\">\n",
              "                    <i>&hellip; 3601 more positive &hellip;</i>\n",
              "                </td>\n",
              "            </tr>\n",
              "        \n",
              "\n",
              "        \n",
              "            <tr style=\"background-color: hsl(0, 100.00%, 80.00%); border: none;\">\n",
              "                <td colspan=\"2\" style=\"padding: 0 0.5em 0 0.5em; text-align: center; border: none; white-space: nowrap;\">\n",
              "                    <i>&hellip; 6385 more negative &hellip;</i>\n",
              "                </td>\n",
              "            </tr>\n",
              "        \n",
              "        \n",
              "\n",
              "        </tbody>\n",
              "    </table>\n",
              "\n",
              "            \n",
              "        \n",
              "\n",
              "        \n",
              "\n",
              "\n",
              "\n",
              "    \n",
              "\n",
              "    \n",
              "\n",
              "    \n",
              "\n",
              "    \n",
              "\n",
              "\n",
              "    \n",
              "\n",
              "    \n",
              "\n",
              "    \n",
              "\n",
              "    \n",
              "\n",
              "    \n",
              "\n",
              "    \n",
              "\n",
              "\n",
              "    \n",
              "\n",
              "    \n",
              "\n",
              "    \n",
              "\n",
              "    \n",
              "\n",
              "    \n",
              "\n",
              "    \n",
              "\n",
              "\n",
              "\n"
            ],
            "text/plain": [
              "<IPython.core.display.HTML object>"
            ]
          },
          "execution_count": 47,
          "metadata": {},
          "output_type": "execute_result"
        }
      ],
      "source": [
        "import eli5\n",
        "\n",
        "eli5.show_weights(logreg,vec = vect, top = 15)  # logistic regression\n",
        "# will give you top 15 features or words  which makes a comment toxic "
      ]
    },
    {
      "cell_type": "code",
      "execution_count": 48,
      "metadata": {
        "colab": {
          "base_uri": "https://localhost:8080/",
          "height": 366
        },
        "id": "jM18tFY38BsC",
        "outputId": "9aa6ff39-0984-4154-a44c-d43facf2add9"
      },
      "outputs": [
        {
          "ename": "TypeError",
          "evalue": "'NoneType' object is not iterable",
          "output_type": "error",
          "traceback": [
            "\u001b[1;31m---------------------------------------------------------------------------\u001b[0m",
            "\u001b[1;31mTypeError\u001b[0m                                 Traceback (most recent call last)",
            "\u001b[1;32m<ipython-input-48-28f213b40474>\u001b[0m in \u001b[0;36m<module>\u001b[1;34m\u001b[0m\n\u001b[1;32m----> 1\u001b[1;33m \u001b[0meli5\u001b[0m\u001b[1;33m.\u001b[0m\u001b[0mshow_weights\u001b[0m\u001b[1;33m(\u001b[0m\u001b[0mxgb\u001b[0m\u001b[1;33m,\u001b[0m\u001b[0mvec\u001b[0m \u001b[1;33m=\u001b[0m \u001b[0mvect\u001b[0m\u001b[1;33m,\u001b[0m\u001b[0mtop\u001b[0m \u001b[1;33m=\u001b[0m \u001b[1;36m15\u001b[0m\u001b[1;33m)\u001b[0m  \u001b[1;31m# XGBoost\u001b[0m\u001b[1;33m\u001b[0m\u001b[1;33m\u001b[0m\u001b[0m\n\u001b[0m\u001b[0;32m      2\u001b[0m \u001b[1;31m# will give you top 15 features or words  which makes a comment toxic\u001b[0m\u001b[1;33m\u001b[0m\u001b[1;33m\u001b[0m\u001b[1;33m\u001b[0m\u001b[0m\n",
            "\u001b[1;32m~\\anaconda3\\envs\\vggfacemodel\\lib\\site-packages\\eli5\\ipython.py\u001b[0m in \u001b[0;36mshow_weights\u001b[1;34m(estimator, **kwargs)\u001b[0m\n\u001b[0;32m    128\u001b[0m     \"\"\"\n\u001b[0;32m    129\u001b[0m     \u001b[0mformat_kwargs\u001b[0m\u001b[1;33m,\u001b[0m \u001b[0mexplain_kwargs\u001b[0m \u001b[1;33m=\u001b[0m \u001b[0m_split_kwargs\u001b[0m\u001b[1;33m(\u001b[0m\u001b[0mkwargs\u001b[0m\u001b[1;33m)\u001b[0m\u001b[1;33m\u001b[0m\u001b[1;33m\u001b[0m\u001b[0m\n\u001b[1;32m--> 130\u001b[1;33m     \u001b[0mexpl\u001b[0m \u001b[1;33m=\u001b[0m \u001b[0mexplain_weights\u001b[0m\u001b[1;33m(\u001b[0m\u001b[0mestimator\u001b[0m\u001b[1;33m,\u001b[0m \u001b[1;33m**\u001b[0m\u001b[0mexplain_kwargs\u001b[0m\u001b[1;33m)\u001b[0m\u001b[1;33m\u001b[0m\u001b[1;33m\u001b[0m\u001b[0m\n\u001b[0m\u001b[0;32m    131\u001b[0m     \u001b[0m_set_html_kwargs_defaults\u001b[0m\u001b[1;33m(\u001b[0m\u001b[0mformat_kwargs\u001b[0m\u001b[1;33m)\u001b[0m\u001b[1;33m\u001b[0m\u001b[1;33m\u001b[0m\u001b[0m\n\u001b[0;32m    132\u001b[0m     \u001b[0mhtml\u001b[0m \u001b[1;33m=\u001b[0m \u001b[0mformat_as_html\u001b[0m\u001b[1;33m(\u001b[0m\u001b[0mexpl\u001b[0m\u001b[1;33m,\u001b[0m \u001b[1;33m**\u001b[0m\u001b[0mformat_kwargs\u001b[0m\u001b[1;33m)\u001b[0m\u001b[1;33m\u001b[0m\u001b[1;33m\u001b[0m\u001b[0m\n",
            "\u001b[1;32m~\\anaconda3\\envs\\vggfacemodel\\lib\\functools.py\u001b[0m in \u001b[0;36mwrapper\u001b[1;34m(*args, **kw)\u001b[0m\n\u001b[0;32m    873\u001b[0m                             '1 positional argument')\n\u001b[0;32m    874\u001b[0m \u001b[1;33m\u001b[0m\u001b[0m\n\u001b[1;32m--> 875\u001b[1;33m         \u001b[1;32mreturn\u001b[0m \u001b[0mdispatch\u001b[0m\u001b[1;33m(\u001b[0m\u001b[0margs\u001b[0m\u001b[1;33m[\u001b[0m\u001b[1;36m0\u001b[0m\u001b[1;33m]\u001b[0m\u001b[1;33m.\u001b[0m\u001b[0m__class__\u001b[0m\u001b[1;33m)\u001b[0m\u001b[1;33m(\u001b[0m\u001b[1;33m*\u001b[0m\u001b[0margs\u001b[0m\u001b[1;33m,\u001b[0m \u001b[1;33m**\u001b[0m\u001b[0mkw\u001b[0m\u001b[1;33m)\u001b[0m\u001b[1;33m\u001b[0m\u001b[1;33m\u001b[0m\u001b[0m\n\u001b[0m\u001b[0;32m    876\u001b[0m \u001b[1;33m\u001b[0m\u001b[0m\n\u001b[0;32m    877\u001b[0m     \u001b[0mfuncname\u001b[0m \u001b[1;33m=\u001b[0m \u001b[0mgetattr\u001b[0m\u001b[1;33m(\u001b[0m\u001b[0mfunc\u001b[0m\u001b[1;33m,\u001b[0m \u001b[1;34m'__name__'\u001b[0m\u001b[1;33m,\u001b[0m \u001b[1;34m'singledispatch function'\u001b[0m\u001b[1;33m)\u001b[0m\u001b[1;33m\u001b[0m\u001b[1;33m\u001b[0m\u001b[0m\n",
            "\u001b[1;32m~\\anaconda3\\envs\\vggfacemodel\\lib\\site-packages\\eli5\\xgboost.py\u001b[0m in \u001b[0;36mexplain_weights_xgboost\u001b[1;34m(xgb, vec, top, target_names, targets, feature_names, feature_re, feature_filter, importance_type)\u001b[0m\n\u001b[0;32m     70\u001b[0m     \u001b[0mbooster\u001b[0m\u001b[1;33m,\u001b[0m \u001b[0mis_regression\u001b[0m \u001b[1;33m=\u001b[0m \u001b[0m_check_booster_args\u001b[0m\u001b[1;33m(\u001b[0m\u001b[0mxgb\u001b[0m\u001b[1;33m)\u001b[0m\u001b[1;33m\u001b[0m\u001b[1;33m\u001b[0m\u001b[0m\n\u001b[0;32m     71\u001b[0m     \u001b[0mxgb_feature_names\u001b[0m \u001b[1;33m=\u001b[0m \u001b[0mbooster\u001b[0m\u001b[1;33m.\u001b[0m\u001b[0mfeature_names\u001b[0m\u001b[1;33m\u001b[0m\u001b[1;33m\u001b[0m\u001b[0m\n\u001b[1;32m---> 72\u001b[1;33m     \u001b[0mcoef\u001b[0m \u001b[1;33m=\u001b[0m \u001b[0m_xgb_feature_importances\u001b[0m\u001b[1;33m(\u001b[0m\u001b[0mbooster\u001b[0m\u001b[1;33m,\u001b[0m \u001b[0mimportance_type\u001b[0m\u001b[1;33m=\u001b[0m\u001b[0mimportance_type\u001b[0m\u001b[1;33m)\u001b[0m\u001b[1;33m\u001b[0m\u001b[1;33m\u001b[0m\u001b[0m\n\u001b[0m\u001b[0;32m     73\u001b[0m     return get_feature_importance_explanation(\n\u001b[0;32m     74\u001b[0m         \u001b[0mxgb\u001b[0m\u001b[1;33m,\u001b[0m \u001b[0mvec\u001b[0m\u001b[1;33m,\u001b[0m \u001b[0mcoef\u001b[0m\u001b[1;33m,\u001b[0m\u001b[1;33m\u001b[0m\u001b[1;33m\u001b[0m\u001b[0m\n",
            "\u001b[1;32m~\\anaconda3\\envs\\vggfacemodel\\lib\\site-packages\\eli5\\xgboost.py\u001b[0m in \u001b[0;36m_xgb_feature_importances\u001b[1;34m(booster, importance_type)\u001b[0m\n\u001b[0;32m    329\u001b[0m     \u001b[0mfs\u001b[0m \u001b[1;33m=\u001b[0m \u001b[0mbooster\u001b[0m\u001b[1;33m.\u001b[0m\u001b[0mget_score\u001b[0m\u001b[1;33m(\u001b[0m\u001b[0mimportance_type\u001b[0m\u001b[1;33m=\u001b[0m\u001b[0mimportance_type\u001b[0m\u001b[1;33m)\u001b[0m\u001b[1;33m\u001b[0m\u001b[1;33m\u001b[0m\u001b[0m\n\u001b[0;32m    330\u001b[0m     all_features = np.array(\n\u001b[1;32m--> 331\u001b[1;33m         [fs.get(f, 0.) for f in booster.feature_names], dtype=np.float32)\n\u001b[0m\u001b[0;32m    332\u001b[0m     \u001b[1;32mreturn\u001b[0m \u001b[0mall_features\u001b[0m \u001b[1;33m/\u001b[0m \u001b[0mall_features\u001b[0m\u001b[1;33m.\u001b[0m\u001b[0msum\u001b[0m\u001b[1;33m(\u001b[0m\u001b[1;33m)\u001b[0m\u001b[1;33m\u001b[0m\u001b[1;33m\u001b[0m\u001b[0m\n\u001b[0;32m    333\u001b[0m \u001b[1;33m\u001b[0m\u001b[0m\n",
            "\u001b[1;31mTypeError\u001b[0m: 'NoneType' object is not iterable"
          ]
        }
      ],
      "source": [
        "eli5.show_weights(xgb,vec = vect,top = 15)  # XGBoost\n",
        "# will give you top 15 features or words  which makes a comment toxic "
      ]
    },
    {
      "cell_type": "code",
      "execution_count": null,
      "metadata": {
        "colab": {
          "base_uri": "https://localhost:8080/",
          "height": 35
        },
        "id": "PopxGVET8Epm",
        "outputId": "3659619c-2b5d-4e4e-e66b-6f34b2cdd8d6"
      },
      "outputs": [
        {
          "data": {
            "application/vnd.google.colaboratory.intrinsic+json": {
              "type": "string"
            },
            "text/plain": [
              "'by the way the exchange between rjensen is jpgordon is a sock puppet conversation pathetic really 129 133 127 244'"
            ]
          },
          "execution_count": 51,
          "metadata": {},
          "output_type": "execute_result"
        }
      ],
      "source": [
        "X_test.iloc[718]"
      ]
    },
    {
      "cell_type": "code",
      "execution_count": null,
      "metadata": {
        "colab": {
          "base_uri": "https://localhost:8080/",
          "height": 226
        },
        "id": "wwVnFDZO8IVn",
        "outputId": "a4fdb933-8f86-4059-a5fb-6833b568d30c"
      },
      "outputs": [
        {
          "name": "stderr",
          "output_type": "stream",
          "text": [
            "/usr/local/lib/python3.7/dist-packages/sklearn/utils/deprecation.py:87: FutureWarning: Function get_feature_names is deprecated; get_feature_names is deprecated in 1.0 and will be removed in 1.2. Please use get_feature_names_out instead.\n",
            "  warnings.warn(msg, category=FutureWarning)\n"
          ]
        },
        {
          "data": {
            "text/html": [
              "\n",
              "    <style>\n",
              "    table.eli5-weights tr:hover {\n",
              "        filter: brightness(85%);\n",
              "    }\n",
              "</style>\n",
              "\n",
              "\n",
              "\n",
              "    \n",
              "\n",
              "    \n",
              "\n",
              "    \n",
              "\n",
              "    \n",
              "\n",
              "    \n",
              "\n",
              "    \n",
              "\n",
              "\n",
              "    \n",
              "\n",
              "    \n",
              "\n",
              "    \n",
              "\n",
              "    \n",
              "        \n",
              "\n",
              "    \n",
              "\n",
              "        \n",
              "\n",
              "        \n",
              "    \n",
              "        \n",
              "        \n",
              "    \n",
              "        <p style=\"margin-bottom: 0.5em; margin-top: 0em\">\n",
              "            <b>\n",
              "    \n",
              "        y=1\n",
              "    \n",
              "</b>\n",
              "\n",
              "    \n",
              "    (probability <b>0.597</b>, score <b>0.392</b>)\n",
              "\n",
              "top features\n",
              "        </p>\n",
              "    \n",
              "    <table class=\"eli5-weights\"\n",
              "           style=\"border-collapse: collapse; border: none; margin-top: 0em; table-layout: auto; margin-bottom: 2em;\">\n",
              "        <thead>\n",
              "        <tr style=\"border: none;\">\n",
              "            \n",
              "                <th style=\"padding: 0 1em 0 0.5em; text-align: right; border: none;\" title=\"Feature contribution already accounts for the feature value (for linear models, contribution = weight * feature value), and the sum of feature contributions is equal to the score or, for some classifiers, to the probability. Feature values are shown if &quot;show_feature_values&quot; is True.\">\n",
              "                    Contribution<sup>?</sup>\n",
              "                </th>\n",
              "            \n",
              "            <th style=\"padding: 0 0.5em 0 0.5em; text-align: left; border: none;\">Feature</th>\n",
              "            \n",
              "        </tr>\n",
              "        </thead>\n",
              "        <tbody>\n",
              "        \n",
              "            <tr style=\"background-color: hsl(120, 100.00%, 80.00%); border: none;\">\n",
              "    <td style=\"padding: 0 1em 0 0.5em; text-align: right; border: none;\">\n",
              "        +3.018\n",
              "    </td>\n",
              "    <td style=\"padding: 0 0.5em 0 0.5em; text-align: left; border: none;\">\n",
              "        Highlighted in text (sum)\n",
              "    </td>\n",
              "    \n",
              "</tr>\n",
              "        \n",
              "        \n",
              "\n",
              "        \n",
              "        \n",
              "            <tr style=\"background-color: hsl(0, 100.00%, 81.86%); border: none;\">\n",
              "    <td style=\"padding: 0 1em 0 0.5em; text-align: right; border: none;\">\n",
              "        -2.626\n",
              "    </td>\n",
              "    <td style=\"padding: 0 0.5em 0 0.5em; text-align: left; border: none;\">\n",
              "        &lt;BIAS&gt;\n",
              "    </td>\n",
              "    \n",
              "</tr>\n",
              "        \n",
              "\n",
              "        </tbody>\n",
              "    </table>\n",
              "\n",
              "    \n",
              "\n",
              "\n",
              "\n",
              "    <p style=\"margin-bottom: 2.5em; margin-top:-0.5em;\">\n",
              "        <span style=\"opacity: 0.80\">by the </span><span style=\"background-color: hsl(0, 100.00%, 92.60%); opacity: 0.82\" title=\"-0.162\">way</span><span style=\"opacity: 0.80\"> the </span><span style=\"background-color: hsl(120, 100.00%, 94.96%); opacity: 0.81\" title=\"0.094\">exchange</span><span style=\"opacity: 0.80\"> between rjensen is </span><span style=\"background-color: hsl(120, 100.00%, 89.82%); opacity: 0.83\" title=\"0.255\">jpgordon</span><span style=\"opacity: 0.80\"> is a </span><span style=\"background-color: hsl(120, 100.00%, 87.23%); opacity: 0.84\" title=\"0.353\">sock</span><span style=\"opacity: 0.80\"> </span><span style=\"background-color: hsl(120, 100.00%, 84.06%); opacity: 0.85\" title=\"0.485\">puppet</span><span style=\"opacity: 0.80\"> </span><span style=\"background-color: hsl(120, 100.00%, 97.90%); opacity: 0.80\" title=\"0.027\">conversation</span><span style=\"opacity: 0.80\"> </span><span style=\"background-color: hsl(120, 100.00%, 60.00%); opacity: 1.00\" title=\"1.804\">pathetic</span><span style=\"opacity: 0.80\"> </span><span style=\"background-color: hsl(120, 100.00%, 98.92%); opacity: 0.80\" title=\"0.010\">really</span><span style=\"opacity: 0.80\"> </span><span style=\"background-color: hsl(120, 100.00%, 90.53%); opacity: 0.83\" title=\"0.230\">129</span><span style=\"opacity: 0.80\"> </span><span style=\"background-color: hsl(0, 100.00%, 92.78%); opacity: 0.82\" title=\"-0.156\">133</span><span style=\"opacity: 0.80\"> </span><span style=\"background-color: hsl(0, 100.00%, 94.15%); opacity: 0.81\" title=\"-0.116\">127</span><span style=\"opacity: 0.80\"> </span><span style=\"background-color: hsl(120, 100.00%, 91.60%); opacity: 0.82\" title=\"0.194\">244</span>\n",
              "    </p>\n",
              "\n",
              "\n",
              "    \n",
              "\n",
              "    \n",
              "\n",
              "    \n",
              "\n",
              "    \n",
              "\n",
              "\n",
              "    \n",
              "\n",
              "    \n",
              "\n",
              "    \n",
              "\n",
              "    \n",
              "\n",
              "    \n",
              "\n",
              "    \n",
              "\n",
              "\n",
              "    \n",
              "\n",
              "    \n",
              "\n",
              "    \n",
              "\n",
              "    \n",
              "\n",
              "    \n",
              "\n",
              "    \n",
              "\n",
              "\n",
              "\n"
            ],
            "text/plain": [
              "<IPython.core.display.HTML object>"
            ]
          },
          "execution_count": 52,
          "metadata": {},
          "output_type": "execute_result"
        }
      ],
      "source": [
        "eli5.show_prediction(logreg, vec = vect, doc =  X_test.iloc[718]) "
      ]
    }
  ],
  "metadata": {
    "colab": {
      "name": "FYP.ipynb",
      "provenance": []
    },
    "kernelspec": {
      "display_name": "Python 3",
      "name": "python3"
    },
    "language_info": {
      "codemirror_mode": {
        "name": "ipython",
        "version": 3
      },
      "file_extension": ".py",
      "mimetype": "text/x-python",
      "name": "python",
      "nbconvert_exporter": "python",
      "pygments_lexer": "ipython3",
      "version": "3.8.8"
    }
  },
  "nbformat": 4,
  "nbformat_minor": 0
}
