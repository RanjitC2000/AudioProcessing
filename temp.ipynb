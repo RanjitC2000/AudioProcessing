{
 "cells": [
  {
   "cell_type": "code",
   "execution_count": 4,
   "metadata": {},
   "outputs": [],
   "source": [
    "import warnings\n",
    "warnings.filterwarnings(\"ignore\")\n",
    "from sklearn import preprocessing\n",
    " \n",
    "import os\n",
    "import pandas as pd\n",
    "import numpy as np\n",
    "a = [name for name in os.listdir(\".\") if os.path.isdir(name)]\n",
    "d = pd.DataFrame()\n",
    "for i in a:\n",
    "    if i != '.git' or i!= 'Test':\n",
    "        b = os.listdir(i)\n",
    "        b = np.array(b)\n",
    "        c = pd.DataFrame(b, columns=['filename'])\n",
    "        c['Class'] = i\n",
    "        #append to the master dataframe\n",
    "        d = d.append(c)\n",
    "\n",
    "from pathlib import Path\n",
    "\n",
    "\n",
    "df = d\n",
    "df.head()\n",
    "\n",
    "# Construct file path by concatenating fold and file name\n",
    "df['relative_path'] = df['Class'] + '/' + df['filename'].astype(str)\n",
    "df = df.sample(frac=1)\n",
    "label_encoder = preprocessing.LabelEncoder()\n",
    "\n",
    "df['classID'] = label_encoder.fit_transform(df['Class'])\n",
    "\n",
    "# Take relevant columns\n",
    "df = df[['relative_path', 'classID','Class']]\n",
    "df.head()\n",
    "df.to_csv('train.csv', index=False)\n",
    "\n"
   ]
  },
  {
   "cell_type": "code",
   "execution_count": 5,
   "metadata": {},
   "outputs": [
    {
     "data": {
      "text/html": [
       "<div>\n",
       "<style scoped>\n",
       "    .dataframe tbody tr th:only-of-type {\n",
       "        vertical-align: middle;\n",
       "    }\n",
       "\n",
       "    .dataframe tbody tr th {\n",
       "        vertical-align: top;\n",
       "    }\n",
       "\n",
       "    .dataframe thead th {\n",
       "        text-align: right;\n",
       "    }\n",
       "</style>\n",
       "<table border=\"1\" class=\"dataframe\">\n",
       "  <thead>\n",
       "    <tr style=\"text-align: right;\">\n",
       "      <th></th>\n",
       "      <th>relative_path</th>\n",
       "      <th>classID</th>\n",
       "      <th>Class</th>\n",
       "    </tr>\n",
       "  </thead>\n",
       "  <tbody>\n",
       "    <tr>\n",
       "      <th>1313</th>\n",
       "      <td>Whimper/L6TCRy-UHQ8_12.wav</td>\n",
       "      <td>24</td>\n",
       "      <td>Whimper</td>\n",
       "    </tr>\n",
       "    <tr>\n",
       "      <th>1400</th>\n",
       "      <td>Speech/NRiaznQevTA_150.wav</td>\n",
       "      <td>21</td>\n",
       "      <td>Speech</td>\n",
       "    </tr>\n",
       "    <tr>\n",
       "      <th>296</th>\n",
       "      <td>Whoop/BPtHcX-Bezw_120.wav</td>\n",
       "      <td>27</td>\n",
       "      <td>Whoop</td>\n",
       "    </tr>\n",
       "    <tr>\n",
       "      <th>309</th>\n",
       "      <td>Whimper/1vZNNVA7AMU_20.wav</td>\n",
       "      <td>24</td>\n",
       "      <td>Whimper</td>\n",
       "    </tr>\n",
       "    <tr>\n",
       "      <th>614</th>\n",
       "      <td>Whimper/4H52d8aXYSo_30.wav</td>\n",
       "      <td>24</td>\n",
       "      <td>Whimper</td>\n",
       "    </tr>\n",
       "    <tr>\n",
       "      <th>...</th>\n",
       "      <td>...</td>\n",
       "      <td>...</td>\n",
       "      <td>...</td>\n",
       "    </tr>\n",
       "    <tr>\n",
       "      <th>499</th>\n",
       "      <td>Snicker/LuLIYG32k6Y_30.wav</td>\n",
       "      <td>20</td>\n",
       "      <td>Snicker</td>\n",
       "    </tr>\n",
       "    <tr>\n",
       "      <th>782</th>\n",
       "      <td>Speech/6kD2g6UGREI_190.wav</td>\n",
       "      <td>21</td>\n",
       "      <td>Speech</td>\n",
       "    </tr>\n",
       "    <tr>\n",
       "      <th>408</th>\n",
       "      <td>White noise/CCg5sKgUK-s_30.wav</td>\n",
       "      <td>26</td>\n",
       "      <td>White noise</td>\n",
       "    </tr>\n",
       "    <tr>\n",
       "      <th>445</th>\n",
       "      <td>Whimper/32KbcPAQ9z0_30.wav</td>\n",
       "      <td>24</td>\n",
       "      <td>Whimper</td>\n",
       "    </tr>\n",
       "    <tr>\n",
       "      <th>617</th>\n",
       "      <td>Speech/3WJk7frPIjk_30.wav</td>\n",
       "      <td>21</td>\n",
       "      <td>Speech</td>\n",
       "    </tr>\n",
       "  </tbody>\n",
       "</table>\n",
       "<p>13915 rows × 3 columns</p>\n",
       "</div>"
      ],
      "text/plain": [
       "                       relative_path  classID        Class\n",
       "1313      Whimper/L6TCRy-UHQ8_12.wav       24      Whimper\n",
       "1400      Speech/NRiaznQevTA_150.wav       21       Speech\n",
       "296        Whoop/BPtHcX-Bezw_120.wav       27        Whoop\n",
       "309       Whimper/1vZNNVA7AMU_20.wav       24      Whimper\n",
       "614       Whimper/4H52d8aXYSo_30.wav       24      Whimper\n",
       "...                              ...      ...          ...\n",
       "499       Snicker/LuLIYG32k6Y_30.wav       20      Snicker\n",
       "782       Speech/6kD2g6UGREI_190.wav       21       Speech\n",
       "408   White noise/CCg5sKgUK-s_30.wav       26  White noise\n",
       "445       Whimper/32KbcPAQ9z0_30.wav       24      Whimper\n",
       "617        Speech/3WJk7frPIjk_30.wav       21       Speech\n",
       "\n",
       "[13915 rows x 3 columns]"
      ]
     },
     "execution_count": 5,
     "metadata": {},
     "output_type": "execute_result"
    }
   ],
   "source": [
    "df"
   ]
  },
  {
   "cell_type": "code",
   "execution_count": 6,
   "metadata": {},
   "outputs": [
    {
     "data": {
      "text/plain": [
       "array(['Whimper', 'Speech', 'Whoop', 'Male speech, man speaking',\n",
       "       'Rustle', 'Conversation', 'Snicker', 'White noise',\n",
       "       'Dishes, pots, and pans', 'Singing', 'Smash, crash', 'Breathing',\n",
       "       'Groan', 'Cupboard open or close', 'Yell',\n",
       "       'Female speech, woman speaking', 'Children shouting', 'Clapping',\n",
       "       'Whispering', 'Babbling', 'Drawer open or close', 'Screaming',\n",
       "       'Battle cry', 'Finger snapping', 'Bellow', 'Dogs', '.git',\n",
       "       'shatter', 'Wail, moan', 'Test'], dtype=object)"
      ]
     },
     "execution_count": 6,
     "metadata": {},
     "output_type": "execute_result"
    }
   ],
   "source": [
    "df.Class.unique()"
   ]
  },
  {
   "cell_type": "code",
   "execution_count": 7,
   "metadata": {},
   "outputs": [
    {
     "data": {
      "text/plain": [
       "(13915, 3)"
      ]
     },
     "execution_count": 7,
     "metadata": {},
     "output_type": "execute_result"
    }
   ],
   "source": [
    "df.shape"
   ]
  },
  {
   "cell_type": "code",
   "execution_count": 8,
   "metadata": {},
   "outputs": [],
   "source": [
    "df= df[df['Class'] != 'Test']"
   ]
  },
  {
   "cell_type": "code",
   "execution_count": 9,
   "metadata": {},
   "outputs": [
    {
     "data": {
      "text/plain": [
       "(13908, 3)"
      ]
     },
     "execution_count": 9,
     "metadata": {},
     "output_type": "execute_result"
    }
   ],
   "source": [
    "df.shape"
   ]
  },
  {
   "cell_type": "code",
   "execution_count": 10,
   "metadata": {},
   "outputs": [],
   "source": [
    "df= df[df['Class'] != '.git']"
   ]
  },
  {
   "cell_type": "code",
   "execution_count": 11,
   "metadata": {},
   "outputs": [],
   "source": [
    "df= df[df['Class'] != 'Growling']\n",
    "df= df[df['Class'] != 'Howl']\n",
    "df= df[df['Class'] != 'Bark']"
   ]
  },
  {
   "cell_type": "code",
   "execution_count": 12,
   "metadata": {},
   "outputs": [
    {
     "data": {
      "text/plain": [
       "(13895, 3)"
      ]
     },
     "execution_count": 12,
     "metadata": {},
     "output_type": "execute_result"
    }
   ],
   "source": [
    "df.shape"
   ]
  },
  {
   "cell_type": "code",
   "execution_count": 13,
   "metadata": {},
   "outputs": [],
   "source": [
    "#### Dependencies ####\n",
    "#### Import Comet for experiment tracking and visual tools\n",
    "from comet_ml import Experiment\n",
    "####\n",
    "import IPython.display as ipd\n",
    "import numpy as np\n",
    "import pandas as pd\n",
    "import librosa\n",
    "import matplotlib.pyplot as plt\n",
    "from scipy.io import wavfile as wav\n",
    "from sklearn import metrics \n",
    "from sklearn.preprocessing import LabelEncoder\n",
    "from sklearn.model_selection import train_test_split \n",
    "from keras.models import Sequential\n",
    "from keras.layers import Dense, Dropout, Activation\n",
    "import tensorflow as tf\n",
    "# from keras.optimizers import Adam\n",
    "# from keras.utils import to_categorical"
   ]
  },
  {
   "cell_type": "code",
   "execution_count": 14,
   "metadata": {},
   "outputs": [
    {
     "name": "stderr",
     "output_type": "stream",
     "text": [
      "COMET WARNING: Comet has disabled auto-logging functionality as it has been imported after the following ML modules: sklearn. Metrics and hyperparameters can still be logged using comet_ml.log_metrics() and comet_ml.log_parameters()\n",
      "COMET WARNING: As you are running in a Jupyter environment, you will need to call `experiment.end()` when finished to ensure all metrics and code are logged before exiting.\n",
      "COMET INFO: Experiment is live on comet.ml https://www.comet.ml/shakthi-stack/fyp-audio-processing/e799f8a4e99f415d914fc92bf622ebee\n",
      "\n"
     ]
    }
   ],
   "source": [
    "experiment = Experiment(\n",
    "    api_key=\"TpJmHUzqkFIYdblKq8rPA9vKW\",\n",
    "    project_name=\"fyp-audio-processing\",\n",
    "    workspace=\"shakthi-stack\",\n",
    ")"
   ]
  },
  {
   "cell_type": "code",
   "execution_count": 15,
   "metadata": {},
   "outputs": [],
   "source": [
    "labels = list(df['classID'].unique())"
   ]
  },
  {
   "cell_type": "code",
   "execution_count": 16,
   "metadata": {},
   "outputs": [],
   "source": [
    "files = dict()\n",
    "for i in range(len(labels)):\n",
    "    tmp = df[df['classID'] == labels[i]][:1].reset_index()\n",
    "    path = df['relative_path']\n",
    "    files[labels[i]] = path"
   ]
  },
  {
   "cell_type": "code",
   "execution_count": 17,
   "metadata": {},
   "outputs": [
    {
     "name": "stdout",
     "output_type": "stream",
     "text": [
      "Original sample rate: 16000\n",
      "Librosa sample rate: 22050\n"
     ]
    }
   ],
   "source": [
    "fn = 'Snicker/6xfMfFenKiM_70.wav'\n",
    "librosa_audio, librosa_sample_rate = librosa.load(fn)\n",
    "scipy_sample_rate, scipy_audio = wav.read(fn)\n",
    "print(\"Original sample rate: {}\".format(scipy_sample_rate))\n",
    "print(\"Librosa sample rate: {}\".format(librosa_sample_rate))"
   ]
  },
  {
   "cell_type": "code",
   "execution_count": 18,
   "metadata": {},
   "outputs": [
    {
     "name": "stdout",
     "output_type": "stream",
     "text": [
      "Original audio file min~max range: -5272 to 4727\n",
      "Librosa audio file min~max range: -0.16 to -0.16\n"
     ]
    }
   ],
   "source": [
    "print('Original audio file min~max range: {} to {}'.format(np.min(scipy_audio), np.max(scipy_audio)))\n",
    "print('Librosa audio file min~max range: {0:.2f} to {0:.2f}'.format(np.min(librosa_audio), np.max(librosa_audio)))"
   ]
  },
  {
   "cell_type": "code",
   "execution_count": 19,
   "metadata": {},
   "outputs": [
    {
     "data": {
      "text/plain": [
       "[<matplotlib.lines.Line2D at 0x1989e1e32b0>,\n",
       " <matplotlib.lines.Line2D at 0x1989e15ee50>]"
      ]
     },
     "execution_count": 19,
     "metadata": {},
     "output_type": "execute_result"
    },
    {
     "data": {
      "image/png": "[encoded data removed]",
      "text/plain": [
       "<Figure size 864x288 with 1 Axes>"
      ]
     },
     "metadata": {
      "needs_background": "light"
     },
     "output_type": "display_data"
    }
   ],
   "source": [
    "plt.figure(figsize=(12, 4))\n",
    "plt.plot(scipy_audio)"
   ]
  },
  {
   "cell_type": "code",
   "execution_count": 20,
   "metadata": {},
   "outputs": [
    {
     "data": {
      "text/plain": [
       "[<matplotlib.lines.Line2D at 0x1989e6ed700>]"
      ]
     },
     "execution_count": 20,
     "metadata": {},
     "output_type": "execute_result"
    },
    {
     "data": {
      "image/png": "[encoded data removed]",
      "text/plain": [
       "<Figure size 864x288 with 1 Axes>"
      ]
     },
     "metadata": {
      "needs_background": "light"
     },
     "output_type": "display_data"
    }
   ],
   "source": [
    "plt.figure(figsize=(12,4))\n",
    "plt.plot(librosa_audio)"
   ]
  },
  {
   "cell_type": "code",
   "execution_count": 21,
   "metadata": {},
   "outputs": [],
   "source": [
    "mfccs = librosa.feature.mfcc(y=librosa_audio, sr=librosa_sample_rate, n_mfcc = 500)"
   ]
  },
  {
   "cell_type": "code",
   "execution_count": 22,
   "metadata": {},
   "outputs": [
    {
     "name": "stdout",
     "output_type": "stream",
     "text": [
      "(128, 431)\n"
     ]
    }
   ],
   "source": [
    "print(mfccs.shape)"
   ]
  },
  {
   "cell_type": "code",
   "execution_count": 23,
   "metadata": {},
   "outputs": [
    {
     "data": {
      "text/plain": [
       "<matplotlib.collections.QuadMesh at 0x1989e700550>"
      ]
     },
     "execution_count": 23,
     "metadata": {},
     "output_type": "execute_result"
    },
    {
     "data": {
      "image/png": "[encoded data removed]",
      "text/plain": [
       "<Figure size 576x576 with 1 Axes>"
      ]
     },
     "metadata": {
      "needs_background": "light"
     },
     "output_type": "display_data"
    }
   ],
   "source": [
    "import librosa.display\n",
    "plt.figure(figsize=(8,8))\n",
    "\n",
    "librosa.display.specshow(mfccs, sr=librosa_sample_rate, x_axis='time')"
   ]
  },
  {
   "cell_type": "code",
   "execution_count": 24,
   "metadata": {},
   "outputs": [],
   "source": [
    "def extract_features(file_name):\n",
    "    audio, sample_rate = librosa.load(file_name, res_type='kaiser_fast') \n",
    "    mfccs = librosa.feature.mfcc(y=audio, sr=sample_rate, n_mfcc=100)\n",
    "    mfccs_processed = np.mean(mfccs.T,axis=0) \n",
    "    return mfccs_processed"
   ]
  },
  {
   "cell_type": "code",
   "execution_count": 25,
   "metadata": {},
   "outputs": [
    {
     "name": "stderr",
     "output_type": "stream",
     "text": [
      "COMET WARNING: Unknown error exporting current conda environment\n",
      "COMET WARNING: Unknown error retrieving Conda package as an explicit file\n",
      "COMET WARNING: Unknown error retrieving Conda information\n"
     ]
    },
    {
     "name": "stdout",
     "output_type": "stream",
     "text": [
      "error\n",
      "error\n"
     ]
    }
   ],
   "source": [
    "features = []\n",
    "# Iterate through each sound file and extract the features \n",
    "for index, row in df.iterrows():\n",
    "    file_name = row['relative_path']\n",
    "    # os.path.join(os.path.abspath(fulldatasetpath),'fold'+str(row[\"fold\"])+'/',str(row[\"slice_file_name\"])) \n",
    "    class_label = row[\"Class\"]\n",
    "    try:\n",
    "        data = extract_features(file_name)\n",
    "        features.append([data, class_label])\n",
    "    except:\n",
    "        print(\"error\")\n",
    "        continue\n",
    "# Convert into a Panda dataframe \n",
    "featuresdf = pd.DataFrame(features, columns=['feature','class_label'])"
   ]
  },
  {
   "cell_type": "code",
   "execution_count": 26,
   "metadata": {},
   "outputs": [
    {
     "data": {
      "text/html": [
       "<div>\n",
       "<style scoped>\n",
       "    .dataframe tbody tr th:only-of-type {\n",
       "        vertical-align: middle;\n",
       "    }\n",
       "\n",
       "    .dataframe tbody tr th {\n",
       "        vertical-align: top;\n",
       "    }\n",
       "\n",
       "    .dataframe thead th {\n",
       "        text-align: right;\n",
       "    }\n",
       "</style>\n",
       "<table border=\"1\" class=\"dataframe\">\n",
       "  <thead>\n",
       "    <tr style=\"text-align: right;\">\n",
       "      <th></th>\n",
       "      <th>feature</th>\n",
       "      <th>class_label</th>\n",
       "    </tr>\n",
       "  </thead>\n",
       "  <tbody>\n",
       "    <tr>\n",
       "      <th>0</th>\n",
       "      <td>[-279.89996, 96.099754, -43.98774, -6.3563523,...</td>\n",
       "      <td>Whimper</td>\n",
       "    </tr>\n",
       "    <tr>\n",
       "      <th>1</th>\n",
       "      <td>[-268.62698, 148.14798, -15.163095, 45.634914,...</td>\n",
       "      <td>Speech</td>\n",
       "    </tr>\n",
       "    <tr>\n",
       "      <th>2</th>\n",
       "      <td>[-9.320869, 187.64738, -93.49531, 43.26071, -3...</td>\n",
       "      <td>Whoop</td>\n",
       "    </tr>\n",
       "    <tr>\n",
       "      <th>3</th>\n",
       "      <td>[-155.34642, 138.00449, -83.01925, 12.784471, ...</td>\n",
       "      <td>Whimper</td>\n",
       "    </tr>\n",
       "    <tr>\n",
       "      <th>4</th>\n",
       "      <td>[-378.95126, 86.498215, -38.244907, 19.205418,...</td>\n",
       "      <td>Whimper</td>\n",
       "    </tr>\n",
       "    <tr>\n",
       "      <th>...</th>\n",
       "      <td>...</td>\n",
       "      <td>...</td>\n",
       "    </tr>\n",
       "    <tr>\n",
       "      <th>13888</th>\n",
       "      <td>[-88.9009, 172.28459, -73.71109, 46.055214, -4...</td>\n",
       "      <td>Snicker</td>\n",
       "    </tr>\n",
       "    <tr>\n",
       "      <th>13889</th>\n",
       "      <td>[-246.6593, 127.06461, -8.019936, 13.740027, -...</td>\n",
       "      <td>Speech</td>\n",
       "    </tr>\n",
       "    <tr>\n",
       "      <th>13890</th>\n",
       "      <td>[-159.00569, 165.43834, -69.719795, 76.69293, ...</td>\n",
       "      <td>White noise</td>\n",
       "    </tr>\n",
       "    <tr>\n",
       "      <th>13891</th>\n",
       "      <td>[-128.18817, 134.94576, -32.327347, 33.55625, ...</td>\n",
       "      <td>Whimper</td>\n",
       "    </tr>\n",
       "    <tr>\n",
       "      <th>13892</th>\n",
       "      <td>[-234.54332, 129.54573, -38.98993, 47.91477, -...</td>\n",
       "      <td>Speech</td>\n",
       "    </tr>\n",
       "  </tbody>\n",
       "</table>\n",
       "<p>13893 rows × 2 columns</p>\n",
       "</div>"
      ],
      "text/plain": [
       "                                                 feature  class_label\n",
       "0      [-279.89996, 96.099754, -43.98774, -6.3563523,...      Whimper\n",
       "1      [-268.62698, 148.14798, -15.163095, 45.634914,...       Speech\n",
       "2      [-9.320869, 187.64738, -93.49531, 43.26071, -3...        Whoop\n",
       "3      [-155.34642, 138.00449, -83.01925, 12.784471, ...      Whimper\n",
       "4      [-378.95126, 86.498215, -38.244907, 19.205418,...      Whimper\n",
       "...                                                  ...          ...\n",
       "13888  [-88.9009, 172.28459, -73.71109, 46.055214, -4...      Snicker\n",
       "13889  [-246.6593, 127.06461, -8.019936, 13.740027, -...       Speech\n",
       "13890  [-159.00569, 165.43834, -69.719795, 76.69293, ...  White noise\n",
       "13891  [-128.18817, 134.94576, -32.327347, 33.55625, ...      Whimper\n",
       "13892  [-234.54332, 129.54573, -38.98993, 47.91477, -...       Speech\n",
       "\n",
       "[13893 rows x 2 columns]"
      ]
     },
     "execution_count": 26,
     "metadata": {},
     "output_type": "execute_result"
    }
   ],
   "source": [
    "featuresdf"
   ]
  },
  {
   "cell_type": "code",
   "execution_count": 27,
   "metadata": {},
   "outputs": [
    {
     "data": {
      "text/plain": [
       "array([-2.79899963e+02,  9.60997543e+01, -4.39877396e+01, -6.35635233e+00,\n",
       "        2.91896015e-01, -1.65212994e+01, -1.43975902e+00, -4.33694792e+00,\n",
       "       -1.21778994e+01,  2.35635114e+00, -9.08739924e-01, -9.34692764e+00,\n",
       "       -1.53014934e+00, -7.04603004e+00, -8.72866249e+00, -3.92472839e+00,\n",
       "       -6.88577318e+00, -6.14675665e+00, -3.97056794e+00, -5.01152039e+00,\n",
       "       -1.96393692e+00,  3.48003775e-01, -4.60540438e+00, -4.38085318e+00,\n",
       "       -2.26007223e+00, -3.91503882e+00, -2.27909970e+00, -2.79440284e-02,\n",
       "       -1.08115256e+00, -1.35462415e+00,  9.61928964e-01, -4.11485322e-02,\n",
       "       -2.24134731e+00, -2.82656527e+00, -2.87004423e+00, -1.18400872e+00,\n",
       "        3.45306583e-02, -6.69414103e-01, -8.95390213e-01,  5.13193488e-01,\n",
       "        6.54784858e-01,  3.73064190e-01, -4.55013141e-02, -9.98737097e-01,\n",
       "       -5.90723574e-01, -5.44023693e-01, -2.89117008e-01,  3.73460710e-01,\n",
       "       -4.60581511e-01, -4.02008384e-01,  7.23151982e-01, -2.89466918e-01,\n",
       "       -9.88772511e-01, -4.25895035e-01, -2.17301279e-01,  3.42993923e-02,\n",
       "       -5.84989965e-01, -3.68977576e-01,  2.01537758e-01,  3.06394603e-02,\n",
       "        1.78065434e-01, -6.65616915e-02, -5.41331232e-01, -1.04827595e+00,\n",
       "       -9.62828815e-01, -4.51384038e-01,  1.37994424e-01,  2.21365169e-01,\n",
       "       -2.24752262e-01,  1.53169647e-01,  2.50739545e-01, -1.58719137e-01,\n",
       "       -3.51338446e-01, -4.15955454e-01, -2.22587749e-01, -1.31937861e-01,\n",
       "       -4.19230074e-01, -5.42135656e-01, -2.48324215e-01, -3.39399800e-02,\n",
       "        2.62767553e-01,  1.16515785e-01, -5.62819719e-01, -5.03342330e-01,\n",
       "       -1.29038140e-01, -9.00356844e-02,  4.30251751e-03, -4.68108624e-01,\n",
       "       -8.85775566e-01, -7.58781061e-02,  3.32256109e-01, -1.01438731e-01,\n",
       "       -3.67085129e-01, -2.41819993e-01,  9.93362069e-02,  9.18379501e-02,\n",
       "        1.26340538e-02, -2.16425791e-01, -5.91695130e-01, -4.61156756e-01],\n",
       "      dtype=float32)"
      ]
     },
     "execution_count": 27,
     "metadata": {},
     "output_type": "execute_result"
    }
   ],
   "source": [
    "featuresdf.iloc[0]['feature']"
   ]
  },
  {
   "cell_type": "code",
   "execution_count": 28,
   "metadata": {},
   "outputs": [],
   "source": [
    "from sklearn.preprocessing import LabelEncoder\n",
    "# from keras.utils import to_categorical\n",
    "from tensorflow.keras.utils import to_categorical\n",
    "# Convert features and corresponding classification labels into numpy arrays\n",
    "X = np.array(featuresdf.feature.tolist())\n",
    "y = np.array(featuresdf.class_label.tolist())\n",
    "# Encode the classification labels\n",
    "le = LabelEncoder()\n",
    "yy = to_categorical(le.fit_transform(y))"
   ]
  },
  {
   "cell_type": "code",
   "execution_count": 29,
   "metadata": {},
   "outputs": [
    {
     "data": {
      "text/plain": [
       "(13893, 100)"
      ]
     },
     "execution_count": 29,
     "metadata": {},
     "output_type": "execute_result"
    }
   ],
   "source": [
    "X.shape"
   ]
  },
  {
   "cell_type": "code",
   "execution_count": 30,
   "metadata": {},
   "outputs": [
    {
     "data": {
      "text/plain": [
       "array(['Whimper', 'Speech', 'Whoop', ..., 'White noise', 'Whimper',\n",
       "       'Speech'], dtype='<U29')"
      ]
     },
     "execution_count": 30,
     "metadata": {},
     "output_type": "execute_result"
    }
   ],
   "source": [
    "y"
   ]
  },
  {
   "cell_type": "code",
   "execution_count": 31,
   "metadata": {},
   "outputs": [],
   "source": [
    "# split the dataset \n",
    "from sklearn.model_selection import train_test_split \n",
    "x_train, x_test, y_train, y_test = train_test_split(X, yy, test_size=0.2, random_state = 127)"
   ]
  },
  {
   "cell_type": "code",
   "execution_count": 32,
   "metadata": {},
   "outputs": [],
   "source": [
    "num_labels = yy.shape[1]\n",
    "filter_size = 2\n",
    "def build_model_graph(input_shape=(100,)):\n",
    "    model = Sequential()\n",
    "    model.add(Dense(256))\n",
    "    model.add(Activation('sigmoid'))\n",
    "    model.add(Dropout(0.5))\n",
    "    model.add(Dense(256))\n",
    "    model.add(Activation('sigmoid'))\n",
    "    model.add(Dropout(0.25))\n",
    "    model.add(Dense(num_labels))\n",
    "    model.add(Activation('softmax'))\n",
    "    # Compile the model\n",
    "    model.compile(loss='categorical_crossentropy', metrics=['accuracy','AUC'], optimizer='adam')\n",
    "    return model\n",
    "model = build_model_graph()"
   ]
  },
  {
   "cell_type": "code",
   "execution_count": 33,
   "metadata": {},
   "outputs": [
    {
     "name": "stderr",
     "output_type": "stream",
     "text": [
      "COMET INFO: Ignoring automatic log_parameter('verbose') because 'keras:verbose' is in COMET_LOGGING_PARAMETERS_IGNORE\n",
      "COMET INFO: ignoring tensorflow summary log of metrics because of keras; set `comet_ml.loggers.tensorboard_logger.LOG_METRICS = True` to override\n"
     ]
    },
    {
     "name": "stdout",
     "output_type": "stream",
     "text": [
      "Epoch 1/200\n",
      "348/348 [==============================] - 4s 4ms/step - loss: 2.8009 - accuracy: 0.1454 - auc: 0.7911 - val_loss: 2.5758 - val_accuracy: 0.2191 - val_auc: 0.8375\n",
      "Epoch 2/200\n",
      "348/348 [==============================] - 1s 4ms/step - loss: 2.5869 - accuracy: 0.1980 - auc: 0.8345 - val_loss: 2.4963 - val_accuracy: 0.2321 - val_auc: 0.8501\n",
      "Epoch 3/200\n",
      "348/348 [==============================] - 1s 4ms/step - loss: 2.5181 - accuracy: 0.2166 - auc: 0.8455 - val_loss: 2.4564 - val_accuracy: 0.2479 - val_auc: 0.8558\n",
      "Epoch 4/200\n",
      "348/348 [==============================] - 1s 3ms/step - loss: 2.4700 - accuracy: 0.2373 - auc: 0.8526 - val_loss: 2.4145 - val_accuracy: 0.2623 - val_auc: 0.8606\n",
      "Epoch 5/200\n",
      "348/348 [==============================] - 1s 3ms/step - loss: 2.4398 - accuracy: 0.2514 - auc: 0.8569 - val_loss: 2.3973 - val_accuracy: 0.2652 - val_auc: 0.8627\n",
      "Epoch 6/200\n",
      "348/348 [==============================] - 1s 4ms/step - loss: 2.4143 - accuracy: 0.2598 - auc: 0.8605 - val_loss: 2.3819 - val_accuracy: 0.2746 - val_auc: 0.8636\n",
      "Epoch 7/200\n",
      "348/348 [==============================] - 1s 4ms/step - loss: 2.3907 - accuracy: 0.2662 - auc: 0.8635 - val_loss: 2.3747 - val_accuracy: 0.2756 - val_auc: 0.8652\n",
      "Epoch 8/200\n",
      "348/348 [==============================] - 1s 4ms/step - loss: 2.3731 - accuracy: 0.2708 - auc: 0.8658 - val_loss: 2.3649 - val_accuracy: 0.2836 - val_auc: 0.8665\n",
      "Epoch 9/200\n",
      "348/348 [==============================] - 1s 4ms/step - loss: 2.3648 - accuracy: 0.2762 - auc: 0.8669 - val_loss: 2.3498 - val_accuracy: 0.2854 - val_auc: 0.8687\n",
      "Epoch 10/200\n",
      "348/348 [==============================] - 1s 4ms/step - loss: 2.3493 - accuracy: 0.2767 - auc: 0.8694 - val_loss: 2.3675 - val_accuracy: 0.2839 - val_auc: 0.8645\n",
      "Epoch 11/200\n",
      "348/348 [==============================] - 1s 4ms/step - loss: 2.3330 - accuracy: 0.2823 - auc: 0.8714 - val_loss: 2.3409 - val_accuracy: 0.2764 - val_auc: 0.8692\n",
      "Epoch 12/200\n",
      "348/348 [==============================] - 1s 4ms/step - loss: 2.3231 - accuracy: 0.2836 - auc: 0.8726 - val_loss: 2.3347 - val_accuracy: 0.2900 - val_auc: 0.8694\n",
      "Epoch 13/200\n",
      "348/348 [==============================] - 1s 4ms/step - loss: 2.3062 - accuracy: 0.2888 - auc: 0.8745 - val_loss: 2.3321 - val_accuracy: 0.2908 - val_auc: 0.8698\n",
      "Epoch 14/200\n",
      "348/348 [==============================] - 1s 4ms/step - loss: 2.2900 - accuracy: 0.2971 - auc: 0.8766 - val_loss: 2.3213 - val_accuracy: 0.2936 - val_auc: 0.8718\n",
      "Epoch 15/200\n",
      "348/348 [==============================] - 1s 4ms/step - loss: 2.2868 - accuracy: 0.2950 - auc: 0.8774 - val_loss: 2.3230 - val_accuracy: 0.2976 - val_auc: 0.8704\n",
      "Epoch 16/200\n",
      "348/348 [==============================] - 1s 4ms/step - loss: 2.2696 - accuracy: 0.2976 - auc: 0.8789 - val_loss: 2.3146 - val_accuracy: 0.3019 - val_auc: 0.8721\n",
      "Epoch 17/200\n",
      "348/348 [==============================] - 1s 4ms/step - loss: 2.2631 - accuracy: 0.3028 - auc: 0.8799 - val_loss: 2.3055 - val_accuracy: 0.2994 - val_auc: 0.8735\n",
      "Epoch 18/200\n",
      "348/348 [==============================] - 1s 4ms/step - loss: 2.2509 - accuracy: 0.3054 - auc: 0.8814 - val_loss: 2.3110 - val_accuracy: 0.2965 - val_auc: 0.8732\n",
      "Epoch 19/200\n",
      "348/348 [==============================] - 1s 4ms/step - loss: 2.2474 - accuracy: 0.3122 - auc: 0.8821 - val_loss: 2.3020 - val_accuracy: 0.3015 - val_auc: 0.8740\n",
      "Epoch 20/200\n",
      "348/348 [==============================] - 1s 4ms/step - loss: 2.2377 - accuracy: 0.3108 - auc: 0.8831 - val_loss: 2.3133 - val_accuracy: 0.3033 - val_auc: 0.8721\n",
      "Epoch 21/200\n",
      "348/348 [==============================] - 1s 4ms/step - loss: 2.2307 - accuracy: 0.3143 - auc: 0.8839 - val_loss: 2.2958 - val_accuracy: 0.3069 - val_auc: 0.8747\n",
      "Epoch 22/200\n",
      "348/348 [==============================] - 1s 4ms/step - loss: 2.2231 - accuracy: 0.3100 - auc: 0.8842 - val_loss: 2.2952 - val_accuracy: 0.3059 - val_auc: 0.8750\n",
      "Epoch 23/200\n",
      "348/348 [==============================] - 1s 4ms/step - loss: 2.2097 - accuracy: 0.3166 - auc: 0.8869 - val_loss: 2.2931 - val_accuracy: 0.3026 - val_auc: 0.8743\n",
      "Epoch 24/200\n",
      "348/348 [==============================] - 1s 4ms/step - loss: 2.2072 - accuracy: 0.3205 - auc: 0.8873 - val_loss: 2.2888 - val_accuracy: 0.3066 - val_auc: 0.8746\n",
      "Epoch 25/200\n",
      "348/348 [==============================] - 1s 4ms/step - loss: 2.1973 - accuracy: 0.3233 - auc: 0.8883 - val_loss: 2.2935 - val_accuracy: 0.3127 - val_auc: 0.8746\n",
      "Epoch 26/200\n",
      "348/348 [==============================] - 1s 4ms/step - loss: 2.1789 - accuracy: 0.3261 - auc: 0.8907 - val_loss: 2.2755 - val_accuracy: 0.3123 - val_auc: 0.8764\n",
      "Epoch 27/200\n",
      "348/348 [==============================] - 1s 4ms/step - loss: 2.1936 - accuracy: 0.3206 - auc: 0.8889 - val_loss: 2.2964 - val_accuracy: 0.3059 - val_auc: 0.8739\n",
      "Epoch 28/200\n",
      "348/348 [==============================] - 1s 4ms/step - loss: 2.1737 - accuracy: 0.3234 - auc: 0.8910 - val_loss: 2.3016 - val_accuracy: 0.3080 - val_auc: 0.8734\n",
      "Epoch 29/200\n",
      "348/348 [==============================] - 1s 4ms/step - loss: 2.1766 - accuracy: 0.3244 - auc: 0.8905 - val_loss: 2.2820 - val_accuracy: 0.3141 - val_auc: 0.8763\n",
      "Epoch 30/200\n",
      "348/348 [==============================] - 1s 4ms/step - loss: 2.1631 - accuracy: 0.3320 - auc: 0.8918 - val_loss: 2.3000 - val_accuracy: 0.3044 - val_auc: 0.8734\n",
      "Epoch 31/200\n",
      "348/348 [==============================] - 1s 4ms/step - loss: 2.1585 - accuracy: 0.3330 - auc: 0.8929 - val_loss: 2.2880 - val_accuracy: 0.3087 - val_auc: 0.8742\n",
      "Epoch 32/200\n",
      "348/348 [==============================] - 1s 3ms/step - loss: 2.1592 - accuracy: 0.3319 - auc: 0.8926 - val_loss: 2.2823 - val_accuracy: 0.3127 - val_auc: 0.8757\n",
      "Epoch 33/200\n",
      "348/348 [==============================] - 1s 3ms/step - loss: 2.1419 - accuracy: 0.3342 - auc: 0.8944 - val_loss: 2.2843 - val_accuracy: 0.3091 - val_auc: 0.8753\n",
      "Epoch 34/200\n",
      "348/348 [==============================] - 1s 4ms/step - loss: 2.1451 - accuracy: 0.3318 - auc: 0.8949 - val_loss: 2.2805 - val_accuracy: 0.3084 - val_auc: 0.8754\n",
      "Epoch 35/200\n",
      "348/348 [==============================] - 1s 4ms/step - loss: 2.1338 - accuracy: 0.3282 - auc: 0.8958 - val_loss: 2.2805 - val_accuracy: 0.3105 - val_auc: 0.8757\n",
      "Epoch 36/200\n",
      "348/348 [==============================] - 1s 3ms/step - loss: 2.1240 - accuracy: 0.3366 - auc: 0.8969 - val_loss: 2.2796 - val_accuracy: 0.3113 - val_auc: 0.8762\n",
      "Epoch 37/200\n",
      "348/348 [==============================] - 1s 4ms/step - loss: 2.1146 - accuracy: 0.3412 - auc: 0.8974 - val_loss: 2.2754 - val_accuracy: 0.3102 - val_auc: 0.8771\n",
      "Epoch 38/200\n",
      "348/348 [==============================] - 1s 4ms/step - loss: 2.1175 - accuracy: 0.3362 - auc: 0.8973 - val_loss: 2.2749 - val_accuracy: 0.3113 - val_auc: 0.8768\n",
      "Epoch 39/200\n",
      "348/348 [==============================] - 1s 4ms/step - loss: 2.1056 - accuracy: 0.3390 - auc: 0.8990 - val_loss: 2.2680 - val_accuracy: 0.3152 - val_auc: 0.8777\n",
      "Epoch 40/200\n",
      "348/348 [==============================] - 1s 4ms/step - loss: 2.0952 - accuracy: 0.3472 - auc: 0.9000 - val_loss: 2.2678 - val_accuracy: 0.3177 - val_auc: 0.8775\n",
      "Epoch 41/200\n",
      "348/348 [==============================] - 1s 4ms/step - loss: 2.0975 - accuracy: 0.3444 - auc: 0.9004 - val_loss: 2.2664 - val_accuracy: 0.3195 - val_auc: 0.8772\n",
      "Epoch 42/200\n",
      "348/348 [==============================] - 1s 3ms/step - loss: 2.0803 - accuracy: 0.3477 - auc: 0.9020 - val_loss: 2.2752 - val_accuracy: 0.3174 - val_auc: 0.8763\n",
      "Epoch 43/200\n",
      "348/348 [==============================] - 1s 3ms/step - loss: 2.0774 - accuracy: 0.3489 - auc: 0.9023 - val_loss: 2.2591 - val_accuracy: 0.3185 - val_auc: 0.8787\n",
      "Epoch 44/200\n",
      "348/348 [==============================] - 1s 4ms/step - loss: 2.0827 - accuracy: 0.3470 - auc: 0.9015 - val_loss: 2.2668 - val_accuracy: 0.3105 - val_auc: 0.8774\n",
      "Epoch 45/200\n",
      "348/348 [==============================] - 1s 3ms/step - loss: 2.0714 - accuracy: 0.3469 - auc: 0.9026 - val_loss: 2.2585 - val_accuracy: 0.3177 - val_auc: 0.8790\n",
      "Epoch 46/200\n",
      "348/348 [==============================] - 1s 3ms/step - loss: 2.0676 - accuracy: 0.3484 - auc: 0.9028 - val_loss: 2.2586 - val_accuracy: 0.3174 - val_auc: 0.8783\n",
      "Epoch 47/200\n",
      "348/348 [==============================] - 1s 3ms/step - loss: 2.0626 - accuracy: 0.3492 - auc: 0.9038 - val_loss: 2.2614 - val_accuracy: 0.3210 - val_auc: 0.8778\n",
      "Epoch 48/200\n",
      "348/348 [==============================] - 1s 3ms/step - loss: 2.0499 - accuracy: 0.3556 - auc: 0.9049 - val_loss: 2.2659 - val_accuracy: 0.3199 - val_auc: 0.8779\n",
      "Epoch 49/200\n",
      "348/348 [==============================] - 1s 3ms/step - loss: 2.0501 - accuracy: 0.3514 - auc: 0.9052 - val_loss: 2.2512 - val_accuracy: 0.3271 - val_auc: 0.8789\n",
      "Epoch 50/200\n",
      "348/348 [==============================] - 1s 3ms/step - loss: 2.0395 - accuracy: 0.3547 - auc: 0.9060 - val_loss: 2.2612 - val_accuracy: 0.3145 - val_auc: 0.8783\n",
      "Epoch 51/200\n",
      "348/348 [==============================] - 1s 3ms/step - loss: 2.0341 - accuracy: 0.3557 - auc: 0.9071 - val_loss: 2.2672 - val_accuracy: 0.3174 - val_auc: 0.8777\n",
      "Epoch 52/200\n",
      "348/348 [==============================] - 1s 3ms/step - loss: 2.0341 - accuracy: 0.3568 - auc: 0.9068 - val_loss: 2.2686 - val_accuracy: 0.3188 - val_auc: 0.8773\n",
      "Epoch 53/200\n",
      "348/348 [==============================] - 1s 3ms/step - loss: 2.0339 - accuracy: 0.3577 - auc: 0.9068 - val_loss: 2.2725 - val_accuracy: 0.3120 - val_auc: 0.8770\n",
      "Epoch 54/200\n",
      "348/348 [==============================] - 1s 3ms/step - loss: 2.0335 - accuracy: 0.3639 - auc: 0.9063 - val_loss: 2.2587 - val_accuracy: 0.3195 - val_auc: 0.8782\n",
      "Epoch 55/200\n",
      "348/348 [==============================] - 1s 3ms/step - loss: 2.0150 - accuracy: 0.3576 - auc: 0.9091 - val_loss: 2.2670 - val_accuracy: 0.3199 - val_auc: 0.8770\n",
      "Epoch 56/200\n",
      "348/348 [==============================] - 1s 4ms/step - loss: 2.0228 - accuracy: 0.3568 - auc: 0.9084 - val_loss: 2.2602 - val_accuracy: 0.3174 - val_auc: 0.8782\n",
      "Epoch 57/200\n",
      "348/348 [==============================] - 1s 4ms/step - loss: 2.0079 - accuracy: 0.3585 - auc: 0.9096 - val_loss: 2.2909 - val_accuracy: 0.3102 - val_auc: 0.8743\n",
      "Epoch 58/200\n",
      "348/348 [==============================] - 1s 4ms/step - loss: 1.9952 - accuracy: 0.3646 - auc: 0.9115 - val_loss: 2.2647 - val_accuracy: 0.3170 - val_auc: 0.8777\n",
      "Epoch 59/200\n",
      "348/348 [==============================] - 1s 3ms/step - loss: 2.0050 - accuracy: 0.3615 - auc: 0.9101 - val_loss: 2.2559 - val_accuracy: 0.3249 - val_auc: 0.8783\n",
      "Epoch 60/200\n",
      "348/348 [==============================] - 1s 3ms/step - loss: 2.0034 - accuracy: 0.3611 - auc: 0.9104 - val_loss: 2.2680 - val_accuracy: 0.3149 - val_auc: 0.8768\n",
      "Epoch 61/200\n",
      "348/348 [==============================] - 1s 3ms/step - loss: 1.9896 - accuracy: 0.3703 - auc: 0.9115 - val_loss: 2.2730 - val_accuracy: 0.3102 - val_auc: 0.8768\n",
      "Epoch 62/200\n",
      "348/348 [==============================] - 1s 3ms/step - loss: 1.9864 - accuracy: 0.3675 - auc: 0.9115 - val_loss: 2.2657 - val_accuracy: 0.3239 - val_auc: 0.8772\n",
      "Epoch 63/200\n",
      "348/348 [==============================] - 1s 3ms/step - loss: 1.9818 - accuracy: 0.3704 - auc: 0.9126 - val_loss: 2.2691 - val_accuracy: 0.3199 - val_auc: 0.8769\n",
      "Epoch 64/200\n",
      "348/348 [==============================] - 1s 4ms/step - loss: 1.9793 - accuracy: 0.3681 - auc: 0.9127 - val_loss: 2.2686 - val_accuracy: 0.3167 - val_auc: 0.8769\n",
      "Epoch 65/200\n",
      "348/348 [==============================] - 1s 4ms/step - loss: 1.9710 - accuracy: 0.3733 - auc: 0.9135 - val_loss: 2.2750 - val_accuracy: 0.3181 - val_auc: 0.8754\n",
      "Epoch 66/200\n",
      "348/348 [==============================] - 1s 3ms/step - loss: 1.9769 - accuracy: 0.3681 - auc: 0.9126 - val_loss: 2.2666 - val_accuracy: 0.3203 - val_auc: 0.8781\n",
      "Epoch 67/200\n",
      "348/348 [==============================] - 1s 3ms/step - loss: 1.9642 - accuracy: 0.3737 - auc: 0.9146 - val_loss: 2.2610 - val_accuracy: 0.3159 - val_auc: 0.8784\n",
      "Epoch 68/200\n",
      "348/348 [==============================] - 1s 3ms/step - loss: 1.9511 - accuracy: 0.3781 - auc: 0.9147 - val_loss: 2.2631 - val_accuracy: 0.3264 - val_auc: 0.8780\n",
      "Epoch 69/200\n",
      "348/348 [==============================] - 1s 3ms/step - loss: 1.9611 - accuracy: 0.3756 - auc: 0.9143 - val_loss: 2.2593 - val_accuracy: 0.3174 - val_auc: 0.8785\n",
      "Epoch 70/200\n",
      "348/348 [==============================] - 1s 3ms/step - loss: 1.9631 - accuracy: 0.3784 - auc: 0.9142 - val_loss: 2.2700 - val_accuracy: 0.3170 - val_auc: 0.8778\n",
      "Epoch 71/200\n",
      "348/348 [==============================] - 1s 3ms/step - loss: 1.9383 - accuracy: 0.3750 - auc: 0.9171 - val_loss: 2.2573 - val_accuracy: 0.3199 - val_auc: 0.8783\n",
      "Epoch 72/200\n",
      "348/348 [==============================] - 1s 3ms/step - loss: 1.9437 - accuracy: 0.3787 - auc: 0.9159 - val_loss: 2.2680 - val_accuracy: 0.3199 - val_auc: 0.8773\n",
      "Epoch 73/200\n",
      "348/348 [==============================] - 1s 3ms/step - loss: 1.9416 - accuracy: 0.3797 - auc: 0.9159 - val_loss: 2.2568 - val_accuracy: 0.3174 - val_auc: 0.8785\n",
      "Epoch 74/200\n",
      "348/348 [==============================] - 1s 3ms/step - loss: 1.9455 - accuracy: 0.3763 - auc: 0.9163 - val_loss: 2.2610 - val_accuracy: 0.3192 - val_auc: 0.8782\n",
      "Epoch 75/200\n",
      "348/348 [==============================] - 1s 3ms/step - loss: 1.9294 - accuracy: 0.3824 - auc: 0.9176 - val_loss: 2.2661 - val_accuracy: 0.3217 - val_auc: 0.8771\n",
      "Epoch 76/200\n",
      "348/348 [==============================] - 1s 3ms/step - loss: 1.9232 - accuracy: 0.3866 - auc: 0.9179 - val_loss: 2.2571 - val_accuracy: 0.3300 - val_auc: 0.8784\n",
      "Epoch 77/200\n",
      "348/348 [==============================] - 1s 3ms/step - loss: 1.9177 - accuracy: 0.3849 - auc: 0.9183 - val_loss: 2.2565 - val_accuracy: 0.3195 - val_auc: 0.8784\n",
      "Epoch 78/200\n",
      "348/348 [==============================] - 1s 3ms/step - loss: 1.9278 - accuracy: 0.3837 - auc: 0.9173 - val_loss: 2.2595 - val_accuracy: 0.3181 - val_auc: 0.8781\n",
      "Epoch 79/200\n",
      "348/348 [==============================] - 1s 3ms/step - loss: 1.9149 - accuracy: 0.3855 - auc: 0.9191 - val_loss: 2.2593 - val_accuracy: 0.3253 - val_auc: 0.8784\n",
      "Epoch 80/200\n",
      "348/348 [==============================] - 1s 3ms/step - loss: 1.8974 - accuracy: 0.3921 - auc: 0.9206 - val_loss: 2.2637 - val_accuracy: 0.3224 - val_auc: 0.8776\n",
      "Epoch 81/200\n",
      "348/348 [==============================] - 1s 3ms/step - loss: 1.8898 - accuracy: 0.3898 - auc: 0.9216 - val_loss: 2.2686 - val_accuracy: 0.3253 - val_auc: 0.8773\n",
      "Epoch 82/200\n",
      "348/348 [==============================] - 1s 3ms/step - loss: 1.9112 - accuracy: 0.3863 - auc: 0.9195 - val_loss: 2.2677 - val_accuracy: 0.3188 - val_auc: 0.8770\n",
      "Epoch 83/200\n",
      "348/348 [==============================] - 1s 3ms/step - loss: 1.8935 - accuracy: 0.3939 - auc: 0.9208 - val_loss: 2.2639 - val_accuracy: 0.3199 - val_auc: 0.8784\n",
      "Epoch 84/200\n",
      "348/348 [==============================] - 1s 3ms/step - loss: 1.9008 - accuracy: 0.3923 - auc: 0.9203 - val_loss: 2.2609 - val_accuracy: 0.3231 - val_auc: 0.8781\n",
      "Epoch 85/200\n",
      "348/348 [==============================] - 1s 3ms/step - loss: 1.8888 - accuracy: 0.3931 - auc: 0.9208 - val_loss: 2.2734 - val_accuracy: 0.3206 - val_auc: 0.8768\n",
      "Epoch 86/200\n",
      "348/348 [==============================] - 1s 3ms/step - loss: 1.8873 - accuracy: 0.3905 - auc: 0.9215 - val_loss: 2.2639 - val_accuracy: 0.3231 - val_auc: 0.8785\n",
      "Epoch 87/200\n",
      "348/348 [==============================] - 1s 3ms/step - loss: 1.8816 - accuracy: 0.3979 - auc: 0.9222 - val_loss: 2.2712 - val_accuracy: 0.3149 - val_auc: 0.8770\n",
      "Epoch 88/200\n",
      "348/348 [==============================] - 1s 3ms/step - loss: 1.8819 - accuracy: 0.3944 - auc: 0.9222 - val_loss: 2.2696 - val_accuracy: 0.3249 - val_auc: 0.8769\n",
      "Epoch 89/200\n",
      "348/348 [==============================] - 1s 3ms/step - loss: 1.8787 - accuracy: 0.3951 - auc: 0.9226 - val_loss: 2.2696 - val_accuracy: 0.3206 - val_auc: 0.8766\n",
      "Epoch 90/200\n",
      "348/348 [==============================] - 1s 3ms/step - loss: 1.8747 - accuracy: 0.3897 - auc: 0.9229 - val_loss: 2.2721 - val_accuracy: 0.3203 - val_auc: 0.8762\n",
      "Epoch 91/200\n",
      "348/348 [==============================] - 1s 3ms/step - loss: 1.8663 - accuracy: 0.3926 - auc: 0.9238 - val_loss: 2.2643 - val_accuracy: 0.3253 - val_auc: 0.8770\n",
      "Epoch 92/200\n",
      "348/348 [==============================] - 1s 4ms/step - loss: 1.8760 - accuracy: 0.3953 - auc: 0.9226 - val_loss: 2.2660 - val_accuracy: 0.3224 - val_auc: 0.8766\n",
      "Epoch 93/200\n",
      "348/348 [==============================] - 1s 4ms/step - loss: 1.8567 - accuracy: 0.3981 - auc: 0.9247 - val_loss: 2.2598 - val_accuracy: 0.3163 - val_auc: 0.8783\n",
      "Epoch 94/200\n",
      "348/348 [==============================] - 1s 4ms/step - loss: 1.8736 - accuracy: 0.3919 - auc: 0.9229 - val_loss: 2.2694 - val_accuracy: 0.3181 - val_auc: 0.8767\n",
      "Epoch 95/200\n",
      "348/348 [==============================] - 1s 4ms/step - loss: 1.8576 - accuracy: 0.3990 - auc: 0.9240 - val_loss: 2.2727 - val_accuracy: 0.3188 - val_auc: 0.8765\n",
      "Epoch 96/200\n",
      "348/348 [==============================] - 1s 4ms/step - loss: 1.8554 - accuracy: 0.3954 - auc: 0.9249 - val_loss: 2.2669 - val_accuracy: 0.3231 - val_auc: 0.8770\n",
      "Epoch 97/200\n",
      "348/348 [==============================] - 1s 4ms/step - loss: 1.8565 - accuracy: 0.4028 - auc: 0.9242 - val_loss: 2.2630 - val_accuracy: 0.3156 - val_auc: 0.8779\n",
      "Epoch 98/200\n",
      "348/348 [==============================] - 1s 4ms/step - loss: 1.8612 - accuracy: 0.3995 - auc: 0.9240 - val_loss: 2.2582 - val_accuracy: 0.3231 - val_auc: 0.8770\n",
      "Epoch 99/200\n",
      "348/348 [==============================] - 1s 4ms/step - loss: 1.8400 - accuracy: 0.4019 - auc: 0.9262 - val_loss: 2.2656 - val_accuracy: 0.3257 - val_auc: 0.8774\n",
      "Epoch 100/200\n",
      "348/348 [==============================] - 1s 4ms/step - loss: 1.8442 - accuracy: 0.4003 - auc: 0.9259 - val_loss: 2.2842 - val_accuracy: 0.3231 - val_auc: 0.8750\n",
      "Epoch 101/200\n",
      "348/348 [==============================] - 1s 4ms/step - loss: 1.8347 - accuracy: 0.4108 - auc: 0.9260 - val_loss: 2.2682 - val_accuracy: 0.3192 - val_auc: 0.8759\n",
      "Epoch 102/200\n",
      "348/348 [==============================] - 1s 4ms/step - loss: 1.8377 - accuracy: 0.4075 - auc: 0.9262 - val_loss: 2.2796 - val_accuracy: 0.3199 - val_auc: 0.8748\n",
      "Epoch 103/200\n",
      "348/348 [==============================] - 1s 4ms/step - loss: 1.8426 - accuracy: 0.4016 - auc: 0.9257 - val_loss: 2.2632 - val_accuracy: 0.3246 - val_auc: 0.8765\n",
      "Epoch 104/200\n",
      "348/348 [==============================] - 1s 4ms/step - loss: 1.8304 - accuracy: 0.4016 - auc: 0.9274 - val_loss: 2.2766 - val_accuracy: 0.3188 - val_auc: 0.8754\n",
      "Epoch 105/200\n",
      "348/348 [==============================] - 1s 4ms/step - loss: 1.8324 - accuracy: 0.4053 - auc: 0.9269 - val_loss: 2.2763 - val_accuracy: 0.3275 - val_auc: 0.8757\n",
      "Epoch 106/200\n",
      "348/348 [==============================] - 1s 4ms/step - loss: 1.8222 - accuracy: 0.4062 - auc: 0.9275 - val_loss: 2.2795 - val_accuracy: 0.3206 - val_auc: 0.8753\n",
      "Epoch 107/200\n",
      "348/348 [==============================] - 1s 4ms/step - loss: 1.8174 - accuracy: 0.4108 - auc: 0.9281 - val_loss: 2.2874 - val_accuracy: 0.3203 - val_auc: 0.8758\n",
      "Epoch 108/200\n",
      "348/348 [==============================] - 1s 4ms/step - loss: 1.8084 - accuracy: 0.4123 - auc: 0.9293 - val_loss: 2.2820 - val_accuracy: 0.3206 - val_auc: 0.8758\n",
      "Epoch 109/200\n",
      "348/348 [==============================] - 2s 5ms/step - loss: 1.8217 - accuracy: 0.4107 - auc: 0.9273 - val_loss: 2.2776 - val_accuracy: 0.3228 - val_auc: 0.8757\n",
      "Epoch 110/200\n",
      "348/348 [==============================] - 2s 4ms/step - loss: 1.8248 - accuracy: 0.4101 - auc: 0.9269 - val_loss: 2.2718 - val_accuracy: 0.3231 - val_auc: 0.8761\n",
      "Epoch 111/200\n",
      "348/348 [==============================] - 2s 5ms/step - loss: 1.8129 - accuracy: 0.4115 - auc: 0.9284 - val_loss: 2.2799 - val_accuracy: 0.3156 - val_auc: 0.8753\n",
      "Epoch 112/200\n",
      "348/348 [==============================] - 2s 5ms/step - loss: 1.8097 - accuracy: 0.4108 - auc: 0.9288 - val_loss: 2.2779 - val_accuracy: 0.3203 - val_auc: 0.8756\n",
      "Epoch 113/200\n",
      "348/348 [==============================] - 1s 4ms/step - loss: 1.7903 - accuracy: 0.4131 - auc: 0.9306 - val_loss: 2.2900 - val_accuracy: 0.3221 - val_auc: 0.8751\n",
      "Epoch 114/200\n",
      "348/348 [==============================] - 1s 4ms/step - loss: 1.8116 - accuracy: 0.4093 - auc: 0.9286 - val_loss: 2.2873 - val_accuracy: 0.3174 - val_auc: 0.8749\n",
      "Epoch 115/200\n",
      "348/348 [==============================] - 1s 4ms/step - loss: 1.8073 - accuracy: 0.4102 - auc: 0.9286 - val_loss: 2.2791 - val_accuracy: 0.3138 - val_auc: 0.8760\n",
      "Epoch 116/200\n",
      "348/348 [==============================] - 1s 4ms/step - loss: 1.8105 - accuracy: 0.4132 - auc: 0.9285 - val_loss: 2.2821 - val_accuracy: 0.3163 - val_auc: 0.8755\n",
      "Epoch 117/200\n",
      "348/348 [==============================] - 1s 4ms/step - loss: 1.8019 - accuracy: 0.4142 - auc: 0.9289 - val_loss: 2.2757 - val_accuracy: 0.3113 - val_auc: 0.8760\n",
      "Epoch 118/200\n",
      "348/348 [==============================] - 1s 4ms/step - loss: 1.8044 - accuracy: 0.4156 - auc: 0.9291 - val_loss: 2.2860 - val_accuracy: 0.3116 - val_auc: 0.8757\n",
      "Epoch 119/200\n",
      "348/348 [==============================] - 1s 4ms/step - loss: 1.7839 - accuracy: 0.4105 - auc: 0.9311 - val_loss: 2.2851 - val_accuracy: 0.3210 - val_auc: 0.8747\n",
      "Epoch 120/200\n",
      "348/348 [==============================] - 1s 4ms/step - loss: 1.7880 - accuracy: 0.4185 - auc: 0.9304 - val_loss: 2.2945 - val_accuracy: 0.3080 - val_auc: 0.8751\n",
      "Epoch 121/200\n",
      "348/348 [==============================] - 1s 4ms/step - loss: 1.7872 - accuracy: 0.4167 - auc: 0.9304 - val_loss: 2.2795 - val_accuracy: 0.3199 - val_auc: 0.8760\n",
      "Epoch 122/200\n",
      "348/348 [==============================] - 1s 4ms/step - loss: 1.7845 - accuracy: 0.4176 - auc: 0.9309 - val_loss: 2.2846 - val_accuracy: 0.3271 - val_auc: 0.8763\n",
      "Epoch 123/200\n",
      "348/348 [==============================] - 1s 4ms/step - loss: 1.7865 - accuracy: 0.4153 - auc: 0.9308 - val_loss: 2.2829 - val_accuracy: 0.3257 - val_auc: 0.8751\n",
      "Epoch 124/200\n",
      "348/348 [==============================] - 1s 4ms/step - loss: 1.7678 - accuracy: 0.4259 - auc: 0.9315 - val_loss: 2.2905 - val_accuracy: 0.3206 - val_auc: 0.8752\n",
      "Epoch 125/200\n",
      "348/348 [==============================] - 1s 4ms/step - loss: 1.7579 - accuracy: 0.4244 - auc: 0.9333 - val_loss: 2.2869 - val_accuracy: 0.3159 - val_auc: 0.8748\n",
      "Epoch 126/200\n",
      "348/348 [==============================] - 1s 4ms/step - loss: 1.7756 - accuracy: 0.4229 - auc: 0.9308 - val_loss: 2.2823 - val_accuracy: 0.3174 - val_auc: 0.8751\n",
      "Epoch 127/200\n",
      "348/348 [==============================] - 2s 4ms/step - loss: 1.7871 - accuracy: 0.4217 - auc: 0.9305 - val_loss: 2.2905 - val_accuracy: 0.3181 - val_auc: 0.8745\n",
      "Epoch 128/200\n",
      "348/348 [==============================] - 1s 4ms/step - loss: 1.7739 - accuracy: 0.4140 - auc: 0.9316 - val_loss: 2.2823 - val_accuracy: 0.3188 - val_auc: 0.8750\n",
      "Epoch 129/200\n",
      "348/348 [==============================] - 2s 4ms/step - loss: 1.7493 - accuracy: 0.4215 - auc: 0.9341 - val_loss: 2.2841 - val_accuracy: 0.3181 - val_auc: 0.8765\n",
      "Epoch 130/200\n",
      "348/348 [==============================] - 1s 4ms/step - loss: 1.7655 - accuracy: 0.4208 - auc: 0.9328 - val_loss: 2.2897 - val_accuracy: 0.3141 - val_auc: 0.8751\n",
      "Epoch 131/200\n",
      "348/348 [==============================] - 1s 4ms/step - loss: 1.7556 - accuracy: 0.4254 - auc: 0.9332 - val_loss: 2.2793 - val_accuracy: 0.3203 - val_auc: 0.8750\n",
      "Epoch 132/200\n",
      "348/348 [==============================] - 1s 4ms/step - loss: 1.7719 - accuracy: 0.4169 - auc: 0.9314 - val_loss: 2.2936 - val_accuracy: 0.3170 - val_auc: 0.8750\n",
      "Epoch 133/200\n",
      "348/348 [==============================] - 1s 4ms/step - loss: 1.7668 - accuracy: 0.4252 - auc: 0.9321 - val_loss: 2.2869 - val_accuracy: 0.3278 - val_auc: 0.8750\n",
      "Epoch 134/200\n",
      "348/348 [==============================] - 1s 4ms/step - loss: 1.7527 - accuracy: 0.4222 - auc: 0.9338 - val_loss: 2.2882 - val_accuracy: 0.3109 - val_auc: 0.8750\n",
      "Epoch 135/200\n",
      "348/348 [==============================] - 1s 4ms/step - loss: 1.7499 - accuracy: 0.4224 - auc: 0.9337 - val_loss: 2.2840 - val_accuracy: 0.3264 - val_auc: 0.8756\n",
      "Epoch 136/200\n",
      "348/348 [==============================] - 1s 4ms/step - loss: 1.7554 - accuracy: 0.4198 - auc: 0.9336 - val_loss: 2.2774 - val_accuracy: 0.3242 - val_auc: 0.8751\n",
      "Epoch 137/200\n",
      "348/348 [==============================] - 1s 4ms/step - loss: 1.7472 - accuracy: 0.4263 - auc: 0.9340 - val_loss: 2.2932 - val_accuracy: 0.3199 - val_auc: 0.8749\n",
      "Epoch 138/200\n",
      "348/348 [==============================] - 1s 4ms/step - loss: 1.7513 - accuracy: 0.4238 - auc: 0.9334 - val_loss: 2.2983 - val_accuracy: 0.3210 - val_auc: 0.8746\n",
      "Epoch 139/200\n",
      "348/348 [==============================] - 1s 4ms/step - loss: 1.7512 - accuracy: 0.4271 - auc: 0.9331 - val_loss: 2.3052 - val_accuracy: 0.3123 - val_auc: 0.8748\n",
      "Epoch 140/200\n",
      "348/348 [==============================] - 1s 4ms/step - loss: 1.7505 - accuracy: 0.4259 - auc: 0.9337 - val_loss: 2.2782 - val_accuracy: 0.3203 - val_auc: 0.8760\n",
      "Epoch 141/200\n",
      "348/348 [==============================] - 1s 4ms/step - loss: 1.7373 - accuracy: 0.4262 - auc: 0.9346 - val_loss: 2.2842 - val_accuracy: 0.3239 - val_auc: 0.8752\n",
      "Epoch 142/200\n",
      "348/348 [==============================] - 1s 4ms/step - loss: 1.7275 - accuracy: 0.4393 - auc: 0.9350 - val_loss: 2.2924 - val_accuracy: 0.3181 - val_auc: 0.8746\n",
      "Epoch 143/200\n",
      "348/348 [==============================] - 1s 4ms/step - loss: 1.7382 - accuracy: 0.4271 - auc: 0.9347 - val_loss: 2.2896 - val_accuracy: 0.3199 - val_auc: 0.8751\n",
      "Epoch 144/200\n",
      "348/348 [==============================] - 1s 4ms/step - loss: 1.7291 - accuracy: 0.4331 - auc: 0.9354 - val_loss: 2.3020 - val_accuracy: 0.3159 - val_auc: 0.8738\n",
      "Epoch 145/200\n",
      "348/348 [==============================] - 1s 4ms/step - loss: 1.7243 - accuracy: 0.4355 - auc: 0.9362 - val_loss: 2.2956 - val_accuracy: 0.3105 - val_auc: 0.8749\n",
      "Epoch 146/200\n",
      "348/348 [==============================] - 1s 4ms/step - loss: 1.7209 - accuracy: 0.4297 - auc: 0.9363 - val_loss: 2.2983 - val_accuracy: 0.3159 - val_auc: 0.8741\n",
      "Epoch 147/200\n",
      "348/348 [==============================] - 1s 4ms/step - loss: 1.7310 - accuracy: 0.4330 - auc: 0.9354 - val_loss: 2.2931 - val_accuracy: 0.3181 - val_auc: 0.8752\n",
      "Epoch 148/200\n",
      "348/348 [==============================] - 1s 4ms/step - loss: 1.7170 - accuracy: 0.4382 - auc: 0.9364 - val_loss: 2.2885 - val_accuracy: 0.3141 - val_auc: 0.8753\n",
      "Epoch 149/200\n",
      "348/348 [==============================] - 1s 4ms/step - loss: 1.7106 - accuracy: 0.4369 - auc: 0.9365 - val_loss: 2.3092 - val_accuracy: 0.3163 - val_auc: 0.8732\n",
      "Epoch 150/200\n",
      "348/348 [==============================] - 1s 4ms/step - loss: 1.7276 - accuracy: 0.4333 - auc: 0.9360 - val_loss: 2.3017 - val_accuracy: 0.3134 - val_auc: 0.8737\n",
      "Epoch 151/200\n",
      "348/348 [==============================] - 1s 4ms/step - loss: 1.7241 - accuracy: 0.4376 - auc: 0.9357 - val_loss: 2.2985 - val_accuracy: 0.3174 - val_auc: 0.8746\n",
      "Epoch 152/200\n",
      "348/348 [==============================] - 1s 4ms/step - loss: 1.7191 - accuracy: 0.4379 - auc: 0.9360 - val_loss: 2.2945 - val_accuracy: 0.3152 - val_auc: 0.8747\n",
      "Epoch 153/200\n",
      "348/348 [==============================] - 1s 4ms/step - loss: 1.7227 - accuracy: 0.4380 - auc: 0.9358 - val_loss: 2.2861 - val_accuracy: 0.3145 - val_auc: 0.8753\n",
      "Epoch 154/200\n",
      "348/348 [==============================] - 1s 4ms/step - loss: 1.7154 - accuracy: 0.4354 - auc: 0.9369 - val_loss: 2.3045 - val_accuracy: 0.3195 - val_auc: 0.8737\n",
      "Epoch 155/200\n",
      "348/348 [==============================] - 1s 4ms/step - loss: 1.7093 - accuracy: 0.4340 - auc: 0.9373 - val_loss: 2.2904 - val_accuracy: 0.3239 - val_auc: 0.8750\n",
      "Epoch 156/200\n",
      "348/348 [==============================] - 1s 4ms/step - loss: 1.7123 - accuracy: 0.4363 - auc: 0.9366 - val_loss: 2.2944 - val_accuracy: 0.3167 - val_auc: 0.8746\n",
      "Epoch 157/200\n",
      "348/348 [==============================] - 1s 4ms/step - loss: 1.7021 - accuracy: 0.4372 - auc: 0.9375 - val_loss: 2.3006 - val_accuracy: 0.3177 - val_auc: 0.8745\n",
      "Epoch 158/200\n",
      "348/348 [==============================] - 1s 4ms/step - loss: 1.7098 - accuracy: 0.4371 - auc: 0.9367 - val_loss: 2.3022 - val_accuracy: 0.3203 - val_auc: 0.8739\n",
      "Epoch 159/200\n",
      "348/348 [==============================] - 1s 4ms/step - loss: 1.6992 - accuracy: 0.4411 - auc: 0.9380 - val_loss: 2.2946 - val_accuracy: 0.3145 - val_auc: 0.8747\n",
      "Epoch 160/200\n",
      "348/348 [==============================] - 1s 4ms/step - loss: 1.6956 - accuracy: 0.4399 - auc: 0.9376 - val_loss: 2.2939 - val_accuracy: 0.3199 - val_auc: 0.8739\n",
      "Epoch 161/200\n",
      "348/348 [==============================] - 1s 4ms/step - loss: 1.6965 - accuracy: 0.4434 - auc: 0.9375 - val_loss: 2.2973 - val_accuracy: 0.3192 - val_auc: 0.8743\n",
      "Epoch 162/200\n",
      "348/348 [==============================] - 1s 4ms/step - loss: 1.6994 - accuracy: 0.4370 - auc: 0.9377 - val_loss: 2.3031 - val_accuracy: 0.3131 - val_auc: 0.8744\n",
      "Epoch 163/200\n",
      "348/348 [==============================] - 1s 4ms/step - loss: 1.6952 - accuracy: 0.4403 - auc: 0.9384 - val_loss: 2.2974 - val_accuracy: 0.3145 - val_auc: 0.8732\n",
      "Epoch 164/200\n",
      "348/348 [==============================] - 1s 4ms/step - loss: 1.7056 - accuracy: 0.4407 - auc: 0.9364 - val_loss: 2.2925 - val_accuracy: 0.3199 - val_auc: 0.8752\n",
      "Epoch 165/200\n",
      "348/348 [==============================] - 1s 4ms/step - loss: 1.7008 - accuracy: 0.4329 - auc: 0.9377 - val_loss: 2.3045 - val_accuracy: 0.3141 - val_auc: 0.8740\n",
      "Epoch 166/200\n",
      "348/348 [==============================] - 1s 4ms/step - loss: 1.7019 - accuracy: 0.4357 - auc: 0.9381 - val_loss: 2.3011 - val_accuracy: 0.3091 - val_auc: 0.8728\n",
      "Epoch 167/200\n",
      "348/348 [==============================] - 1s 4ms/step - loss: 1.6909 - accuracy: 0.4401 - auc: 0.9380 - val_loss: 2.3011 - val_accuracy: 0.3167 - val_auc: 0.8739\n",
      "Epoch 168/200\n",
      "348/348 [==============================] - 1s 4ms/step - loss: 1.6855 - accuracy: 0.4449 - auc: 0.9388 - val_loss: 2.3029 - val_accuracy: 0.3195 - val_auc: 0.8728\n",
      "Epoch 169/200\n",
      "348/348 [==============================] - 1s 4ms/step - loss: 1.6930 - accuracy: 0.4383 - auc: 0.9381 - val_loss: 2.3003 - val_accuracy: 0.3167 - val_auc: 0.8733\n",
      "Epoch 170/200\n",
      "348/348 [==============================] - 1s 4ms/step - loss: 1.7007 - accuracy: 0.4410 - auc: 0.9379 - val_loss: 2.3021 - val_accuracy: 0.3231 - val_auc: 0.8732\n",
      "Epoch 171/200\n",
      "348/348 [==============================] - 1s 4ms/step - loss: 1.7011 - accuracy: 0.4445 - auc: 0.9370 - val_loss: 2.2986 - val_accuracy: 0.3264 - val_auc: 0.8739\n",
      "Epoch 172/200\n",
      "348/348 [==============================] - 1s 4ms/step - loss: 1.6852 - accuracy: 0.4401 - auc: 0.9392 - val_loss: 2.3101 - val_accuracy: 0.3105 - val_auc: 0.8732\n",
      "Epoch 173/200\n",
      "348/348 [==============================] - 1s 4ms/step - loss: 1.6962 - accuracy: 0.4385 - auc: 0.9385 - val_loss: 2.2989 - val_accuracy: 0.3120 - val_auc: 0.8737\n",
      "Epoch 174/200\n",
      "348/348 [==============================] - 1s 4ms/step - loss: 1.6799 - accuracy: 0.4474 - auc: 0.9392 - val_loss: 2.2916 - val_accuracy: 0.3228 - val_auc: 0.8750\n",
      "Epoch 175/200\n",
      "348/348 [==============================] - 2s 4ms/step - loss: 1.6721 - accuracy: 0.4460 - auc: 0.9402 - val_loss: 2.3036 - val_accuracy: 0.3156 - val_auc: 0.8739\n",
      "Epoch 176/200\n",
      "348/348 [==============================] - 1s 4ms/step - loss: 1.6790 - accuracy: 0.4406 - auc: 0.9397 - val_loss: 2.3101 - val_accuracy: 0.3228 - val_auc: 0.8739\n",
      "Epoch 177/200\n",
      "348/348 [==============================] - 1s 4ms/step - loss: 1.6789 - accuracy: 0.4394 - auc: 0.9398 - val_loss: 2.3012 - val_accuracy: 0.3235 - val_auc: 0.8741\n",
      "Epoch 178/200\n",
      "348/348 [==============================] - 1s 4ms/step - loss: 1.6682 - accuracy: 0.4546 - auc: 0.9394 - val_loss: 2.3157 - val_accuracy: 0.3224 - val_auc: 0.8731\n",
      "Epoch 179/200\n",
      "348/348 [==============================] - 1s 4ms/step - loss: 1.6764 - accuracy: 0.4496 - auc: 0.9391 - val_loss: 2.3048 - val_accuracy: 0.3163 - val_auc: 0.8741\n",
      "Epoch 180/200\n",
      "348/348 [==============================] - 1s 4ms/step - loss: 1.6799 - accuracy: 0.4432 - auc: 0.9396 - val_loss: 2.3116 - val_accuracy: 0.3163 - val_auc: 0.8730\n",
      "Epoch 181/200\n",
      "348/348 [==============================] - 1s 4ms/step - loss: 1.6642 - accuracy: 0.4465 - auc: 0.9410 - val_loss: 2.3131 - val_accuracy: 0.3228 - val_auc: 0.8736\n",
      "Epoch 182/200\n",
      "348/348 [==============================] - 1s 4ms/step - loss: 1.6780 - accuracy: 0.4453 - auc: 0.9393 - val_loss: 2.3152 - val_accuracy: 0.3123 - val_auc: 0.8730\n",
      "Epoch 183/200\n",
      "348/348 [==============================] - 1s 4ms/step - loss: 1.6662 - accuracy: 0.4482 - auc: 0.9403 - val_loss: 2.3016 - val_accuracy: 0.3138 - val_auc: 0.8745\n",
      "Epoch 184/200\n",
      "348/348 [==============================] - 1s 4ms/step - loss: 1.6679 - accuracy: 0.4469 - auc: 0.9406 - val_loss: 2.3025 - val_accuracy: 0.3127 - val_auc: 0.8745\n",
      "Epoch 185/200\n",
      "348/348 [==============================] - 1s 4ms/step - loss: 1.6554 - accuracy: 0.4521 - auc: 0.9411 - val_loss: 2.3122 - val_accuracy: 0.3141 - val_auc: 0.8726\n",
      "Epoch 186/200\n",
      "348/348 [==============================] - 1s 4ms/step - loss: 1.6640 - accuracy: 0.4452 - auc: 0.9405 - val_loss: 2.3129 - val_accuracy: 0.3203 - val_auc: 0.8733\n",
      "Epoch 187/200\n",
      "348/348 [==============================] - 1s 4ms/step - loss: 1.6602 - accuracy: 0.4528 - auc: 0.9409 - val_loss: 2.3133 - val_accuracy: 0.3141 - val_auc: 0.8730\n",
      "Epoch 188/200\n",
      "348/348 [==============================] - 1s 4ms/step - loss: 1.6612 - accuracy: 0.4513 - auc: 0.9404 - val_loss: 2.3217 - val_accuracy: 0.3055 - val_auc: 0.8721\n",
      "Epoch 189/200\n",
      "348/348 [==============================] - 1s 4ms/step - loss: 1.6645 - accuracy: 0.4430 - auc: 0.9405 - val_loss: 2.3196 - val_accuracy: 0.3156 - val_auc: 0.8726\n",
      "Epoch 190/200\n",
      "348/348 [==============================] - 1s 4ms/step - loss: 1.6619 - accuracy: 0.4490 - auc: 0.9409 - val_loss: 2.3102 - val_accuracy: 0.3109 - val_auc: 0.8732\n",
      "Epoch 191/200\n",
      "348/348 [==============================] - 1s 4ms/step - loss: 1.6469 - accuracy: 0.4590 - auc: 0.9415 - val_loss: 2.3141 - val_accuracy: 0.3174 - val_auc: 0.8725\n",
      "Epoch 192/200\n",
      "348/348 [==============================] - 1s 3ms/step - loss: 1.6631 - accuracy: 0.4463 - auc: 0.9409 - val_loss: 2.3032 - val_accuracy: 0.3156 - val_auc: 0.8743\n",
      "Epoch 193/200\n",
      "348/348 [==============================] - 1s 4ms/step - loss: 1.6437 - accuracy: 0.4537 - auc: 0.9427 - val_loss: 2.3100 - val_accuracy: 0.3210 - val_auc: 0.8729\n",
      "Epoch 194/200\n",
      "348/348 [==============================] - 1s 4ms/step - loss: 1.6448 - accuracy: 0.4562 - auc: 0.9416 - val_loss: 2.3254 - val_accuracy: 0.3203 - val_auc: 0.8729\n",
      "Epoch 195/200\n",
      "348/348 [==============================] - 1s 4ms/step - loss: 1.6513 - accuracy: 0.4536 - auc: 0.9418 - val_loss: 2.3139 - val_accuracy: 0.3188 - val_auc: 0.8725\n",
      "Epoch 196/200\n",
      "348/348 [==============================] - 1s 4ms/step - loss: 1.6607 - accuracy: 0.4551 - auc: 0.9403 - val_loss: 2.3178 - val_accuracy: 0.3084 - val_auc: 0.8727\n",
      "Epoch 197/200\n",
      "348/348 [==============================] - 1s 4ms/step - loss: 1.6396 - accuracy: 0.4572 - auc: 0.9417 - val_loss: 2.3210 - val_accuracy: 0.3203 - val_auc: 0.8728\n",
      "Epoch 198/200\n",
      "348/348 [==============================] - 1s 4ms/step - loss: 1.6402 - accuracy: 0.4592 - auc: 0.9420 - val_loss: 2.3197 - val_accuracy: 0.3145 - val_auc: 0.8723\n",
      "Epoch 199/200\n",
      "348/348 [==============================] - 1s 4ms/step - loss: 1.6420 - accuracy: 0.4475 - auc: 0.9423 - val_loss: 2.3174 - val_accuracy: 0.3213 - val_auc: 0.8736\n",
      "Epoch 200/200\n",
      "348/348 [==============================] - 1s 4ms/step - loss: 1.6301 - accuracy: 0.4536 - auc: 0.9432 - val_loss: 2.3209 - val_accuracy: 0.3145 - val_auc: 0.8729\n"
     ]
    },
    {
     "data": {
      "text/plain": [
       "<keras.callbacks.History at 0x1985c6ed250>"
      ]
     },
     "execution_count": 33,
     "metadata": {},
     "output_type": "execute_result"
    }
   ],
   "source": [
    "from keras.callbacks import ModelCheckpoint \n",
    "from datetime import datetime \n",
    "num_epochs = 200\n",
    "num_batch_size = 32\n",
    "model.fit(x_train, y_train, batch_size=num_batch_size, epochs=num_epochs, validation_data=(x_test, y_test), verbose=1)"
   ]
  },
  {
   "cell_type": "code",
   "execution_count": 34,
   "metadata": {},
   "outputs": [],
   "source": [
    "# experiment.log_confusion_matrix()\n",
    "output = model.predict(x_test)"
   ]
  },
  {
   "cell_type": "code",
   "execution_count": 35,
   "metadata": {},
   "outputs": [
    {
     "data": {
      "text/plain": [
       "array([[5.65250457e-06, 1.80744624e-03, 2.33338758e-01, ...,\n",
       "        3.59225720e-01, 1.32962927e-01, 2.14455387e-04],\n",
       "       [9.84037433e-06, 1.64054113e-03, 1.26545853e-03, ...,\n",
       "        2.00024955e-02, 3.25994962e-03, 5.36233280e-03],\n",
       "       [1.29646668e-02, 3.11623189e-05, 9.73625629e-06, ...,\n",
       "        4.86253714e-03, 9.34050986e-05, 1.69972791e-05],\n",
       "       ...,\n",
       "       [1.10571145e-05, 9.19650216e-03, 1.09696705e-02, ...,\n",
       "        4.72280473e-01, 2.69560516e-03, 4.36853807e-05],\n",
       "       [5.40851150e-03, 5.42794354e-04, 7.01813435e-04, ...,\n",
       "        9.57900472e-03, 1.09953187e-04, 6.87831733e-03],\n",
       "       [4.80388444e-05, 8.59592557e-02, 2.37776097e-02, ...,\n",
       "        1.30768701e-01, 1.29955551e-02, 2.20168411e-04]], dtype=float32)"
      ]
     },
     "execution_count": 35,
     "metadata": {},
     "output_type": "execute_result"
    }
   ],
   "source": [
    "output"
   ]
  },
  {
   "cell_type": "code",
   "execution_count": 36,
   "metadata": {},
   "outputs": [
    {
     "name": "stdout",
     "output_type": "stream",
     "text": [
      "Training Accuracy: 60.19%\n",
      "Testing Accuracy: 31.45%\n"
     ]
    }
   ],
   "source": [
    "# Evaluating the model on the training and testing set\n",
    "score = model.evaluate(x_train, y_train, verbose=0)\n",
    "print(\"Training Accuracy: {0:.2%}\".format(score[1]))\n",
    "score = model.evaluate(x_test, y_test, verbose=0)\n",
    "print(\"Testing Accuracy: {0:.2%}\".format(score[1]))"
   ]
  },
  {
   "cell_type": "code",
   "execution_count": 37,
   "metadata": {},
   "outputs": [
    {
     "data": {
      "text/plain": [
       "(2779, 28)"
      ]
     },
     "execution_count": 37,
     "metadata": {},
     "output_type": "execute_result"
    }
   ],
   "source": [
    "y_test.shape"
   ]
  },
  {
   "cell_type": "code",
   "execution_count": 38,
   "metadata": {},
   "outputs": [
    {
     "data": {
      "text/plain": [
       "(2779, 28)"
      ]
     },
     "execution_count": 38,
     "metadata": {},
     "output_type": "execute_result"
    }
   ],
   "source": [
    "output.shape"
   ]
  },
  {
   "cell_type": "code",
   "execution_count": 39,
   "metadata": {},
   "outputs": [
    {
     "data": {
      "text/plain": [
       "0.8698172803966256"
      ]
     },
     "execution_count": 39,
     "metadata": {},
     "output_type": "execute_result"
    }
   ],
   "source": [
    "from sklearn.metrics import roc_curve, roc_auc_score\n",
    "roc_auc_score(y_test, output, multi_class='ovo', average='samples')"
   ]
  },
  {
   "cell_type": "code",
   "execution_count": 60,
   "metadata": {},
   "outputs": [],
   "source": [
    "import librosa.display\n",
    "def audiofun(fn):\n",
    "    librosa_audio, librosa_sample_rate = librosa.load(fn)\n",
    "    scipy_sample_rate, scipy_audio = wav.read(fn)\n",
    "    # print(\"Original sample rate: {}\".format(scipy_sample_rate))\n",
    "    # print(\"Librosa sample rate: {}\".format(librosa_sample_rate))\n",
    "    mfccs = librosa.feature.mfcc(y=librosa_audio, sr=librosa_sample_rate, n_mfcc = 100)\n",
    "    \n",
    "    # plt.figure(figsize=(8,8))\n",
    "\n",
    "    librosa.display.specshow(mfccs, sr=librosa_sample_rate, x_axis='time')\n",
    "\n",
    "    mfccs_processed = np.mean(mfccs.T,axis=0)\n",
    "\n",
    "    X = np.array(mfccs_processed.tolist())\n",
    "    x=np.reshape(X,(-1,100))\n",
    "    output = model.predict(x)\n",
    "    return output"
   ]
  },
  {
   "cell_type": "code",
   "execution_count": 61,
   "metadata": {},
   "outputs": [],
   "source": [
    "def top7Classes(output):\n",
    "    class_arr = []\n",
    "    #sort output descending\n",
    "    output_sorted = np.sort(output, axis=1)[:,::-1]\n",
    "    #first 5 elements of the output\n",
    "    output_sorted = output_sorted[:,:7]\n",
    "    #convert output_sorted to 1D array\n",
    "    output_sorted = np.reshape(output_sorted, -1)\n",
    "    #convert output_sorted to list\n",
    "    output_sorted = output_sorted.tolist()\n",
    "    output= np.reshape(output, -1)\n",
    "    output = output.tolist()\n",
    "    index = []\n",
    "    for i in output_sorted:\n",
    "        if i in output:\n",
    "            index.append(output.index(i))\n",
    "    class_name = [name for name in os.listdir(\".\") if os.path.isdir(name)]\n",
    "    class_name.remove('Test')\n",
    "    class_name.remove('.git')\n",
    "    # print(class_name)\n",
    "    # print(index)\n",
    "    for i in index:\n",
    "        class_arr.append(class_name[i])\n",
    "    print(class_arr)\n",
    "    return class_arr"
   ]
  },
  {
   "cell_type": "code",
   "execution_count": 42,
   "metadata": {},
   "outputs": [],
   "source": [
    "fn = 'Test/dv_test_1-[AudioTrimmer.com].wav'"
   ]
  },
  {
   "cell_type": "code",
   "execution_count": 43,
   "metadata": {},
   "outputs": [
    {
     "data": {
      "image/png": "[encoded data removed]",
      "text/plain": [
       "<Figure size 432x288 with 1 Axes>"
      ]
     },
     "metadata": {
      "needs_background": "light"
     },
     "output_type": "display_data"
    }
   ],
   "source": [
    "output = audiofun(fn)"
   ]
  },
  {
   "cell_type": "code",
   "execution_count": 44,
   "metadata": {},
   "outputs": [
    {
     "data": {
      "text/plain": [
       "array([[8.6640511e-03, 3.4526143e-05, 6.6636438e-03, 3.3941753e-02,\n",
       "        2.1536026e-07, 2.0586676e-04, 8.9822412e-02, 2.0560573e-03,\n",
       "        2.2224804e-02, 6.0470938e-03, 1.1659545e-02, 8.7026246e-02,\n",
       "        1.7948933e-04, 1.2478304e-02, 5.3198908e-02, 4.2589866e-02,\n",
       "        2.8969145e-03, 3.3749946e-04, 2.9553520e-02, 6.6198749e-03,\n",
       "        1.3377830e-01, 1.8622349e-04, 6.9003612e-02, 3.0313087e-01,\n",
       "        1.9950582e-02, 4.3461137e-03, 8.0075592e-04, 5.2603029e-02]],\n",
       "      dtype=float32)"
      ]
     },
     "execution_count": 44,
     "metadata": {},
     "output_type": "execute_result"
    }
   ],
   "source": [
    "output"
   ]
  },
  {
   "cell_type": "code",
   "execution_count": 45,
   "metadata": {},
   "outputs": [
    {
     "name": "stdout",
     "output_type": "stream",
     "text": [
      "['Whimper', 'Snicker', 'Conversation', 'Female speech, woman speaking', 'Wail, moan', 'Male speech, man speaking', 'Yell']\n"
     ]
    },
    {
     "data": {
      "text/plain": [
       "['Whimper',\n",
       " 'Snicker',\n",
       " 'Conversation',\n",
       " 'Female speech, woman speaking',\n",
       " 'Wail, moan',\n",
       " 'Male speech, man speaking',\n",
       " 'Yell']"
      ]
     },
     "execution_count": 45,
     "metadata": {},
     "output_type": "execute_result"
    }
   ],
   "source": [
    "top7Classes(output)"
   ]
  },
  {
   "cell_type": "code",
   "execution_count": 46,
   "metadata": {},
   "outputs": [],
   "source": [
    "fn2 = 'Test/test_2-[AudioTrimmer.com].wav'\n"
   ]
  },
  {
   "cell_type": "code",
   "execution_count": 47,
   "metadata": {},
   "outputs": [
    {
     "data": {
      "image/png": "[encoded data removed]",
      "text/plain": [
       "<Figure size 432x288 with 1 Axes>"
      ]
     },
     "metadata": {
      "needs_background": "light"
     },
     "output_type": "display_data"
    }
   ],
   "source": [
    "output = audiofun(fn2)"
   ]
  },
  {
   "cell_type": "code",
   "execution_count": 48,
   "metadata": {},
   "outputs": [
    {
     "data": {
      "text/plain": [
       "array([[0.00924996, 0.00136138, 0.01843526, 0.02641292, 0.00070969,\n",
       "        0.04760641, 0.01088794, 0.00354182, 0.039224  , 0.0396672 ,\n",
       "        0.00315731, 0.06209405, 0.00365675, 0.0384504 , 0.03329572,\n",
       "        0.11277533, 0.02865705, 0.004358  , 0.01822498, 0.01810035,\n",
       "        0.02251967, 0.00672448, 0.23910259, 0.08733938, 0.08519299,\n",
       "        0.02612819, 0.00562593, 0.00750028]], dtype=float32)"
      ]
     },
     "execution_count": 48,
     "metadata": {},
     "output_type": "execute_result"
    }
   ],
   "source": [
    "output"
   ]
  },
  {
   "cell_type": "code",
   "execution_count": 49,
   "metadata": {},
   "outputs": [
    {
     "name": "stdout",
     "output_type": "stream",
     "text": [
      "['Wail, moan', 'Rustle', 'Whimper', 'Whispering', 'Female speech, woman speaking', 'Clapping', 'Dogs']\n",
      "['Wail, moan', 'Rustle', 'Whimper', 'Whispering', 'Female speech, woman speaking', 'Clapping', 'Dogs']\n"
     ]
    }
   ],
   "source": [
    "a = top7Classes(output)\n",
    "print(a)"
   ]
  },
  {
   "cell_type": "code",
   "execution_count": 50,
   "metadata": {},
   "outputs": [],
   "source": [
    "toxic_list = [\"Bellow\",\"Groan\",\"Screaming\",\"Snicker\",\"Wail, moan\",\"Whimper\",\"Yell\"]"
   ]
  },
  {
   "cell_type": "code",
   "execution_count": 51,
   "metadata": {},
   "outputs": [],
   "source": [
    "def toxic_Class(a):\n",
    "    count = 0\n",
    "    for i in a:\n",
    "        if i in toxic_list:\n",
    "            count += 1\n",
    "    if count > 2:\n",
    "        print(\"Toxic\")\n",
    "    else:\n",
    "        print(\"Not Toxic\")\n",
    "\n",
    "def toxic_Class_tnt(a):\n",
    "    count = 0\n",
    "    for i in a:\n",
    "        if i in toxic_list:\n",
    "            count += 1\n",
    "    if count >5:\n",
    "        a_op = 'high-toxic'\n",
    "        print(\"High Possibility of Toxicity\")\n",
    "    elif count <=5 and count>2:\n",
    "        a_op = 'slight-toxic'\n",
    "        print(\"Slight Possibility of Toxicity\")\n",
    "    else: \n",
    "        a_op = 'non-toxic'\n",
    "        print('not toxic')\n",
    "    return a_op"
   ]
  },
  {
   "cell_type": "code",
   "execution_count": 52,
   "metadata": {},
   "outputs": [
    {
     "name": "stdout",
     "output_type": "stream",
     "text": [
      "Not Toxic\n"
     ]
    }
   ],
   "source": [
    "toxic_Class(a)"
   ]
  },
  {
   "cell_type": "code",
   "execution_count": 53,
   "metadata": {},
   "outputs": [],
   "source": [
    "fn3 = 'Test/test_3.wav'"
   ]
  },
  {
   "cell_type": "code",
   "execution_count": 54,
   "metadata": {},
   "outputs": [
    {
     "data": {
      "image/png": "[encoded data removed]",
      "text/plain": [
       "<Figure size 432x288 with 1 Axes>"
      ]
     },
     "metadata": {
      "needs_background": "light"
     },
     "output_type": "display_data"
    }
   ],
   "source": [
    "output3 = audiofun(fn3)"
   ]
  },
  {
   "cell_type": "code",
   "execution_count": 55,
   "metadata": {},
   "outputs": [
    {
     "data": {
      "text/plain": [
       "array([[1.15643488e-03, 1.69847073e-04, 1.10507266e-04, 1.34132919e-03,\n",
       "        9.50908907e-06, 1.17604770e-02, 8.14398285e-03, 1.47670765e-09,\n",
       "        3.22848861e-03, 6.03108492e-04, 1.68663191e-05, 1.22141138e-01,\n",
       "        7.76283215e-08, 7.01370591e-05, 2.42765285e-02, 4.68227034e-03,\n",
       "        9.17000230e-04, 6.66946769e-01, 4.21193145e-05, 7.20704813e-03,\n",
       "        1.30763752e-02, 2.70517745e-07, 1.16846785e-01, 1.94780601e-04,\n",
       "        4.96365875e-03, 1.09854322e-02, 1.10562192e-03, 3.46407387e-06]],\n",
       "      dtype=float32)"
      ]
     },
     "execution_count": 55,
     "metadata": {},
     "output_type": "execute_result"
    }
   ],
   "source": [
    "output3"
   ]
  },
  {
   "cell_type": "code",
   "execution_count": 56,
   "metadata": {},
   "outputs": [
    {
     "name": "stdout",
     "output_type": "stream",
     "text": [
      "['shatter', 'Female speech, woman speaking', 'Wail, moan', 'Male speech, man speaking', 'Snicker', 'Clapping', 'White noise']\n",
      "['shatter', 'Female speech, woman speaking', 'Wail, moan', 'Male speech, man speaking', 'Snicker', 'Clapping', 'White noise']\n"
     ]
    }
   ],
   "source": [
    "a = top7Classes(output3)\n",
    "print(a)"
   ]
  },
  {
   "cell_type": "code",
   "execution_count": 57,
   "metadata": {},
   "outputs": [
    {
     "name": "stdout",
     "output_type": "stream",
     "text": [
      "Not Toxic\n"
     ]
    }
   ],
   "source": [
    "# \"Bellow\",\"Groan\",\"Screaming\",\"Snicker\",\"Wail, moan\",\"Whimper\",\"Yell\"\n",
    "toxic_Class(a)"
   ]
  },
  {
   "cell_type": "code",
   "execution_count": 58,
   "metadata": {},
   "outputs": [
    {
     "name": "stdout",
     "output_type": "stream",
     "text": [
      "                 id                                       comment_text  toxic  \\\n",
      "0  0000997932d777bf  Explanation\\nWhy the edits made under my usern...      0   \n",
      "1  000103f0d9cfb60f  D'aww! He matches this background colour I'm s...      0   \n",
      "2  000113f07ec002fd  Hey man, I'm really not trying to edit war. It...      0   \n",
      "3  0001b41b1c6bb37e  \"\\nMore\\nI can't make any real suggestions on ...      0   \n",
      "4  0001d958c54c6e35  You, sir, are my hero. Any chance you remember...      0   \n",
      "\n",
      "   severe_toxic  obscene  threat  insult  identity_hate  \n",
      "0             0        0       0       0              0  \n",
      "1             0        0       0       0              0  \n",
      "2             0        0       0       0              0  \n",
      "3             0        0       0       0              0  \n",
      "4             0        0       0       0              0  \n",
      "0\n",
      "Percentage of unlabelled comments or good comments is  89.83211235124176\n",
      "Percentage of comments which is present in all categories is  0.019427088882065038\n",
      "Total rows in train is 159571\n",
      "obscene           8449\n",
      "insult            7877\n",
      "toxic            15294\n",
      "severe_toxic      1595\n",
      "identity_hate     1405\n",
      "threat             478\n",
      "dtype: int64\n",
      "0    143346\n",
      "1      6360\n",
      "3      4209\n",
      "2      3480\n",
      "4      1760\n",
      "5       385\n",
      "6        31\n",
      "Name: block, dtype: int64\n",
      "0    143346\n",
      "1     16225\n",
      "Name: block, dtype: int64\n",
      "Percentage Event Rate :  10.17 %\n",
      "Wall time: 6.14 s\n",
      "(127656,) (31915,)\n",
      "(127656,) (31915,)\n",
      "TfidfVectorizer(max_features=10000, stop_words='english')\n",
      "Wall time: 4.52 s\n",
      "Wall time: 980 ms\n",
      "Training accuracy is 0.9594613649182178\n",
      "Test accuracy is 0.9563214789284036\n",
      "[[28507   164]\n",
      " [ 1230  2014]]\n",
      "non-toxic\n",
      "Toxic\n",
      "non-toxic\n",
      "Toxic\n",
      "Toxic\n",
      "non-toxic\n",
      "Toxic\n",
      "non-toxic\n",
      "non-toxic\n",
      "non-toxic\n",
      "Toxic\n",
      "Toxic\n",
      "Toxic\n",
      "Toxic\n",
      "non-toxic\n",
      "non-toxic\n",
      "non-toxic\n"
     ]
    }
   ],
   "source": [
    "%run nlp-short.ipynb"
   ]
  },
  {
   "cell_type": "code",
   "execution_count": 119,
   "metadata": {},
   "outputs": [],
   "source": [
    "def final_classification(text_op,audio_op):\n",
    "    if text_op == 'toxic' and audio_op != 'non-toxic':\n",
    "        final_op = 'Presence of Domestic Violence is detected'\n",
    "        pred = 'DV'\n",
    "    elif text_op == 'non-toxic' and audio_op == 'non-toxic':\n",
    "        final_op = 'No Presence of Domestic Violence detected'\n",
    "        pred = 'NDV'\n",
    "    elif text_op == 'toxic' and audio_op== 'non-toxic':\n",
    "        final_op = 'Presence of verbal abuse detected, but no signs of actual violence'\n",
    "        pred = 'NDV'\n",
    "    elif text_op == 'non-toxic' and audio_op== 'high-toxic':\n",
    "        final_op = 'Presence of Domestic Violence is highly likely'\n",
    "        pred = 'DV'\n",
    "    elif text_op == 'non-toxic' and audio_op== 'slight-toxic':\n",
    "        final_op = 'Disturbances detected. If conditions worsen it may point to domestic violence'\n",
    "        pred = 'DV'\n",
    "    else:\n",
    "        final_op= 'Error in classification'\n",
    "    return [final_op,pred]"
   ]
  },
  {
   "cell_type": "code",
   "execution_count": null,
   "metadata": {},
   "outputs": [
    {
     "name": "stdout",
     "output_type": "stream",
     "text": [
      "not toxic\n",
      "No Presence of Domestic Violence detected\n"
     ]
    }
   ],
   "source": [
    "print(final_classification())"
   ]
  },
  {
   "cell_type": "markdown",
   "metadata": {},
   "source": [
    "Testing Phase"
   ]
  },
  {
   "cell_type": "code",
   "execution_count": 62,
   "metadata": {},
   "outputs": [],
   "source": [
    "from os import listdir\n",
    "from os.path import isfile, join\n",
    "onlyfiles = [f for f in listdir(\"Test/DomesticViolence/\") if isfile(join(\"Test/DomesticViolence/\", f))]"
   ]
  },
  {
   "cell_type": "code",
   "execution_count": 63,
   "metadata": {},
   "outputs": [
    {
     "name": "stdout",
     "output_type": "stream",
     "text": [
      "['shatter', 'Female speech, woman speaking', 'Snicker', 'Conversation', 'Wail, moan', 'Babbling', 'Male speech, man speaking']\n",
      "not toxic\n",
      "['Male speech, man speaking', 'Whimper', 'Female speech, woman speaking', 'Speech', 'Snicker', 'Wail, moan', 'Conversation']\n",
      "Slight Possibility of Toxicity\n",
      "['Female speech, woman speaking', 'Snicker', 'shatter', 'Conversation', 'Dishes, pots, and pans', 'Male speech, man speaking', 'Wail, moan']\n",
      "not toxic\n",
      "['shatter', 'Male speech, man speaking', 'Female speech, woman speaking', 'Snicker', 'Dishes, pots, and pans', 'Conversation', 'Wail, moan']\n",
      "not toxic\n",
      "['Wail, moan', 'Female speech, woman speaking', 'Whimper', 'Snicker', 'Rustle', 'Dogs', 'Whispering']\n",
      "Slight Possibility of Toxicity\n",
      "['Wail, moan', 'shatter', 'Male speech, man speaking', 'Snicker', 'Whimper', 'Groan', 'Conversation']\n",
      "Slight Possibility of Toxicity\n",
      "['Whimper', 'Snicker', 'Wail, moan', 'Female speech, woman speaking', 'Conversation', 'Male speech, man speaking', 'Babbling']\n",
      "Slight Possibility of Toxicity\n",
      "['Snicker', 'Conversation', 'Wail, moan', 'Male speech, man speaking', 'Female speech, woman speaking', 'Whimper', 'Dogs']\n",
      "Slight Possibility of Toxicity\n",
      "['Whimper', 'Snicker', 'Conversation', 'Female speech, woman speaking', 'Wail, moan', 'Male speech, man speaking', 'Yell']\n",
      "Slight Possibility of Toxicity\n",
      "['Wail, moan', 'Rustle', 'Whimper', 'Whispering', 'Female speech, woman speaking', 'Clapping', 'Dogs']\n",
      "not toxic\n",
      "['Snicker', 'Conversation', 'Wail, moan', 'shatter', 'Groan', 'White noise', 'Female speech, woman speaking']\n",
      "Slight Possibility of Toxicity\n",
      "['Wail, moan', 'Whimper', 'Rustle', 'Singing', 'Female speech, woman speaking', 'Babbling', 'Breathing']\n",
      "not toxic\n",
      "['Female speech, woman speaking', 'Wail, moan', 'Smash, crash', 'Breathing', 'Clapping', 'Dishes, pots, and pans', 'Snicker']\n",
      "not toxic\n",
      "['Male speech, man speaking', 'White noise', 'Wail, moan', 'Female speech, woman speaking', 'Smash, crash', 'Clapping', 'Snicker']\n",
      "not toxic\n",
      "['Wail, moan', 'Screaming', 'Male speech, man speaking', 'Dogs', 'Snicker', 'Female speech, woman speaking', 'Smash, crash']\n",
      "Slight Possibility of Toxicity\n",
      "['Wail, moan', 'Screaming', 'Rustle', 'Snicker', 'Whispering', 'Male speech, man speaking', 'Female speech, woman speaking']\n",
      "Slight Possibility of Toxicity\n",
      "['Wail, moan', 'Screaming', 'Female speech, woman speaking', 'Babbling', 'Groan', 'Rustle', 'shatter']\n",
      "Slight Possibility of Toxicity\n",
      "['Whimper', 'Wail, moan', 'Snicker', 'Female speech, woman speaking', 'Rustle', 'Conversation', 'Singing']\n",
      "Slight Possibility of Toxicity\n",
      "['Whimper', 'Snicker', 'Conversation', 'Wail, moan', 'Female speech, woman speaking', 'Male speech, man speaking', 'Dishes, pots, and pans']\n",
      "Slight Possibility of Toxicity\n",
      "['Wail, moan', 'Rustle', 'Whimper', 'Female speech, woman speaking', 'Whispering', 'Snicker', 'Male speech, man speaking']\n",
      "Slight Possibility of Toxicity\n",
      "['Wail, moan', 'Male speech, man speaking', 'Dogs', 'Snicker', 'Whimper', 'Female speech, woman speaking', 'Conversation']\n",
      "Slight Possibility of Toxicity\n",
      "['Wail, moan', 'Groan', 'Snicker', 'Whimper', 'Babbling', 'Dogs', 'Conversation']\n",
      "Slight Possibility of Toxicity\n",
      "['Wail, moan', 'Dogs', 'Male speech, man speaking', 'shatter', 'Snicker', 'Conversation', 'Breathing']\n",
      "not toxic\n",
      "['Male speech, man speaking', 'Female speech, woman speaking', 'shatter', 'Snicker', 'Conversation', 'Wail, moan', 'Breathing']\n",
      "not toxic\n"
     ]
    },
    {
     "data": {
      "image/png": "[encoded data removed]",
      "text/plain": [
       "<Figure size 432x288 with 1 Axes>"
      ]
     },
     "metadata": {
      "needs_background": "light"
     },
     "output_type": "display_data"
    }
   ],
   "source": [
    "pred_list = []\n",
    "for i in onlyfiles:\n",
    "    fn = \"Test/DomesticViolence/\"+i\n",
    "    op = audiofun(fn)\n",
    "    f_op = toxic_Class_tnt(top7Classes(op))\n",
    "    pred_list.append(f_op)\n",
    "    "
   ]
  },
  {
   "cell_type": "code",
   "execution_count": 64,
   "metadata": {},
   "outputs": [
    {
     "name": "stdout",
     "output_type": "stream",
     "text": [
      "['non-toxic', 'slight-toxic', 'non-toxic', 'non-toxic', 'slight-toxic', 'slight-toxic', 'slight-toxic', 'slight-toxic', 'slight-toxic', 'non-toxic', 'slight-toxic', 'non-toxic', 'non-toxic', 'non-toxic', 'slight-toxic', 'slight-toxic', 'slight-toxic', 'slight-toxic', 'slight-toxic', 'slight-toxic', 'slight-toxic', 'slight-toxic', 'non-toxic', 'non-toxic']\n"
     ]
    }
   ],
   "source": [
    "print(pred_list)"
   ]
  },
  {
   "cell_type": "code",
   "execution_count": 65,
   "metadata": {},
   "outputs": [],
   "source": [
    "lst1=[]\n",
    "for i in range(24):\n",
    "    lst1.append('sample'+str(i+1))"
   ]
  },
  {
   "cell_type": "code",
   "execution_count": 66,
   "metadata": {},
   "outputs": [],
   "source": [
    "df = pd.DataFrame(list(zip(lst1, pred_list)), columns =['Sample', 'Prediction'])"
   ]
  },
  {
   "cell_type": "code",
   "execution_count": 67,
   "metadata": {},
   "outputs": [
    {
     "data": {
      "text/html": [
       "<div>\n",
       "<style scoped>\n",
       "    .dataframe tbody tr th:only-of-type {\n",
       "        vertical-align: middle;\n",
       "    }\n",
       "\n",
       "    .dataframe tbody tr th {\n",
       "        vertical-align: top;\n",
       "    }\n",
       "\n",
       "    .dataframe thead th {\n",
       "        text-align: right;\n",
       "    }\n",
       "</style>\n",
       "<table border=\"1\" class=\"dataframe\">\n",
       "  <thead>\n",
       "    <tr style=\"text-align: right;\">\n",
       "      <th></th>\n",
       "      <th>Sample</th>\n",
       "      <th>Prediction</th>\n",
       "    </tr>\n",
       "  </thead>\n",
       "  <tbody>\n",
       "    <tr>\n",
       "      <th>0</th>\n",
       "      <td>sample1</td>\n",
       "      <td>non-toxic</td>\n",
       "    </tr>\n",
       "    <tr>\n",
       "      <th>1</th>\n",
       "      <td>sample2</td>\n",
       "      <td>slight-toxic</td>\n",
       "    </tr>\n",
       "    <tr>\n",
       "      <th>2</th>\n",
       "      <td>sample3</td>\n",
       "      <td>non-toxic</td>\n",
       "    </tr>\n",
       "    <tr>\n",
       "      <th>3</th>\n",
       "      <td>sample4</td>\n",
       "      <td>non-toxic</td>\n",
       "    </tr>\n",
       "    <tr>\n",
       "      <th>4</th>\n",
       "      <td>sample5</td>\n",
       "      <td>slight-toxic</td>\n",
       "    </tr>\n",
       "    <tr>\n",
       "      <th>5</th>\n",
       "      <td>sample6</td>\n",
       "      <td>slight-toxic</td>\n",
       "    </tr>\n",
       "    <tr>\n",
       "      <th>6</th>\n",
       "      <td>sample7</td>\n",
       "      <td>slight-toxic</td>\n",
       "    </tr>\n",
       "    <tr>\n",
       "      <th>7</th>\n",
       "      <td>sample8</td>\n",
       "      <td>slight-toxic</td>\n",
       "    </tr>\n",
       "    <tr>\n",
       "      <th>8</th>\n",
       "      <td>sample9</td>\n",
       "      <td>slight-toxic</td>\n",
       "    </tr>\n",
       "    <tr>\n",
       "      <th>9</th>\n",
       "      <td>sample10</td>\n",
       "      <td>non-toxic</td>\n",
       "    </tr>\n",
       "    <tr>\n",
       "      <th>10</th>\n",
       "      <td>sample11</td>\n",
       "      <td>slight-toxic</td>\n",
       "    </tr>\n",
       "    <tr>\n",
       "      <th>11</th>\n",
       "      <td>sample12</td>\n",
       "      <td>non-toxic</td>\n",
       "    </tr>\n",
       "    <tr>\n",
       "      <th>12</th>\n",
       "      <td>sample13</td>\n",
       "      <td>non-toxic</td>\n",
       "    </tr>\n",
       "    <tr>\n",
       "      <th>13</th>\n",
       "      <td>sample14</td>\n",
       "      <td>non-toxic</td>\n",
       "    </tr>\n",
       "    <tr>\n",
       "      <th>14</th>\n",
       "      <td>sample15</td>\n",
       "      <td>slight-toxic</td>\n",
       "    </tr>\n",
       "    <tr>\n",
       "      <th>15</th>\n",
       "      <td>sample16</td>\n",
       "      <td>slight-toxic</td>\n",
       "    </tr>\n",
       "    <tr>\n",
       "      <th>16</th>\n",
       "      <td>sample17</td>\n",
       "      <td>slight-toxic</td>\n",
       "    </tr>\n",
       "    <tr>\n",
       "      <th>17</th>\n",
       "      <td>sample18</td>\n",
       "      <td>slight-toxic</td>\n",
       "    </tr>\n",
       "    <tr>\n",
       "      <th>18</th>\n",
       "      <td>sample19</td>\n",
       "      <td>slight-toxic</td>\n",
       "    </tr>\n",
       "    <tr>\n",
       "      <th>19</th>\n",
       "      <td>sample20</td>\n",
       "      <td>slight-toxic</td>\n",
       "    </tr>\n",
       "    <tr>\n",
       "      <th>20</th>\n",
       "      <td>sample21</td>\n",
       "      <td>slight-toxic</td>\n",
       "    </tr>\n",
       "    <tr>\n",
       "      <th>21</th>\n",
       "      <td>sample22</td>\n",
       "      <td>slight-toxic</td>\n",
       "    </tr>\n",
       "    <tr>\n",
       "      <th>22</th>\n",
       "      <td>sample23</td>\n",
       "      <td>non-toxic</td>\n",
       "    </tr>\n",
       "    <tr>\n",
       "      <th>23</th>\n",
       "      <td>sample24</td>\n",
       "      <td>non-toxic</td>\n",
       "    </tr>\n",
       "  </tbody>\n",
       "</table>\n",
       "</div>"
      ],
      "text/plain": [
       "      Sample    Prediction\n",
       "0    sample1     non-toxic\n",
       "1    sample2  slight-toxic\n",
       "2    sample3     non-toxic\n",
       "3    sample4     non-toxic\n",
       "4    sample5  slight-toxic\n",
       "5    sample6  slight-toxic\n",
       "6    sample7  slight-toxic\n",
       "7    sample8  slight-toxic\n",
       "8    sample9  slight-toxic\n",
       "9   sample10     non-toxic\n",
       "10  sample11  slight-toxic\n",
       "11  sample12     non-toxic\n",
       "12  sample13     non-toxic\n",
       "13  sample14     non-toxic\n",
       "14  sample15  slight-toxic\n",
       "15  sample16  slight-toxic\n",
       "16  sample17  slight-toxic\n",
       "17  sample18  slight-toxic\n",
       "18  sample19  slight-toxic\n",
       "19  sample20  slight-toxic\n",
       "20  sample21  slight-toxic\n",
       "21  sample22  slight-toxic\n",
       "22  sample23     non-toxic\n",
       "23  sample24     non-toxic"
      ]
     },
     "execution_count": 67,
     "metadata": {},
     "output_type": "execute_result"
    }
   ],
   "source": [
    "df"
   ]
  },
  {
   "cell_type": "code",
   "execution_count": 78,
   "metadata": {},
   "outputs": [
    {
     "name": "stdout",
     "output_type": "stream",
     "text": [
      "                 id                                       comment_text  toxic  \\\n",
      "0  0000997932d777bf  Explanation\\nWhy the edits made under my usern...      0   \n",
      "1  000103f0d9cfb60f  D'aww! He matches this background colour I'm s...      0   \n",
      "2  000113f07ec002fd  Hey man, I'm really not trying to edit war. It...      0   \n",
      "3  0001b41b1c6bb37e  \"\\nMore\\nI can't make any real suggestions on ...      0   \n",
      "4  0001d958c54c6e35  You, sir, are my hero. Any chance you remember...      0   \n",
      "\n",
      "   severe_toxic  obscene  threat  insult  identity_hate  \n",
      "0             0        0       0       0              0  \n",
      "1             0        0       0       0              0  \n",
      "2             0        0       0       0              0  \n",
      "3             0        0       0       0              0  \n",
      "4             0        0       0       0              0  \n",
      "0\n",
      "Percentage of unlabelled comments or good comments is  89.83211235124176\n",
      "Percentage of comments which is present in all categories is  0.019427088882065038\n",
      "Total rows in train is 159571\n",
      "obscene           8449\n",
      "insult            7877\n",
      "toxic            15294\n",
      "severe_toxic      1595\n",
      "identity_hate     1405\n",
      "threat             478\n",
      "dtype: int64\n",
      "0    143346\n",
      "1      6360\n",
      "3      4209\n",
      "2      3480\n",
      "4      1760\n",
      "5       385\n",
      "6        31\n",
      "Name: block, dtype: int64\n",
      "0    143346\n",
      "1     16225\n",
      "Name: block, dtype: int64\n",
      "Percentage Event Rate :  10.17 %\n",
      "Wall time: 5.92 s\n",
      "(127656,) (31915,)\n",
      "(127656,) (31915,)\n",
      "TfidfVectorizer(max_features=10000, stop_words='english')\n",
      "Wall time: 4.7 s\n",
      "Wall time: 1.02 s\n",
      "Training accuracy is 0.9594613649182178\n",
      "Test accuracy is 0.9563214789284036\n",
      "[[28507   164]\n",
      " [ 1230  2014]]\n",
      "non-toxic\n",
      "Toxic\n",
      "non-toxic\n",
      "Toxic\n",
      "Toxic\n",
      "non-toxic\n",
      "Toxic\n",
      "non-toxic\n",
      "non-toxic\n",
      "non-toxic\n",
      "Toxic\n",
      "Toxic\n",
      "Toxic\n",
      "Toxic\n",
      "non-toxic\n",
      "non-toxic\n",
      "non-toxic\n",
      "Toxic\n",
      "non-toxic\n",
      "non-toxic\n",
      "non-toxic\n",
      "non-toxic\n",
      "non-toxic\n",
      "non-toxic\n"
     ]
    }
   ],
   "source": [
    "%run nlp-short.ipynb"
   ]
  },
  {
   "cell_type": "code",
   "execution_count": 79,
   "metadata": {},
   "outputs": [],
   "source": [
    "speech_op = test_dataframe\n",
    "bga_op = df"
   ]
  },
  {
   "cell_type": "code",
   "execution_count": 80,
   "metadata": {},
   "outputs": [
    {
     "data": {
      "text/html": [
       "<div>\n",
       "<style scoped>\n",
       "    .dataframe tbody tr th:only-of-type {\n",
       "        vertical-align: middle;\n",
       "    }\n",
       "\n",
       "    .dataframe tbody tr th {\n",
       "        vertical-align: top;\n",
       "    }\n",
       "\n",
       "    .dataframe thead th {\n",
       "        text-align: right;\n",
       "    }\n",
       "</style>\n",
       "<table border=\"1\" class=\"dataframe\">\n",
       "  <thead>\n",
       "    <tr style=\"text-align: right;\">\n",
       "      <th></th>\n",
       "      <th>Samples</th>\n",
       "      <th>Prediction</th>\n",
       "    </tr>\n",
       "  </thead>\n",
       "  <tbody>\n",
       "    <tr>\n",
       "      <th>0</th>\n",
       "      <td>sample1</td>\n",
       "      <td>non-toxic</td>\n",
       "    </tr>\n",
       "    <tr>\n",
       "      <th>1</th>\n",
       "      <td>sample2</td>\n",
       "      <td>toxic</td>\n",
       "    </tr>\n",
       "    <tr>\n",
       "      <th>2</th>\n",
       "      <td>sample3</td>\n",
       "      <td>non-toxic</td>\n",
       "    </tr>\n",
       "    <tr>\n",
       "      <th>3</th>\n",
       "      <td>sample4</td>\n",
       "      <td>toxic</td>\n",
       "    </tr>\n",
       "    <tr>\n",
       "      <th>4</th>\n",
       "      <td>sample5</td>\n",
       "      <td>toxic</td>\n",
       "    </tr>\n",
       "    <tr>\n",
       "      <th>5</th>\n",
       "      <td>sample6</td>\n",
       "      <td>non-toxic</td>\n",
       "    </tr>\n",
       "    <tr>\n",
       "      <th>6</th>\n",
       "      <td>sample7</td>\n",
       "      <td>toxic</td>\n",
       "    </tr>\n",
       "    <tr>\n",
       "      <th>7</th>\n",
       "      <td>sample8</td>\n",
       "      <td>non-toxic</td>\n",
       "    </tr>\n",
       "    <tr>\n",
       "      <th>8</th>\n",
       "      <td>sample9</td>\n",
       "      <td>non-toxic</td>\n",
       "    </tr>\n",
       "    <tr>\n",
       "      <th>9</th>\n",
       "      <td>sample10</td>\n",
       "      <td>non-toxic</td>\n",
       "    </tr>\n",
       "    <tr>\n",
       "      <th>10</th>\n",
       "      <td>sample11</td>\n",
       "      <td>toxic</td>\n",
       "    </tr>\n",
       "    <tr>\n",
       "      <th>11</th>\n",
       "      <td>sample12</td>\n",
       "      <td>toxic</td>\n",
       "    </tr>\n",
       "    <tr>\n",
       "      <th>12</th>\n",
       "      <td>sample13</td>\n",
       "      <td>toxic</td>\n",
       "    </tr>\n",
       "    <tr>\n",
       "      <th>13</th>\n",
       "      <td>sample14</td>\n",
       "      <td>toxic</td>\n",
       "    </tr>\n",
       "    <tr>\n",
       "      <th>14</th>\n",
       "      <td>sample15</td>\n",
       "      <td>non-toxic</td>\n",
       "    </tr>\n",
       "    <tr>\n",
       "      <th>15</th>\n",
       "      <td>sample16</td>\n",
       "      <td>non-toxic</td>\n",
       "    </tr>\n",
       "    <tr>\n",
       "      <th>16</th>\n",
       "      <td>sample17</td>\n",
       "      <td>non-toxic</td>\n",
       "    </tr>\n",
       "    <tr>\n",
       "      <th>17</th>\n",
       "      <td>sample18</td>\n",
       "      <td>toxic</td>\n",
       "    </tr>\n",
       "    <tr>\n",
       "      <th>18</th>\n",
       "      <td>sample19</td>\n",
       "      <td>non-toxic</td>\n",
       "    </tr>\n",
       "    <tr>\n",
       "      <th>19</th>\n",
       "      <td>sample20</td>\n",
       "      <td>non-toxic</td>\n",
       "    </tr>\n",
       "    <tr>\n",
       "      <th>20</th>\n",
       "      <td>sample21</td>\n",
       "      <td>non-toxic</td>\n",
       "    </tr>\n",
       "    <tr>\n",
       "      <th>21</th>\n",
       "      <td>sample22</td>\n",
       "      <td>non-toxic</td>\n",
       "    </tr>\n",
       "    <tr>\n",
       "      <th>22</th>\n",
       "      <td>sample23</td>\n",
       "      <td>non-toxic</td>\n",
       "    </tr>\n",
       "    <tr>\n",
       "      <th>23</th>\n",
       "      <td>sample24</td>\n",
       "      <td>non-toxic</td>\n",
       "    </tr>\n",
       "  </tbody>\n",
       "</table>\n",
       "</div>"
      ],
      "text/plain": [
       "     Samples Prediction\n",
       "0    sample1  non-toxic\n",
       "1    sample2      toxic\n",
       "2    sample3  non-toxic\n",
       "3    sample4      toxic\n",
       "4    sample5      toxic\n",
       "5    sample6  non-toxic\n",
       "6    sample7      toxic\n",
       "7    sample8  non-toxic\n",
       "8    sample9  non-toxic\n",
       "9   sample10  non-toxic\n",
       "10  sample11      toxic\n",
       "11  sample12      toxic\n",
       "12  sample13      toxic\n",
       "13  sample14      toxic\n",
       "14  sample15  non-toxic\n",
       "15  sample16  non-toxic\n",
       "16  sample17  non-toxic\n",
       "17  sample18      toxic\n",
       "18  sample19  non-toxic\n",
       "19  sample20  non-toxic\n",
       "20  sample21  non-toxic\n",
       "21  sample22  non-toxic\n",
       "22  sample23  non-toxic\n",
       "23  sample24  non-toxic"
      ]
     },
     "execution_count": 80,
     "metadata": {},
     "output_type": "execute_result"
    }
   ],
   "source": [
    "speech_op"
   ]
  },
  {
   "cell_type": "code",
   "execution_count": 81,
   "metadata": {},
   "outputs": [
    {
     "data": {
      "text/html": [
       "<div>\n",
       "<style scoped>\n",
       "    .dataframe tbody tr th:only-of-type {\n",
       "        vertical-align: middle;\n",
       "    }\n",
       "\n",
       "    .dataframe tbody tr th {\n",
       "        vertical-align: top;\n",
       "    }\n",
       "\n",
       "    .dataframe thead th {\n",
       "        text-align: right;\n",
       "    }\n",
       "</style>\n",
       "<table border=\"1\" class=\"dataframe\">\n",
       "  <thead>\n",
       "    <tr style=\"text-align: right;\">\n",
       "      <th></th>\n",
       "      <th>Sample</th>\n",
       "      <th>Prediction</th>\n",
       "    </tr>\n",
       "  </thead>\n",
       "  <tbody>\n",
       "    <tr>\n",
       "      <th>0</th>\n",
       "      <td>sample1</td>\n",
       "      <td>non-toxic</td>\n",
       "    </tr>\n",
       "    <tr>\n",
       "      <th>1</th>\n",
       "      <td>sample2</td>\n",
       "      <td>slight-toxic</td>\n",
       "    </tr>\n",
       "    <tr>\n",
       "      <th>2</th>\n",
       "      <td>sample3</td>\n",
       "      <td>non-toxic</td>\n",
       "    </tr>\n",
       "    <tr>\n",
       "      <th>3</th>\n",
       "      <td>sample4</td>\n",
       "      <td>non-toxic</td>\n",
       "    </tr>\n",
       "    <tr>\n",
       "      <th>4</th>\n",
       "      <td>sample5</td>\n",
       "      <td>slight-toxic</td>\n",
       "    </tr>\n",
       "    <tr>\n",
       "      <th>5</th>\n",
       "      <td>sample6</td>\n",
       "      <td>slight-toxic</td>\n",
       "    </tr>\n",
       "    <tr>\n",
       "      <th>6</th>\n",
       "      <td>sample7</td>\n",
       "      <td>slight-toxic</td>\n",
       "    </tr>\n",
       "    <tr>\n",
       "      <th>7</th>\n",
       "      <td>sample8</td>\n",
       "      <td>slight-toxic</td>\n",
       "    </tr>\n",
       "    <tr>\n",
       "      <th>8</th>\n",
       "      <td>sample9</td>\n",
       "      <td>slight-toxic</td>\n",
       "    </tr>\n",
       "    <tr>\n",
       "      <th>9</th>\n",
       "      <td>sample10</td>\n",
       "      <td>non-toxic</td>\n",
       "    </tr>\n",
       "    <tr>\n",
       "      <th>10</th>\n",
       "      <td>sample11</td>\n",
       "      <td>slight-toxic</td>\n",
       "    </tr>\n",
       "    <tr>\n",
       "      <th>11</th>\n",
       "      <td>sample12</td>\n",
       "      <td>non-toxic</td>\n",
       "    </tr>\n",
       "    <tr>\n",
       "      <th>12</th>\n",
       "      <td>sample13</td>\n",
       "      <td>non-toxic</td>\n",
       "    </tr>\n",
       "    <tr>\n",
       "      <th>13</th>\n",
       "      <td>sample14</td>\n",
       "      <td>non-toxic</td>\n",
       "    </tr>\n",
       "    <tr>\n",
       "      <th>14</th>\n",
       "      <td>sample15</td>\n",
       "      <td>slight-toxic</td>\n",
       "    </tr>\n",
       "    <tr>\n",
       "      <th>15</th>\n",
       "      <td>sample16</td>\n",
       "      <td>slight-toxic</td>\n",
       "    </tr>\n",
       "    <tr>\n",
       "      <th>16</th>\n",
       "      <td>sample17</td>\n",
       "      <td>slight-toxic</td>\n",
       "    </tr>\n",
       "    <tr>\n",
       "      <th>17</th>\n",
       "      <td>sample18</td>\n",
       "      <td>slight-toxic</td>\n",
       "    </tr>\n",
       "    <tr>\n",
       "      <th>18</th>\n",
       "      <td>sample19</td>\n",
       "      <td>slight-toxic</td>\n",
       "    </tr>\n",
       "    <tr>\n",
       "      <th>19</th>\n",
       "      <td>sample20</td>\n",
       "      <td>slight-toxic</td>\n",
       "    </tr>\n",
       "    <tr>\n",
       "      <th>20</th>\n",
       "      <td>sample21</td>\n",
       "      <td>slight-toxic</td>\n",
       "    </tr>\n",
       "    <tr>\n",
       "      <th>21</th>\n",
       "      <td>sample22</td>\n",
       "      <td>slight-toxic</td>\n",
       "    </tr>\n",
       "    <tr>\n",
       "      <th>22</th>\n",
       "      <td>sample23</td>\n",
       "      <td>non-toxic</td>\n",
       "    </tr>\n",
       "    <tr>\n",
       "      <th>23</th>\n",
       "      <td>sample24</td>\n",
       "      <td>non-toxic</td>\n",
       "    </tr>\n",
       "  </tbody>\n",
       "</table>\n",
       "</div>"
      ],
      "text/plain": [
       "      Sample    Prediction\n",
       "0    sample1     non-toxic\n",
       "1    sample2  slight-toxic\n",
       "2    sample3     non-toxic\n",
       "3    sample4     non-toxic\n",
       "4    sample5  slight-toxic\n",
       "5    sample6  slight-toxic\n",
       "6    sample7  slight-toxic\n",
       "7    sample8  slight-toxic\n",
       "8    sample9  slight-toxic\n",
       "9   sample10     non-toxic\n",
       "10  sample11  slight-toxic\n",
       "11  sample12     non-toxic\n",
       "12  sample13     non-toxic\n",
       "13  sample14     non-toxic\n",
       "14  sample15  slight-toxic\n",
       "15  sample16  slight-toxic\n",
       "16  sample17  slight-toxic\n",
       "17  sample18  slight-toxic\n",
       "18  sample19  slight-toxic\n",
       "19  sample20  slight-toxic\n",
       "20  sample21  slight-toxic\n",
       "21  sample22  slight-toxic\n",
       "22  sample23     non-toxic\n",
       "23  sample24     non-toxic"
      ]
     },
     "execution_count": 81,
     "metadata": {},
     "output_type": "execute_result"
    }
   ],
   "source": [
    "bga_op"
   ]
  },
  {
   "cell_type": "code",
   "execution_count": 84,
   "metadata": {},
   "outputs": [],
   "source": [
    "bga_op[\"Prediction2\"] = speech_op[\"Prediction\"]"
   ]
  },
  {
   "cell_type": "code",
   "execution_count": 85,
   "metadata": {},
   "outputs": [
    {
     "data": {
      "text/html": [
       "<div>\n",
       "<style scoped>\n",
       "    .dataframe tbody tr th:only-of-type {\n",
       "        vertical-align: middle;\n",
       "    }\n",
       "\n",
       "    .dataframe tbody tr th {\n",
       "        vertical-align: top;\n",
       "    }\n",
       "\n",
       "    .dataframe thead th {\n",
       "        text-align: right;\n",
       "    }\n",
       "</style>\n",
       "<table border=\"1\" class=\"dataframe\">\n",
       "  <thead>\n",
       "    <tr style=\"text-align: right;\">\n",
       "      <th></th>\n",
       "      <th>Sample</th>\n",
       "      <th>Prediction</th>\n",
       "      <th>Prediction2</th>\n",
       "    </tr>\n",
       "  </thead>\n",
       "  <tbody>\n",
       "    <tr>\n",
       "      <th>0</th>\n",
       "      <td>sample1</td>\n",
       "      <td>non-toxic</td>\n",
       "      <td>non-toxic</td>\n",
       "    </tr>\n",
       "    <tr>\n",
       "      <th>1</th>\n",
       "      <td>sample2</td>\n",
       "      <td>slight-toxic</td>\n",
       "      <td>toxic</td>\n",
       "    </tr>\n",
       "    <tr>\n",
       "      <th>2</th>\n",
       "      <td>sample3</td>\n",
       "      <td>non-toxic</td>\n",
       "      <td>non-toxic</td>\n",
       "    </tr>\n",
       "    <tr>\n",
       "      <th>3</th>\n",
       "      <td>sample4</td>\n",
       "      <td>non-toxic</td>\n",
       "      <td>toxic</td>\n",
       "    </tr>\n",
       "    <tr>\n",
       "      <th>4</th>\n",
       "      <td>sample5</td>\n",
       "      <td>slight-toxic</td>\n",
       "      <td>toxic</td>\n",
       "    </tr>\n",
       "    <tr>\n",
       "      <th>5</th>\n",
       "      <td>sample6</td>\n",
       "      <td>slight-toxic</td>\n",
       "      <td>non-toxic</td>\n",
       "    </tr>\n",
       "    <tr>\n",
       "      <th>6</th>\n",
       "      <td>sample7</td>\n",
       "      <td>slight-toxic</td>\n",
       "      <td>toxic</td>\n",
       "    </tr>\n",
       "    <tr>\n",
       "      <th>7</th>\n",
       "      <td>sample8</td>\n",
       "      <td>slight-toxic</td>\n",
       "      <td>non-toxic</td>\n",
       "    </tr>\n",
       "    <tr>\n",
       "      <th>8</th>\n",
       "      <td>sample9</td>\n",
       "      <td>slight-toxic</td>\n",
       "      <td>non-toxic</td>\n",
       "    </tr>\n",
       "    <tr>\n",
       "      <th>9</th>\n",
       "      <td>sample10</td>\n",
       "      <td>non-toxic</td>\n",
       "      <td>non-toxic</td>\n",
       "    </tr>\n",
       "    <tr>\n",
       "      <th>10</th>\n",
       "      <td>sample11</td>\n",
       "      <td>slight-toxic</td>\n",
       "      <td>toxic</td>\n",
       "    </tr>\n",
       "    <tr>\n",
       "      <th>11</th>\n",
       "      <td>sample12</td>\n",
       "      <td>non-toxic</td>\n",
       "      <td>toxic</td>\n",
       "    </tr>\n",
       "    <tr>\n",
       "      <th>12</th>\n",
       "      <td>sample13</td>\n",
       "      <td>non-toxic</td>\n",
       "      <td>toxic</td>\n",
       "    </tr>\n",
       "    <tr>\n",
       "      <th>13</th>\n",
       "      <td>sample14</td>\n",
       "      <td>non-toxic</td>\n",
       "      <td>toxic</td>\n",
       "    </tr>\n",
       "    <tr>\n",
       "      <th>14</th>\n",
       "      <td>sample15</td>\n",
       "      <td>slight-toxic</td>\n",
       "      <td>non-toxic</td>\n",
       "    </tr>\n",
       "    <tr>\n",
       "      <th>15</th>\n",
       "      <td>sample16</td>\n",
       "      <td>slight-toxic</td>\n",
       "      <td>non-toxic</td>\n",
       "    </tr>\n",
       "    <tr>\n",
       "      <th>16</th>\n",
       "      <td>sample17</td>\n",
       "      <td>slight-toxic</td>\n",
       "      <td>non-toxic</td>\n",
       "    </tr>\n",
       "    <tr>\n",
       "      <th>17</th>\n",
       "      <td>sample18</td>\n",
       "      <td>slight-toxic</td>\n",
       "      <td>toxic</td>\n",
       "    </tr>\n",
       "    <tr>\n",
       "      <th>18</th>\n",
       "      <td>sample19</td>\n",
       "      <td>slight-toxic</td>\n",
       "      <td>non-toxic</td>\n",
       "    </tr>\n",
       "    <tr>\n",
       "      <th>19</th>\n",
       "      <td>sample20</td>\n",
       "      <td>slight-toxic</td>\n",
       "      <td>non-toxic</td>\n",
       "    </tr>\n",
       "    <tr>\n",
       "      <th>20</th>\n",
       "      <td>sample21</td>\n",
       "      <td>slight-toxic</td>\n",
       "      <td>non-toxic</td>\n",
       "    </tr>\n",
       "    <tr>\n",
       "      <th>21</th>\n",
       "      <td>sample22</td>\n",
       "      <td>slight-toxic</td>\n",
       "      <td>non-toxic</td>\n",
       "    </tr>\n",
       "    <tr>\n",
       "      <th>22</th>\n",
       "      <td>sample23</td>\n",
       "      <td>non-toxic</td>\n",
       "      <td>non-toxic</td>\n",
       "    </tr>\n",
       "    <tr>\n",
       "      <th>23</th>\n",
       "      <td>sample24</td>\n",
       "      <td>non-toxic</td>\n",
       "      <td>non-toxic</td>\n",
       "    </tr>\n",
       "  </tbody>\n",
       "</table>\n",
       "</div>"
      ],
      "text/plain": [
       "      Sample    Prediction Prediction2\n",
       "0    sample1     non-toxic   non-toxic\n",
       "1    sample2  slight-toxic       toxic\n",
       "2    sample3     non-toxic   non-toxic\n",
       "3    sample4     non-toxic       toxic\n",
       "4    sample5  slight-toxic       toxic\n",
       "5    sample6  slight-toxic   non-toxic\n",
       "6    sample7  slight-toxic       toxic\n",
       "7    sample8  slight-toxic   non-toxic\n",
       "8    sample9  slight-toxic   non-toxic\n",
       "9   sample10     non-toxic   non-toxic\n",
       "10  sample11  slight-toxic       toxic\n",
       "11  sample12     non-toxic       toxic\n",
       "12  sample13     non-toxic       toxic\n",
       "13  sample14     non-toxic       toxic\n",
       "14  sample15  slight-toxic   non-toxic\n",
       "15  sample16  slight-toxic   non-toxic\n",
       "16  sample17  slight-toxic   non-toxic\n",
       "17  sample18  slight-toxic       toxic\n",
       "18  sample19  slight-toxic   non-toxic\n",
       "19  sample20  slight-toxic   non-toxic\n",
       "20  sample21  slight-toxic   non-toxic\n",
       "21  sample22  slight-toxic   non-toxic\n",
       "22  sample23     non-toxic   non-toxic\n",
       "23  sample24     non-toxic   non-toxic"
      ]
     },
     "execution_count": 85,
     "metadata": {},
     "output_type": "execute_result"
    }
   ],
   "source": [
    "bga_op"
   ]
  },
  {
   "cell_type": "markdown",
   "metadata": {},
   "source": []
  },
  {
   "cell_type": "code",
   "execution_count": 120,
   "metadata": {},
   "outputs": [],
   "source": [
    "final_classification_lst = []\n",
    "final_prediction_lst = []\n",
    "for index, row in bga_op.iterrows():\n",
    "    pred1 = row['Prediction']\n",
    "    pred2 = row[\"Prediction2\"]\n",
    "    try:\n",
    "       op_lst = final_classification(pred2,pred1)\n",
    "       final_classification_lst.append(op_lst[0])\n",
    "       final_prediction_lst.append(op_lst[1])\n",
    "    except:\n",
    "        print(\"error\")\n",
    "        continue"
   ]
  },
  {
   "cell_type": "code",
   "execution_count": 121,
   "metadata": {},
   "outputs": [],
   "source": [
    "df = pd.DataFrame(list(zip(lst1, final_classification_lst, final_prediction_lst)), columns =['Sample', 'Final_Classification', 'Final_Prediction'])"
   ]
  },
  {
   "cell_type": "code",
   "execution_count": 122,
   "metadata": {},
   "outputs": [
    {
     "data": {
      "text/html": [
       "<div>\n",
       "<style scoped>\n",
       "    .dataframe tbody tr th:only-of-type {\n",
       "        vertical-align: middle;\n",
       "    }\n",
       "\n",
       "    .dataframe tbody tr th {\n",
       "        vertical-align: top;\n",
       "    }\n",
       "\n",
       "    .dataframe thead th {\n",
       "        text-align: right;\n",
       "    }\n",
       "</style>\n",
       "<table border=\"1\" class=\"dataframe\">\n",
       "  <thead>\n",
       "    <tr style=\"text-align: right;\">\n",
       "      <th></th>\n",
       "      <th>Sample</th>\n",
       "      <th>Final_Classification</th>\n",
       "      <th>Final_Prediction</th>\n",
       "    </tr>\n",
       "  </thead>\n",
       "  <tbody>\n",
       "    <tr>\n",
       "      <th>0</th>\n",
       "      <td>sample1</td>\n",
       "      <td>No Presence of Domestic Violence detected</td>\n",
       "      <td>NDV</td>\n",
       "    </tr>\n",
       "    <tr>\n",
       "      <th>1</th>\n",
       "      <td>sample2</td>\n",
       "      <td>Presence of Domestic Violence is detected</td>\n",
       "      <td>DV</td>\n",
       "    </tr>\n",
       "    <tr>\n",
       "      <th>2</th>\n",
       "      <td>sample3</td>\n",
       "      <td>No Presence of Domestic Violence detected</td>\n",
       "      <td>NDV</td>\n",
       "    </tr>\n",
       "    <tr>\n",
       "      <th>3</th>\n",
       "      <td>sample4</td>\n",
       "      <td>Presence of verbal abuse detected, but no sign...</td>\n",
       "      <td>NDV</td>\n",
       "    </tr>\n",
       "    <tr>\n",
       "      <th>4</th>\n",
       "      <td>sample5</td>\n",
       "      <td>Presence of Domestic Violence is detected</td>\n",
       "      <td>DV</td>\n",
       "    </tr>\n",
       "    <tr>\n",
       "      <th>5</th>\n",
       "      <td>sample6</td>\n",
       "      <td>Disturbances detected. If conditions worsen it...</td>\n",
       "      <td>DV</td>\n",
       "    </tr>\n",
       "    <tr>\n",
       "      <th>6</th>\n",
       "      <td>sample7</td>\n",
       "      <td>Presence of Domestic Violence is detected</td>\n",
       "      <td>DV</td>\n",
       "    </tr>\n",
       "    <tr>\n",
       "      <th>7</th>\n",
       "      <td>sample8</td>\n",
       "      <td>Disturbances detected. If conditions worsen it...</td>\n",
       "      <td>DV</td>\n",
       "    </tr>\n",
       "    <tr>\n",
       "      <th>8</th>\n",
       "      <td>sample9</td>\n",
       "      <td>Disturbances detected. If conditions worsen it...</td>\n",
       "      <td>DV</td>\n",
       "    </tr>\n",
       "    <tr>\n",
       "      <th>9</th>\n",
       "      <td>sample10</td>\n",
       "      <td>No Presence of Domestic Violence detected</td>\n",
       "      <td>NDV</td>\n",
       "    </tr>\n",
       "    <tr>\n",
       "      <th>10</th>\n",
       "      <td>sample11</td>\n",
       "      <td>Presence of Domestic Violence is detected</td>\n",
       "      <td>DV</td>\n",
       "    </tr>\n",
       "    <tr>\n",
       "      <th>11</th>\n",
       "      <td>sample12</td>\n",
       "      <td>Presence of verbal abuse detected, but no sign...</td>\n",
       "      <td>NDV</td>\n",
       "    </tr>\n",
       "    <tr>\n",
       "      <th>12</th>\n",
       "      <td>sample13</td>\n",
       "      <td>Presence of verbal abuse detected, but no sign...</td>\n",
       "      <td>NDV</td>\n",
       "    </tr>\n",
       "    <tr>\n",
       "      <th>13</th>\n",
       "      <td>sample14</td>\n",
       "      <td>Presence of verbal abuse detected, but no sign...</td>\n",
       "      <td>NDV</td>\n",
       "    </tr>\n",
       "    <tr>\n",
       "      <th>14</th>\n",
       "      <td>sample15</td>\n",
       "      <td>Disturbances detected. If conditions worsen it...</td>\n",
       "      <td>DV</td>\n",
       "    </tr>\n",
       "    <tr>\n",
       "      <th>15</th>\n",
       "      <td>sample16</td>\n",
       "      <td>Disturbances detected. If conditions worsen it...</td>\n",
       "      <td>DV</td>\n",
       "    </tr>\n",
       "    <tr>\n",
       "      <th>16</th>\n",
       "      <td>sample17</td>\n",
       "      <td>Disturbances detected. If conditions worsen it...</td>\n",
       "      <td>DV</td>\n",
       "    </tr>\n",
       "    <tr>\n",
       "      <th>17</th>\n",
       "      <td>sample18</td>\n",
       "      <td>Presence of Domestic Violence is detected</td>\n",
       "      <td>DV</td>\n",
       "    </tr>\n",
       "    <tr>\n",
       "      <th>18</th>\n",
       "      <td>sample19</td>\n",
       "      <td>Disturbances detected. If conditions worsen it...</td>\n",
       "      <td>DV</td>\n",
       "    </tr>\n",
       "    <tr>\n",
       "      <th>19</th>\n",
       "      <td>sample20</td>\n",
       "      <td>Disturbances detected. If conditions worsen it...</td>\n",
       "      <td>DV</td>\n",
       "    </tr>\n",
       "    <tr>\n",
       "      <th>20</th>\n",
       "      <td>sample21</td>\n",
       "      <td>Disturbances detected. If conditions worsen it...</td>\n",
       "      <td>DV</td>\n",
       "    </tr>\n",
       "    <tr>\n",
       "      <th>21</th>\n",
       "      <td>sample22</td>\n",
       "      <td>Disturbances detected. If conditions worsen it...</td>\n",
       "      <td>DV</td>\n",
       "    </tr>\n",
       "    <tr>\n",
       "      <th>22</th>\n",
       "      <td>sample23</td>\n",
       "      <td>No Presence of Domestic Violence detected</td>\n",
       "      <td>NDV</td>\n",
       "    </tr>\n",
       "    <tr>\n",
       "      <th>23</th>\n",
       "      <td>sample24</td>\n",
       "      <td>No Presence of Domestic Violence detected</td>\n",
       "      <td>NDV</td>\n",
       "    </tr>\n",
       "  </tbody>\n",
       "</table>\n",
       "</div>"
      ],
      "text/plain": [
       "      Sample                               Final_Classification  \\\n",
       "0    sample1          No Presence of Domestic Violence detected   \n",
       "1    sample2          Presence of Domestic Violence is detected   \n",
       "2    sample3          No Presence of Domestic Violence detected   \n",
       "3    sample4  Presence of verbal abuse detected, but no sign...   \n",
       "4    sample5          Presence of Domestic Violence is detected   \n",
       "5    sample6  Disturbances detected. If conditions worsen it...   \n",
       "6    sample7          Presence of Domestic Violence is detected   \n",
       "7    sample8  Disturbances detected. If conditions worsen it...   \n",
       "8    sample9  Disturbances detected. If conditions worsen it...   \n",
       "9   sample10          No Presence of Domestic Violence detected   \n",
       "10  sample11          Presence of Domestic Violence is detected   \n",
       "11  sample12  Presence of verbal abuse detected, but no sign...   \n",
       "12  sample13  Presence of verbal abuse detected, but no sign...   \n",
       "13  sample14  Presence of verbal abuse detected, but no sign...   \n",
       "14  sample15  Disturbances detected. If conditions worsen it...   \n",
       "15  sample16  Disturbances detected. If conditions worsen it...   \n",
       "16  sample17  Disturbances detected. If conditions worsen it...   \n",
       "17  sample18          Presence of Domestic Violence is detected   \n",
       "18  sample19  Disturbances detected. If conditions worsen it...   \n",
       "19  sample20  Disturbances detected. If conditions worsen it...   \n",
       "20  sample21  Disturbances detected. If conditions worsen it...   \n",
       "21  sample22  Disturbances detected. If conditions worsen it...   \n",
       "22  sample23          No Presence of Domestic Violence detected   \n",
       "23  sample24          No Presence of Domestic Violence detected   \n",
       "\n",
       "   Final_Prediction  \n",
       "0               NDV  \n",
       "1                DV  \n",
       "2               NDV  \n",
       "3               NDV  \n",
       "4                DV  \n",
       "5                DV  \n",
       "6                DV  \n",
       "7                DV  \n",
       "8                DV  \n",
       "9               NDV  \n",
       "10               DV  \n",
       "11              NDV  \n",
       "12              NDV  \n",
       "13              NDV  \n",
       "14               DV  \n",
       "15               DV  \n",
       "16               DV  \n",
       "17               DV  \n",
       "18               DV  \n",
       "19               DV  \n",
       "20               DV  \n",
       "21               DV  \n",
       "22              NDV  \n",
       "23              NDV  "
      ]
     },
     "execution_count": 122,
     "metadata": {},
     "output_type": "execute_result"
    }
   ],
   "source": [
    "df"
   ]
  },
  {
   "cell_type": "code",
   "execution_count": 123,
   "metadata": {},
   "outputs": [],
   "source": [
    "actual_lst = ['DV','DV','DV','DV','DV','DV','DV','DV','DV','DV','DV','DV','DV','DV','DV','DV','DV','DV','NDV','NDV','NDV','NDV','NDV','NDV']"
   ]
  },
  {
   "cell_type": "code",
   "execution_count": 124,
   "metadata": {},
   "outputs": [],
   "source": [
    "actual_df = pd.DataFrame(list(zip(lst1, actual_lst)), columns =['Sample', 'Actual_Value'])"
   ]
  },
  {
   "cell_type": "code",
   "execution_count": 125,
   "metadata": {},
   "outputs": [
    {
     "data": {
      "text/html": [
       "<div>\n",
       "<style scoped>\n",
       "    .dataframe tbody tr th:only-of-type {\n",
       "        vertical-align: middle;\n",
       "    }\n",
       "\n",
       "    .dataframe tbody tr th {\n",
       "        vertical-align: top;\n",
       "    }\n",
       "\n",
       "    .dataframe thead th {\n",
       "        text-align: right;\n",
       "    }\n",
       "</style>\n",
       "<table border=\"1\" class=\"dataframe\">\n",
       "  <thead>\n",
       "    <tr style=\"text-align: right;\">\n",
       "      <th></th>\n",
       "      <th>Sample</th>\n",
       "      <th>Actual_Value</th>\n",
       "    </tr>\n",
       "  </thead>\n",
       "  <tbody>\n",
       "    <tr>\n",
       "      <th>0</th>\n",
       "      <td>sample1</td>\n",
       "      <td>DV</td>\n",
       "    </tr>\n",
       "    <tr>\n",
       "      <th>1</th>\n",
       "      <td>sample2</td>\n",
       "      <td>DV</td>\n",
       "    </tr>\n",
       "    <tr>\n",
       "      <th>2</th>\n",
       "      <td>sample3</td>\n",
       "      <td>DV</td>\n",
       "    </tr>\n",
       "    <tr>\n",
       "      <th>3</th>\n",
       "      <td>sample4</td>\n",
       "      <td>DV</td>\n",
       "    </tr>\n",
       "    <tr>\n",
       "      <th>4</th>\n",
       "      <td>sample5</td>\n",
       "      <td>DV</td>\n",
       "    </tr>\n",
       "    <tr>\n",
       "      <th>5</th>\n",
       "      <td>sample6</td>\n",
       "      <td>DV</td>\n",
       "    </tr>\n",
       "    <tr>\n",
       "      <th>6</th>\n",
       "      <td>sample7</td>\n",
       "      <td>DV</td>\n",
       "    </tr>\n",
       "    <tr>\n",
       "      <th>7</th>\n",
       "      <td>sample8</td>\n",
       "      <td>DV</td>\n",
       "    </tr>\n",
       "    <tr>\n",
       "      <th>8</th>\n",
       "      <td>sample9</td>\n",
       "      <td>DV</td>\n",
       "    </tr>\n",
       "    <tr>\n",
       "      <th>9</th>\n",
       "      <td>sample10</td>\n",
       "      <td>DV</td>\n",
       "    </tr>\n",
       "    <tr>\n",
       "      <th>10</th>\n",
       "      <td>sample11</td>\n",
       "      <td>DV</td>\n",
       "    </tr>\n",
       "    <tr>\n",
       "      <th>11</th>\n",
       "      <td>sample12</td>\n",
       "      <td>DV</td>\n",
       "    </tr>\n",
       "    <tr>\n",
       "      <th>12</th>\n",
       "      <td>sample13</td>\n",
       "      <td>DV</td>\n",
       "    </tr>\n",
       "    <tr>\n",
       "      <th>13</th>\n",
       "      <td>sample14</td>\n",
       "      <td>DV</td>\n",
       "    </tr>\n",
       "    <tr>\n",
       "      <th>14</th>\n",
       "      <td>sample15</td>\n",
       "      <td>DV</td>\n",
       "    </tr>\n",
       "    <tr>\n",
       "      <th>15</th>\n",
       "      <td>sample16</td>\n",
       "      <td>DV</td>\n",
       "    </tr>\n",
       "    <tr>\n",
       "      <th>16</th>\n",
       "      <td>sample17</td>\n",
       "      <td>DV</td>\n",
       "    </tr>\n",
       "    <tr>\n",
       "      <th>17</th>\n",
       "      <td>sample18</td>\n",
       "      <td>DV</td>\n",
       "    </tr>\n",
       "    <tr>\n",
       "      <th>18</th>\n",
       "      <td>sample19</td>\n",
       "      <td>NDV</td>\n",
       "    </tr>\n",
       "    <tr>\n",
       "      <th>19</th>\n",
       "      <td>sample20</td>\n",
       "      <td>NDV</td>\n",
       "    </tr>\n",
       "    <tr>\n",
       "      <th>20</th>\n",
       "      <td>sample21</td>\n",
       "      <td>NDV</td>\n",
       "    </tr>\n",
       "    <tr>\n",
       "      <th>21</th>\n",
       "      <td>sample22</td>\n",
       "      <td>NDV</td>\n",
       "    </tr>\n",
       "    <tr>\n",
       "      <th>22</th>\n",
       "      <td>sample23</td>\n",
       "      <td>NDV</td>\n",
       "    </tr>\n",
       "    <tr>\n",
       "      <th>23</th>\n",
       "      <td>sample24</td>\n",
       "      <td>NDV</td>\n",
       "    </tr>\n",
       "  </tbody>\n",
       "</table>\n",
       "</div>"
      ],
      "text/plain": [
       "      Sample Actual_Value\n",
       "0    sample1           DV\n",
       "1    sample2           DV\n",
       "2    sample3           DV\n",
       "3    sample4           DV\n",
       "4    sample5           DV\n",
       "5    sample6           DV\n",
       "6    sample7           DV\n",
       "7    sample8           DV\n",
       "8    sample9           DV\n",
       "9   sample10           DV\n",
       "10  sample11           DV\n",
       "11  sample12           DV\n",
       "12  sample13           DV\n",
       "13  sample14           DV\n",
       "14  sample15           DV\n",
       "15  sample16           DV\n",
       "16  sample17           DV\n",
       "17  sample18           DV\n",
       "18  sample19          NDV\n",
       "19  sample20          NDV\n",
       "20  sample21          NDV\n",
       "21  sample22          NDV\n",
       "22  sample23          NDV\n",
       "23  sample24          NDV"
      ]
     },
     "execution_count": 125,
     "metadata": {},
     "output_type": "execute_result"
    }
   ],
   "source": [
    "actual_df"
   ]
  },
  {
   "cell_type": "code",
   "execution_count": 126,
   "metadata": {},
   "outputs": [],
   "source": [
    "from sklearn.metrics import confusion_matrix, accuracy_score"
   ]
  },
  {
   "cell_type": "code",
   "execution_count": 127,
   "metadata": {},
   "outputs": [
    {
     "data": {
      "text/plain": [
       "array([[11,  7],\n",
       "       [ 4,  2]], dtype=int64)"
      ]
     },
     "execution_count": 127,
     "metadata": {},
     "output_type": "execute_result"
    }
   ],
   "source": [
    "confusion_matrix(actual_df['Actual_Value'], df['Final_Prediction'])"
   ]
  },
  {
   "cell_type": "code",
   "execution_count": 128,
   "metadata": {},
   "outputs": [
    {
     "data": {
      "text/plain": [
       "0.5416666666666666"
      ]
     },
     "execution_count": 128,
     "metadata": {},
     "output_type": "execute_result"
    }
   ],
   "source": [
    "accuracy_score(actual_df['Actual_Value'], df['Final_Prediction'])"
   ]
  },
  {
   "cell_type": "code",
   "execution_count": null,
   "metadata": {},
   "outputs": [],
   "source": []
  }
 ],
 "metadata": {
  "interpreter": {
   "hash": "c810a6f02dd99758e84a336706af5ec00c61e436be5779906daaa7198eca5f0b"
  },
  "kernelspec": {
   "display_name": "Python 3.8.8 ('vggfacemodel')",
   "language": "python",
   "name": "python3"
  },
  "language_info": {
   "codemirror_mode": {
    "name": "ipython",
    "version": 3
   },
   "file_extension": ".py",
   "mimetype": "text/x-python",
   "name": "python",
   "nbconvert_exporter": "python",
   "pygments_lexer": "ipython3",
   "version": "3.8.8"
  },
  "orig_nbformat": 4
 },
 "nbformat": 4,
 "nbformat_minor": 2
}
