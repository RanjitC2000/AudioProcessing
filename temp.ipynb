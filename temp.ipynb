{
 "cells": [
  {
   "cell_type": "code",
   "execution_count": 8,
   "metadata": {},
   "outputs": [],
   "source": [
    "import warnings\n",
    "warnings.filterwarnings(\"ignore\")\n",
    "from sklearn import preprocessing\n",
    " \n",
    "import os\n",
    "import pandas as pd\n",
    "import numpy as np\n",
    "a = [name for name in os.listdir(\".\") if os.path.isdir(name)]\n",
    "d = pd.DataFrame()\n",
    "for i in a:\n",
    "    if i != '.git' or i!= 'Test':\n",
    "        b = os.listdir(i)\n",
    "        b = np.array(b)\n",
    "        c = pd.DataFrame(b, columns=['filename'])\n",
    "        c['Class'] = i\n",
    "        #append to the master dataframe\n",
    "        d = d.append(c)\n",
    "\n",
    "from pathlib import Path\n",
    "\n",
    "\n",
    "df = d\n",
    "df.head()\n",
    "\n",
    "# Construct file path by concatenating fold and file name\n",
    "df['relative_path'] = df['Class'] + '/' + df['filename'].astype(str)\n",
    "df = df.sample(frac=1)\n",
    "label_encoder = preprocessing.LabelEncoder()\n",
    "\n",
    "df['classID'] = label_encoder.fit_transform(df['Class'])\n",
    "\n",
    "# Take relevant columns\n",
    "df = df[['relative_path', 'classID','Class']]\n",
    "df.head()\n",
    "df.to_csv('train.csv', index=False)\n",
    "\n"
   ]
  },
  {
   "cell_type": "code",
   "execution_count": 9,
   "metadata": {},
   "outputs": [
    {
     "data": {
      "text/html": [
       "<div>\n",
       "<style scoped>\n",
       "    .dataframe tbody tr th:only-of-type {\n",
       "        vertical-align: middle;\n",
       "    }\n",
       "\n",
       "    .dataframe tbody tr th {\n",
       "        vertical-align: top;\n",
       "    }\n",
       "\n",
       "    .dataframe thead th {\n",
       "        text-align: right;\n",
       "    }\n",
       "</style>\n",
       "<table border=\"1\" class=\"dataframe\">\n",
       "  <thead>\n",
       "    <tr style=\"text-align: right;\">\n",
       "      <th></th>\n",
       "      <th>relative_path</th>\n",
       "      <th>classID</th>\n",
       "      <th>Class</th>\n",
       "    </tr>\n",
       "  </thead>\n",
       "  <tbody>\n",
       "    <tr>\n",
       "      <th>229</th>\n",
       "      <td>Whoop/8MpZyLdsqkI_140.wav</td>\n",
       "      <td>16</td>\n",
       "      <td>Whoop</td>\n",
       "    </tr>\n",
       "    <tr>\n",
       "      <th>360</th>\n",
       "      <td>Singing/-9P-l-lKHBY_30.wav</td>\n",
       "      <td>9</td>\n",
       "      <td>Singing</td>\n",
       "    </tr>\n",
       "    <tr>\n",
       "      <th>334</th>\n",
       "      <td>Whispering/EWLIeAu5eHw_350.wav</td>\n",
       "      <td>15</td>\n",
       "      <td>Whispering</td>\n",
       "    </tr>\n",
       "    <tr>\n",
       "      <th>276</th>\n",
       "      <td>Whispering/CB6KzZxtfF8_10.wav</td>\n",
       "      <td>15</td>\n",
       "      <td>Whispering</td>\n",
       "    </tr>\n",
       "    <tr>\n",
       "      <th>531</th>\n",
       "      <td>Singing/-Ern_i01XsE_70.wav</td>\n",
       "      <td>9</td>\n",
       "      <td>Singing</td>\n",
       "    </tr>\n",
       "    <tr>\n",
       "      <th>...</th>\n",
       "      <td>...</td>\n",
       "      <td>...</td>\n",
       "      <td>...</td>\n",
       "    </tr>\n",
       "    <tr>\n",
       "      <th>142</th>\n",
       "      <td>Clapping/Aje_p6LSmLE_20.wav</td>\n",
       "      <td>5</td>\n",
       "      <td>Clapping</td>\n",
       "    </tr>\n",
       "    <tr>\n",
       "      <th>220</th>\n",
       "      <td>Whimper/14yEJ20Xnz4_30.wav</td>\n",
       "      <td>14</td>\n",
       "      <td>Whimper</td>\n",
       "    </tr>\n",
       "    <tr>\n",
       "      <th>126</th>\n",
       "      <td>Whoop/4gKNCxue5wo_110.wav</td>\n",
       "      <td>16</td>\n",
       "      <td>Whoop</td>\n",
       "    </tr>\n",
       "    <tr>\n",
       "      <th>536</th>\n",
       "      <td>Snicker/NaKZ0NuMlPU_11.wav</td>\n",
       "      <td>10</td>\n",
       "      <td>Snicker</td>\n",
       "    </tr>\n",
       "    <tr>\n",
       "      <th>136</th>\n",
       "      <td>Whimper/0CUHnK_Lh4s_30.wav</td>\n",
       "      <td>14</td>\n",
       "      <td>Whimper</td>\n",
       "    </tr>\n",
       "  </tbody>\n",
       "</table>\n",
       "<p>6021 rows × 3 columns</p>\n",
       "</div>"
      ],
      "text/plain": [
       "                      relative_path  classID       Class\n",
       "229       Whoop/8MpZyLdsqkI_140.wav       16       Whoop\n",
       "360      Singing/-9P-l-lKHBY_30.wav        9     Singing\n",
       "334  Whispering/EWLIeAu5eHw_350.wav       15  Whispering\n",
       "276   Whispering/CB6KzZxtfF8_10.wav       15  Whispering\n",
       "531      Singing/-Ern_i01XsE_70.wav        9     Singing\n",
       "..                              ...      ...         ...\n",
       "142     Clapping/Aje_p6LSmLE_20.wav        5    Clapping\n",
       "220      Whimper/14yEJ20Xnz4_30.wav       14     Whimper\n",
       "126       Whoop/4gKNCxue5wo_110.wav       16       Whoop\n",
       "536      Snicker/NaKZ0NuMlPU_11.wav       10     Snicker\n",
       "136      Whimper/0CUHnK_Lh4s_30.wav       14     Whimper\n",
       "\n",
       "[6021 rows x 3 columns]"
      ]
     },
     "execution_count": 9,
     "metadata": {},
     "output_type": "execute_result"
    }
   ],
   "source": [
    "df"
   ]
  },
  {
   "cell_type": "code",
   "execution_count": 10,
   "metadata": {},
   "outputs": [
    {
     "data": {
      "text/plain": [
       "array(['Whoop', 'Singing', 'Whispering', 'Bellow', 'Clapping', 'Yell',\n",
       "       'Whimper', 'Groan', 'Babbling', 'Snicker', 'shatter', 'Battle cry',\n",
       "       'Children shouting', 'Screaming', 'Speech', 'Wail, moan', '.git',\n",
       "       'Finger snapping', 'Test'], dtype=object)"
      ]
     },
     "execution_count": 10,
     "metadata": {},
     "output_type": "execute_result"
    }
   ],
   "source": [
    "df.Class.unique()"
   ]
  },
  {
   "cell_type": "code",
   "execution_count": 11,
   "metadata": {},
   "outputs": [
    {
     "data": {
      "text/plain": [
       "(6021, 3)"
      ]
     },
     "execution_count": 11,
     "metadata": {},
     "output_type": "execute_result"
    }
   ],
   "source": [
    "df.shape"
   ]
  },
  {
   "cell_type": "code",
   "execution_count": 13,
   "metadata": {},
   "outputs": [],
   "source": [
    "df= df[df['Class'] != 'Test']"
   ]
  },
  {
   "cell_type": "code",
   "execution_count": 14,
   "metadata": {},
   "outputs": [
    {
     "data": {
      "text/plain": [
       "(6020, 3)"
      ]
     },
     "execution_count": 14,
     "metadata": {},
     "output_type": "execute_result"
    }
   ],
   "source": [
    "df.shape"
   ]
  },
  {
   "cell_type": "code",
   "execution_count": 15,
   "metadata": {},
   "outputs": [],
   "source": [
    "df= df[df['Class'] != '.git']"
   ]
  },
  {
   "cell_type": "code",
   "execution_count": 16,
   "metadata": {},
   "outputs": [
    {
     "data": {
      "text/plain": [
       "(6008, 3)"
      ]
     },
     "execution_count": 16,
     "metadata": {},
     "output_type": "execute_result"
    }
   ],
   "source": [
    "df.shape"
   ]
  },
  {
   "cell_type": "code",
   "execution_count": 17,
   "metadata": {},
   "outputs": [],
   "source": [
    "#### Dependencies ####\n",
    "#### Import Comet for experiment tracking and visual tools\n",
    "from comet_ml import Experiment\n",
    "####\n",
    "import IPython.display as ipd\n",
    "import numpy as np\n",
    "import pandas as pd\n",
    "import librosa\n",
    "import matplotlib.pyplot as plt\n",
    "from scipy.io import wavfile as wav\n",
    "from sklearn import metrics \n",
    "from sklearn.preprocessing import LabelEncoder\n",
    "from sklearn.model_selection import train_test_split \n",
    "from keras.models import Sequential\n",
    "from keras.layers import Dense, Dropout, Activation\n",
    "import tensorflow as tf\n",
    "# from keras.optimizers import Adam\n",
    "# from keras.utils import to_categorical"
   ]
  },
  {
   "cell_type": "code",
   "execution_count": 18,
   "metadata": {},
   "outputs": [
    {
     "name": "stderr",
     "output_type": "stream",
     "text": [
      "COMET WARNING: Comet has disabled auto-logging functionality as it has been imported after the following ML modules: sklearn. Metrics and hyperparameters can still be logged using comet_ml.log_metrics() and comet_ml.log_parameters()\n",
      "COMET WARNING: As you are running in a Jupyter environment, you will need to call `experiment.end()` when finished to ensure all metrics and code are logged before exiting.\n",
      "COMET INFO: Experiment is live on comet.ml https://www.comet.ml/shakthi-stack/fyp-audio-processing/9824c5f487184d82bcb7026262150189\n",
      "\n"
     ]
    }
   ],
   "source": [
    "experiment = Experiment(\n",
    "    api_key=\"TpJmHUzqkFIYdblKq8rPA9vKW\",\n",
    "    project_name=\"fyp-audio-processing\",\n",
    "    workspace=\"shakthi-stack\",\n",
    ")"
   ]
  },
  {
   "cell_type": "code",
   "execution_count": 19,
   "metadata": {},
   "outputs": [],
   "source": [
    "labels = list(df['classID'].unique())"
   ]
  },
  {
   "cell_type": "code",
   "execution_count": 20,
   "metadata": {},
   "outputs": [],
   "source": [
    "files = dict()\n",
    "for i in range(len(labels)):\n",
    "    tmp = df[df['classID'] == labels[i]][:1].reset_index()\n",
    "    path = df['relative_path']\n",
    "    files[labels[i]] = path"
   ]
  },
  {
   "cell_type": "code",
   "execution_count": 21,
   "metadata": {},
   "outputs": [
    {
     "name": "stdout",
     "output_type": "stream",
     "text": [
      "Original sample rate: 16000\n",
      "Librosa sample rate: 22050\n"
     ]
    }
   ],
   "source": [
    "fn = 'Snicker/6xfMfFenKiM_70.wav'\n",
    "librosa_audio, librosa_sample_rate = librosa.load(fn)\n",
    "scipy_sample_rate, scipy_audio = wav.read(fn)\n",
    "print(\"Original sample rate: {}\".format(scipy_sample_rate))\n",
    "print(\"Librosa sample rate: {}\".format(librosa_sample_rate))"
   ]
  },
  {
   "cell_type": "code",
   "execution_count": 22,
   "metadata": {},
   "outputs": [
    {
     "name": "stdout",
     "output_type": "stream",
     "text": [
      "Original audio file min~max range: -5272 to 4727\n",
      "Librosa audio file min~max range: -0.16 to -0.16\n"
     ]
    }
   ],
   "source": [
    "print('Original audio file min~max range: {} to {}'.format(np.min(scipy_audio), np.max(scipy_audio)))\n",
    "print('Librosa audio file min~max range: {0:.2f} to {0:.2f}'.format(np.min(librosa_audio), np.max(librosa_audio)))"
   ]
  },
  {
   "cell_type": "code",
   "execution_count": 23,
   "metadata": {},
   "outputs": [
    {
     "data": {
      "text/plain": [
       "[<matplotlib.lines.Line2D at 0x1411a106340>,\n",
       " <matplotlib.lines.Line2D at 0x1411a106790>]"
      ]
     },
     "execution_count": 23,
     "metadata": {},
     "output_type": "execute_result"
    },
    {
     "data": {
      "image/png": "[encoded data removed]",
      "text/plain": [
       "<Figure size 864x288 with 1 Axes>"
      ]
     },
     "metadata": {
      "needs_background": "light"
     },
     "output_type": "display_data"
    }
   ],
   "source": [
    "plt.figure(figsize=(12, 4))\n",
    "plt.plot(scipy_audio)"
   ]
  },
  {
   "cell_type": "code",
   "execution_count": 24,
   "metadata": {},
   "outputs": [
    {
     "data": {
      "text/plain": [
       "[<matplotlib.lines.Line2D at 0x1411a109160>]"
      ]
     },
     "execution_count": 24,
     "metadata": {},
     "output_type": "execute_result"
    },
    {
     "data": {
      "image/png": "[encoded data removed]",
      "text/plain": [
       "<Figure size 864x288 with 1 Axes>"
      ]
     },
     "metadata": {
      "needs_background": "light"
     },
     "output_type": "display_data"
    }
   ],
   "source": [
    "plt.figure(figsize=(12,4))\n",
    "plt.plot(librosa_audio)"
   ]
  },
  {
   "cell_type": "code",
   "execution_count": 25,
   "metadata": {},
   "outputs": [],
   "source": [
    "mfccs = librosa.feature.mfcc(y=librosa_audio, sr=librosa_sample_rate, n_mfcc = 500)"
   ]
  },
  {
   "cell_type": "code",
   "execution_count": 26,
   "metadata": {},
   "outputs": [
    {
     "name": "stdout",
     "output_type": "stream",
     "text": [
      "(128, 431)\n"
     ]
    }
   ],
   "source": [
    "print(mfccs.shape)"
   ]
  },
  {
   "cell_type": "code",
   "execution_count": 27,
   "metadata": {},
   "outputs": [
    {
     "data": {
      "text/plain": [
       "<matplotlib.collections.QuadMesh at 0x1411a942730>"
      ]
     },
     "execution_count": 27,
     "metadata": {},
     "output_type": "execute_result"
    },
    {
     "data": {
      "image/png": "[encoded data removed]",
      "text/plain": [
       "<Figure size 576x576 with 1 Axes>"
      ]
     },
     "metadata": {
      "needs_background": "light"
     },
     "output_type": "display_data"
    }
   ],
   "source": [
    "import librosa.display\n",
    "plt.figure(figsize=(8,8))\n",
    "\n",
    "librosa.display.specshow(mfccs, sr=librosa_sample_rate, x_axis='time')"
   ]
  },
  {
   "cell_type": "code",
   "execution_count": 28,
   "metadata": {},
   "outputs": [],
   "source": [
    "def extract_features(file_name):\n",
    "    audio, sample_rate = librosa.load(file_name, res_type='kaiser_fast') \n",
    "    mfccs = librosa.feature.mfcc(y=audio, sr=sample_rate, n_mfcc=100)\n",
    "    mfccs_processed = np.mean(mfccs.T,axis=0) \n",
    "    return mfccs_processed"
   ]
  },
  {
   "cell_type": "code",
   "execution_count": 29,
   "metadata": {},
   "outputs": [
    {
     "name": "stdout",
     "output_type": "stream",
     "text": [
      "error\n"
     ]
    }
   ],
   "source": [
    "features = []\n",
    "# Iterate through each sound file and extract the features \n",
    "for index, row in df.iterrows():\n",
    "    file_name = row['relative_path']\n",
    "    # os.path.join(os.path.abspath(fulldatasetpath),'fold'+str(row[\"fold\"])+'/',str(row[\"slice_file_name\"])) \n",
    "    class_label = row[\"Class\"]\n",
    "    try:\n",
    "        data = extract_features(file_name)\n",
    "        features.append([data, class_label])\n",
    "    except:\n",
    "        print(\"error\")\n",
    "        continue\n",
    "# Convert into a Panda dataframe \n",
    "featuresdf = pd.DataFrame(features, columns=['feature','class_label'])"
   ]
  },
  {
   "cell_type": "code",
   "execution_count": 30,
   "metadata": {},
   "outputs": [
    {
     "data": {
      "text/html": [
       "<div>\n",
       "<style scoped>\n",
       "    .dataframe tbody tr th:only-of-type {\n",
       "        vertical-align: middle;\n",
       "    }\n",
       "\n",
       "    .dataframe tbody tr th {\n",
       "        vertical-align: top;\n",
       "    }\n",
       "\n",
       "    .dataframe thead th {\n",
       "        text-align: right;\n",
       "    }\n",
       "</style>\n",
       "<table border=\"1\" class=\"dataframe\">\n",
       "  <thead>\n",
       "    <tr style=\"text-align: right;\">\n",
       "      <th></th>\n",
       "      <th>feature</th>\n",
       "      <th>class_label</th>\n",
       "    </tr>\n",
       "  </thead>\n",
       "  <tbody>\n",
       "    <tr>\n",
       "      <th>0</th>\n",
       "      <td>[18.380108, 185.86597, -96.63032, 32.434044, -...</td>\n",
       "      <td>Whoop</td>\n",
       "    </tr>\n",
       "    <tr>\n",
       "      <th>1</th>\n",
       "      <td>[-109.06404, 114.34226, -86.962425, 53.32334, ...</td>\n",
       "      <td>Singing</td>\n",
       "    </tr>\n",
       "    <tr>\n",
       "      <th>2</th>\n",
       "      <td>[-565.18066, 103.22018, -46.745872, 49.919834,...</td>\n",
       "      <td>Whispering</td>\n",
       "    </tr>\n",
       "    <tr>\n",
       "      <th>3</th>\n",
       "      <td>[-543.09717, 73.75494, -42.5127, 35.056156, -3...</td>\n",
       "      <td>Whispering</td>\n",
       "    </tr>\n",
       "    <tr>\n",
       "      <th>4</th>\n",
       "      <td>[-103.056335, 126.53814, -91.82321, 50.263523,...</td>\n",
       "      <td>Singing</td>\n",
       "    </tr>\n",
       "    <tr>\n",
       "      <th>...</th>\n",
       "      <td>...</td>\n",
       "      <td>...</td>\n",
       "    </tr>\n",
       "    <tr>\n",
       "      <th>6002</th>\n",
       "      <td>[-290.68225, 128.7305, -32.56096, 38.230885, -...</td>\n",
       "      <td>Clapping</td>\n",
       "    </tr>\n",
       "    <tr>\n",
       "      <th>6003</th>\n",
       "      <td>[-199.50168, 138.0486, -79.58454, -8.708781, -...</td>\n",
       "      <td>Whimper</td>\n",
       "    </tr>\n",
       "    <tr>\n",
       "      <th>6004</th>\n",
       "      <td>[-93.03112, 199.97882, -104.14095, 50.838604, ...</td>\n",
       "      <td>Whoop</td>\n",
       "    </tr>\n",
       "    <tr>\n",
       "      <th>6005</th>\n",
       "      <td>[-275.53372, 37.868053, -76.24197, 11.037546, ...</td>\n",
       "      <td>Snicker</td>\n",
       "    </tr>\n",
       "    <tr>\n",
       "      <th>6006</th>\n",
       "      <td>[-377.40967, 92.10046, -26.09805, 55.510975, -...</td>\n",
       "      <td>Whimper</td>\n",
       "    </tr>\n",
       "  </tbody>\n",
       "</table>\n",
       "<p>6007 rows × 2 columns</p>\n",
       "</div>"
      ],
      "text/plain": [
       "                                                feature class_label\n",
       "0     [18.380108, 185.86597, -96.63032, 32.434044, -...       Whoop\n",
       "1     [-109.06404, 114.34226, -86.962425, 53.32334, ...     Singing\n",
       "2     [-565.18066, 103.22018, -46.745872, 49.919834,...  Whispering\n",
       "3     [-543.09717, 73.75494, -42.5127, 35.056156, -3...  Whispering\n",
       "4     [-103.056335, 126.53814, -91.82321, 50.263523,...     Singing\n",
       "...                                                 ...         ...\n",
       "6002  [-290.68225, 128.7305, -32.56096, 38.230885, -...    Clapping\n",
       "6003  [-199.50168, 138.0486, -79.58454, -8.708781, -...     Whimper\n",
       "6004  [-93.03112, 199.97882, -104.14095, 50.838604, ...       Whoop\n",
       "6005  [-275.53372, 37.868053, -76.24197, 11.037546, ...     Snicker\n",
       "6006  [-377.40967, 92.10046, -26.09805, 55.510975, -...     Whimper\n",
       "\n",
       "[6007 rows x 2 columns]"
      ]
     },
     "execution_count": 30,
     "metadata": {},
     "output_type": "execute_result"
    }
   ],
   "source": [
    "featuresdf"
   ]
  },
  {
   "cell_type": "code",
   "execution_count": 31,
   "metadata": {},
   "outputs": [
    {
     "data": {
      "text/plain": [
       "array([ 1.83801079e+01,  1.85865967e+02, -9.66303177e+01,  3.24340439e+01,\n",
       "       -3.98124733e+01,  7.57264185e+00,  4.19526196e+00, -2.54365611e+00,\n",
       "        8.33585739e+00, -9.51066494e+00,  2.68738723e+00, -1.38104877e+01,\n",
       "        5.90992391e-01, -2.00711441e+00,  1.94995567e-01,  1.65751541e+00,\n",
       "       -2.29566646e+00,  4.11173916e+00, -3.34104276e+00,  4.09429216e+00,\n",
       "        2.76140261e+00, -4.28457201e-01, -2.30285597e+00, -7.35797763e-01,\n",
       "       -9.30783927e-01, -2.18988895e+00,  5.51330149e-01, -3.66048789e+00,\n",
       "        6.23934008e-02, -2.18381047e+00, -3.08709598e+00,  7.38730073e-01,\n",
       "        1.66319072e+00,  9.72149432e-01, -2.34328628e-01,  3.76817107e-01,\n",
       "       -1.52975595e+00, -1.05040014e-01, -2.81858861e-01, -7.99201131e-01,\n",
       "       -3.76416016e+00, -3.98795700e+00, -8.18907678e-01, -1.61084127e+00,\n",
       "       -1.62593579e+00, -2.47970271e+00, -1.10101819e+00, -1.08765495e+00,\n",
       "       -7.91558862e-01, -2.62699556e+00, -4.04344893e+00, -1.40074527e+00,\n",
       "       -1.37466311e+00,  2.59317726e-01, -9.89683032e-01, -2.87884617e+00,\n",
       "       -2.15991378e+00, -1.36950088e+00, -1.50665581e+00, -1.32237065e+00,\n",
       "       -1.72051489e-01, -2.87827432e-01,  2.65398055e-01, -1.20353913e+00,\n",
       "       -1.40705407e+00, -1.04780340e+00, -1.27922046e+00,  4.91113495e-03,\n",
       "       -1.88418508e-01, -2.98819959e-01,  5.13096035e-01,  1.58381212e+00,\n",
       "        1.43221128e+00,  1.00781298e+00,  9.19804052e-02,  4.29229364e-02,\n",
       "        9.16998267e-01,  5.18965304e-01, -6.01301752e-02, -4.07010466e-01,\n",
       "        5.39694607e-01,  1.63366228e-01, -5.17251730e-01, -4.34227198e-01,\n",
       "       -3.06255639e-01, -2.05372080e-01, -7.87876010e-01, -9.72270548e-01,\n",
       "       -1.41520953e+00, -1.27074480e-01,  9.05172050e-01,  3.91254216e-01,\n",
       "        2.47086629e-01,  4.23675984e-01,  3.96166235e-01, -8.84387717e-02,\n",
       "        2.38956586e-01, -8.09929252e-01, -1.54329443e+00, -9.31174099e-01],\n",
       "      dtype=float32)"
      ]
     },
     "execution_count": 31,
     "metadata": {},
     "output_type": "execute_result"
    }
   ],
   "source": [
    "featuresdf.iloc[0]['feature']"
   ]
  },
  {
   "cell_type": "code",
   "execution_count": 32,
   "metadata": {},
   "outputs": [],
   "source": [
    "from sklearn.preprocessing import LabelEncoder\n",
    "# from keras.utils import to_categorical\n",
    "from tensorflow.keras.utils import to_categorical\n",
    "# Convert features and corresponding classification labels into numpy arrays\n",
    "X = np.array(featuresdf.feature.tolist())\n",
    "y = np.array(featuresdf.class_label.tolist())\n",
    "# Encode the classification labels\n",
    "le = LabelEncoder()\n",
    "yy = to_categorical(le.fit_transform(y))"
   ]
  },
  {
   "cell_type": "code",
   "execution_count": 33,
   "metadata": {},
   "outputs": [
    {
     "data": {
      "text/plain": [
       "(6007, 100)"
      ]
     },
     "execution_count": 33,
     "metadata": {},
     "output_type": "execute_result"
    }
   ],
   "source": [
    "X.shape"
   ]
  },
  {
   "cell_type": "code",
   "execution_count": 34,
   "metadata": {},
   "outputs": [
    {
     "data": {
      "text/plain": [
       "array(['Whoop', 'Singing', 'Whispering', ..., 'Whoop', 'Snicker',\n",
       "       'Whimper'], dtype='<U17')"
      ]
     },
     "execution_count": 34,
     "metadata": {},
     "output_type": "execute_result"
    }
   ],
   "source": [
    "y"
   ]
  },
  {
   "cell_type": "code",
   "execution_count": 35,
   "metadata": {},
   "outputs": [],
   "source": [
    "# split the dataset \n",
    "from sklearn.model_selection import train_test_split \n",
    "x_train, x_test, y_train, y_test = train_test_split(X, yy, test_size=0.2, random_state = 127)"
   ]
  },
  {
   "cell_type": "code",
   "execution_count": 36,
   "metadata": {},
   "outputs": [],
   "source": [
    "num_labels = yy.shape[1]\n",
    "filter_size = 2\n",
    "def build_model_graph(input_shape=(100,)):\n",
    "    model = Sequential()\n",
    "    model.add(Dense(256))\n",
    "    model.add(Activation('relu'))\n",
    "    model.add(Dropout(0.5))\n",
    "    model.add(Dense(256))\n",
    "    model.add(Activation('relu'))\n",
    "    model.add(Dropout(0.5))\n",
    "    model.add(Dense(num_labels))\n",
    "    model.add(Activation('softmax'))\n",
    "    # Compile the model\n",
    "    model.compile(loss='categorical_crossentropy', metrics=['accuracy','AUC'], optimizer='adam')\n",
    "    return model\n",
    "model = build_model_graph()"
   ]
  },
  {
   "cell_type": "code",
   "execution_count": 37,
   "metadata": {},
   "outputs": [
    {
     "name": "stderr",
     "output_type": "stream",
     "text": [
      "COMET INFO: Ignoring automatic log_parameter('verbose') because 'keras:verbose' is in COMET_LOGGING_PARAMETERS_IGNORE\n"
     ]
    },
    {
     "name": "stdout",
     "output_type": "stream",
     "text": [
      "Epoch 1/100\n"
     ]
    },
    {
     "name": "stderr",
     "output_type": "stream",
     "text": [
      "COMET INFO: ignoring tensorflow summary log of metrics because of keras; set `comet_ml.loggers.tensorboard_logger.LOG_METRICS = True` to override\n"
     ]
    },
    {
     "name": "stdout",
     "output_type": "stream",
     "text": [
      "151/151 [==============================] - 2s 6ms/step - loss: 12.8173 - accuracy: 0.1444 - auc: 0.5936 - val_loss: 2.7786 - val_accuracy: 0.2529 - val_auc: 0.7062\n",
      "Epoch 2/100\n",
      "151/151 [==============================] - 1s 4ms/step - loss: 2.9652 - accuracy: 0.1867 - auc: 0.6645 - val_loss: 2.4659 - val_accuracy: 0.2654 - val_auc: 0.7772\n",
      "Epoch 3/100\n",
      "151/151 [==============================] - 1s 4ms/step - loss: 2.6563 - accuracy: 0.2183 - auc: 0.7165 - val_loss: 2.3570 - val_accuracy: 0.2937 - val_auc: 0.8100\n",
      "Epoch 4/100\n",
      "151/151 [==============================] - 1s 4ms/step - loss: 2.4984 - accuracy: 0.2433 - auc: 0.7535 - val_loss: 2.2678 - val_accuracy: 0.2945 - val_auc: 0.8196\n",
      "Epoch 5/100\n",
      "151/151 [==============================] - 1s 4ms/step - loss: 2.4293 - accuracy: 0.2685 - auc: 0.7718 - val_loss: 2.2416 - val_accuracy: 0.2953 - val_auc: 0.8264\n",
      "Epoch 6/100\n",
      "151/151 [==============================] - 1s 4ms/step - loss: 2.3667 - accuracy: 0.2753 - auc: 0.7856 - val_loss: 2.1766 - val_accuracy: 0.3045 - val_auc: 0.8285\n",
      "Epoch 7/100\n",
      "151/151 [==============================] - 1s 4ms/step - loss: 2.3458 - accuracy: 0.2801 - auc: 0.7903 - val_loss: 2.1861 - val_accuracy: 0.3078 - val_auc: 0.8312\n",
      "Epoch 8/100\n",
      "151/151 [==============================] - 1s 4ms/step - loss: 2.3175 - accuracy: 0.2830 - auc: 0.7952 - val_loss: 2.1546 - val_accuracy: 0.3070 - val_auc: 0.8364\n",
      "Epoch 9/100\n",
      "151/151 [==============================] - 1s 4ms/step - loss: 2.2987 - accuracy: 0.2893 - auc: 0.7984 - val_loss: 2.1505 - val_accuracy: 0.3128 - val_auc: 0.8385\n",
      "Epoch 10/100\n",
      "151/151 [==============================] - 1s 4ms/step - loss: 2.2896 - accuracy: 0.2880 - auc: 0.8016 - val_loss: 2.1447 - val_accuracy: 0.3145 - val_auc: 0.8415\n",
      "Epoch 11/100\n",
      "151/151 [==============================] - 1s 4ms/step - loss: 2.2605 - accuracy: 0.2830 - auc: 0.8076 - val_loss: 2.0995 - val_accuracy: 0.3228 - val_auc: 0.8492\n",
      "Epoch 12/100\n",
      "151/151 [==============================] - 1s 4ms/step - loss: 2.2411 - accuracy: 0.2999 - auc: 0.8124 - val_loss: 2.0941 - val_accuracy: 0.3145 - val_auc: 0.8471\n",
      "Epoch 13/100\n",
      "151/151 [==============================] - 1s 4ms/step - loss: 2.2245 - accuracy: 0.2964 - auc: 0.8158 - val_loss: 2.0970 - val_accuracy: 0.3220 - val_auc: 0.8498\n",
      "Epoch 14/100\n",
      "151/151 [==============================] - 1s 4ms/step - loss: 2.1933 - accuracy: 0.3014 - auc: 0.8216 - val_loss: 2.0653 - val_accuracy: 0.3311 - val_auc: 0.8529\n",
      "Epoch 15/100\n",
      "151/151 [==============================] - 1s 4ms/step - loss: 2.1736 - accuracy: 0.3080 - auc: 0.8248 - val_loss: 2.0386 - val_accuracy: 0.3386 - val_auc: 0.8579\n",
      "Epoch 16/100\n",
      "151/151 [==============================] - 1s 4ms/step - loss: 2.1420 - accuracy: 0.3170 - auc: 0.8303 - val_loss: 2.0091 - val_accuracy: 0.3494 - val_auc: 0.8601\n",
      "Epoch 17/100\n",
      "151/151 [==============================] - 1s 4ms/step - loss: 2.1401 - accuracy: 0.3172 - auc: 0.8323 - val_loss: 2.0116 - val_accuracy: 0.3478 - val_auc: 0.8597\n",
      "Epoch 18/100\n",
      "151/151 [==============================] - 1s 4ms/step - loss: 2.1345 - accuracy: 0.3163 - auc: 0.8333 - val_loss: 2.0073 - val_accuracy: 0.3478 - val_auc: 0.8604\n",
      "Epoch 19/100\n",
      "151/151 [==============================] - 1s 4ms/step - loss: 2.1155 - accuracy: 0.3305 - auc: 0.8346 - val_loss: 1.9812 - val_accuracy: 0.3636 - val_auc: 0.8635\n",
      "Epoch 20/100\n",
      "151/151 [==============================] - 1s 5ms/step - loss: 2.1111 - accuracy: 0.3272 - auc: 0.8365 - val_loss: 2.0075 - val_accuracy: 0.3453 - val_auc: 0.8584\n",
      "Epoch 21/100\n",
      "151/151 [==============================] - 1s 4ms/step - loss: 2.0878 - accuracy: 0.3305 - auc: 0.8409 - val_loss: 1.9662 - val_accuracy: 0.3677 - val_auc: 0.8628\n",
      "Epoch 22/100\n",
      "151/151 [==============================] - 1s 4ms/step - loss: 2.0815 - accuracy: 0.3342 - auc: 0.8415 - val_loss: 1.9709 - val_accuracy: 0.3636 - val_auc: 0.8638\n",
      "Epoch 23/100\n",
      "151/151 [==============================] - 1s 4ms/step - loss: 2.0809 - accuracy: 0.3319 - auc: 0.8434 - val_loss: 1.9875 - val_accuracy: 0.3586 - val_auc: 0.8619\n",
      "Epoch 24/100\n",
      "151/151 [==============================] - 1s 4ms/step - loss: 2.0559 - accuracy: 0.3453 - auc: 0.8462 - val_loss: 1.9555 - val_accuracy: 0.3611 - val_auc: 0.8661\n",
      "Epoch 25/100\n",
      "151/151 [==============================] - 1s 4ms/step - loss: 2.0576 - accuracy: 0.3286 - auc: 0.8456 - val_loss: 1.9598 - val_accuracy: 0.3669 - val_auc: 0.8661\n",
      "Epoch 26/100\n",
      "151/151 [==============================] - 1s 4ms/step - loss: 2.0515 - accuracy: 0.3455 - auc: 0.8468 - val_loss: 1.9384 - val_accuracy: 0.3652 - val_auc: 0.8683\n",
      "Epoch 27/100\n",
      "151/151 [==============================] - 1s 4ms/step - loss: 2.0210 - accuracy: 0.3550 - auc: 0.8514 - val_loss: 1.9358 - val_accuracy: 0.3744 - val_auc: 0.8675\n",
      "Epoch 28/100\n",
      "151/151 [==============================] - 1s 4ms/step - loss: 2.0320 - accuracy: 0.3496 - auc: 0.8503 - val_loss: 1.9483 - val_accuracy: 0.3694 - val_auc: 0.8678\n",
      "Epoch 29/100\n",
      "151/151 [==============================] - 1s 4ms/step - loss: 2.0216 - accuracy: 0.3498 - auc: 0.8524 - val_loss: 1.9617 - val_accuracy: 0.3636 - val_auc: 0.8643\n",
      "Epoch 30/100\n",
      "151/151 [==============================] - 1s 4ms/step - loss: 1.9946 - accuracy: 0.3621 - auc: 0.8564 - val_loss: 1.9170 - val_accuracy: 0.3794 - val_auc: 0.8706\n",
      "Epoch 31/100\n",
      "151/151 [==============================] - 1s 4ms/step - loss: 2.0070 - accuracy: 0.3488 - auc: 0.8546 - val_loss: 1.9129 - val_accuracy: 0.3819 - val_auc: 0.8697\n",
      "Epoch 32/100\n",
      "151/151 [==============================] - 1s 4ms/step - loss: 1.9683 - accuracy: 0.3734 - auc: 0.8606 - val_loss: 1.9159 - val_accuracy: 0.3702 - val_auc: 0.8701\n",
      "Epoch 33/100\n",
      "151/151 [==============================] - 1s 4ms/step - loss: 1.9837 - accuracy: 0.3682 - auc: 0.8589 - val_loss: 1.9359 - val_accuracy: 0.3719 - val_auc: 0.8685\n",
      "Epoch 34/100\n",
      "151/151 [==============================] - 1s 4ms/step - loss: 1.9669 - accuracy: 0.3704 - auc: 0.8613 - val_loss: 1.9191 - val_accuracy: 0.3794 - val_auc: 0.8715\n",
      "Epoch 35/100\n",
      "151/151 [==============================] - 1s 4ms/step - loss: 1.9521 - accuracy: 0.3715 - auc: 0.8630 - val_loss: 1.8968 - val_accuracy: 0.3869 - val_auc: 0.8739\n",
      "Epoch 36/100\n",
      "151/151 [==============================] - 1s 4ms/step - loss: 1.9608 - accuracy: 0.3698 - auc: 0.8612 - val_loss: 1.9303 - val_accuracy: 0.3877 - val_auc: 0.8697\n",
      "Epoch 37/100\n",
      "151/151 [==============================] - 1s 3ms/step - loss: 1.9490 - accuracy: 0.3746 - auc: 0.8635 - val_loss: 1.9318 - val_accuracy: 0.3869 - val_auc: 0.8704\n",
      "Epoch 38/100\n",
      "151/151 [==============================] - 1s 3ms/step - loss: 1.9427 - accuracy: 0.3759 - auc: 0.8646 - val_loss: 1.9112 - val_accuracy: 0.3977 - val_auc: 0.8725\n",
      "Epoch 39/100\n",
      "151/151 [==============================] - 0s 3ms/step - loss: 1.9207 - accuracy: 0.3819 - auc: 0.8681 - val_loss: 1.9205 - val_accuracy: 0.3860 - val_auc: 0.8710\n",
      "Epoch 40/100\n",
      "151/151 [==============================] - 0s 3ms/step - loss: 1.9197 - accuracy: 0.3790 - auc: 0.8688 - val_loss: 1.9168 - val_accuracy: 0.3810 - val_auc: 0.8704\n",
      "Epoch 41/100\n",
      "151/151 [==============================] - 1s 4ms/step - loss: 1.9207 - accuracy: 0.3821 - auc: 0.8680 - val_loss: 1.9026 - val_accuracy: 0.3844 - val_auc: 0.8731\n",
      "Epoch 42/100\n",
      "151/151 [==============================] - 1s 4ms/step - loss: 1.8941 - accuracy: 0.3919 - auc: 0.8724 - val_loss: 1.8903 - val_accuracy: 0.3960 - val_auc: 0.8747\n",
      "Epoch 43/100\n",
      "151/151 [==============================] - 1s 4ms/step - loss: 1.8861 - accuracy: 0.3960 - auc: 0.8729 - val_loss: 1.8958 - val_accuracy: 0.3985 - val_auc: 0.8742\n",
      "Epoch 44/100\n",
      "151/151 [==============================] - 1s 4ms/step - loss: 1.8724 - accuracy: 0.3923 - auc: 0.8765 - val_loss: 1.8923 - val_accuracy: 0.3877 - val_auc: 0.8737\n",
      "Epoch 45/100\n",
      "151/151 [==============================] - 1s 4ms/step - loss: 1.8774 - accuracy: 0.3952 - auc: 0.8749 - val_loss: 1.9009 - val_accuracy: 0.3894 - val_auc: 0.8740\n",
      "Epoch 46/100\n",
      "151/151 [==============================] - 1s 4ms/step - loss: 1.8693 - accuracy: 0.3996 - auc: 0.8756 - val_loss: 1.8861 - val_accuracy: 0.3993 - val_auc: 0.8757\n",
      "Epoch 47/100\n",
      "151/151 [==============================] - 1s 4ms/step - loss: 1.8633 - accuracy: 0.3990 - auc: 0.8765 - val_loss: 1.9000 - val_accuracy: 0.3977 - val_auc: 0.8732\n",
      "Epoch 48/100\n",
      "151/151 [==============================] - 1s 4ms/step - loss: 1.8432 - accuracy: 0.4056 - auc: 0.8801 - val_loss: 1.8878 - val_accuracy: 0.3968 - val_auc: 0.8739\n",
      "Epoch 49/100\n",
      "151/151 [==============================] - 1s 4ms/step - loss: 1.8444 - accuracy: 0.4089 - auc: 0.8797 - val_loss: 1.8951 - val_accuracy: 0.3968 - val_auc: 0.8736\n",
      "Epoch 50/100\n",
      "151/151 [==============================] - 1s 4ms/step - loss: 1.8664 - accuracy: 0.3917 - auc: 0.8765 - val_loss: 1.9023 - val_accuracy: 0.3977 - val_auc: 0.8724\n",
      "Epoch 51/100\n",
      "151/151 [==============================] - 1s 4ms/step - loss: 1.8407 - accuracy: 0.4019 - auc: 0.8801 - val_loss: 1.8778 - val_accuracy: 0.4035 - val_auc: 0.8770\n",
      "Epoch 52/100\n",
      "151/151 [==============================] - 1s 4ms/step - loss: 1.8371 - accuracy: 0.4040 - auc: 0.8808 - val_loss: 1.8940 - val_accuracy: 0.3844 - val_auc: 0.8733\n",
      "Epoch 53/100\n",
      "151/151 [==============================] - 1s 4ms/step - loss: 1.8326 - accuracy: 0.4054 - auc: 0.8820 - val_loss: 1.9009 - val_accuracy: 0.4002 - val_auc: 0.8729\n",
      "Epoch 54/100\n",
      "151/151 [==============================] - 1s 4ms/step - loss: 1.8340 - accuracy: 0.4017 - auc: 0.8817 - val_loss: 1.8941 - val_accuracy: 0.4093 - val_auc: 0.8734\n",
      "Epoch 55/100\n",
      "151/151 [==============================] - 1s 4ms/step - loss: 1.8034 - accuracy: 0.4162 - auc: 0.8853 - val_loss: 1.9115 - val_accuracy: 0.4043 - val_auc: 0.8708\n",
      "Epoch 56/100\n",
      "151/151 [==============================] - 1s 4ms/step - loss: 1.8010 - accuracy: 0.4040 - auc: 0.8859 - val_loss: 1.8927 - val_accuracy: 0.4060 - val_auc: 0.8744\n",
      "Epoch 57/100\n",
      "151/151 [==============================] - 1s 4ms/step - loss: 1.8141 - accuracy: 0.4196 - auc: 0.8835 - val_loss: 1.9097 - val_accuracy: 0.4110 - val_auc: 0.8727\n",
      "Epoch 58/100\n",
      "151/151 [==============================] - 1s 4ms/step - loss: 1.8013 - accuracy: 0.4142 - auc: 0.8860 - val_loss: 1.8826 - val_accuracy: 0.4068 - val_auc: 0.8755\n",
      "Epoch 59/100\n",
      "151/151 [==============================] - 1s 4ms/step - loss: 1.7971 - accuracy: 0.4114 - auc: 0.8872 - val_loss: 1.9027 - val_accuracy: 0.3993 - val_auc: 0.8726\n",
      "Epoch 60/100\n",
      "151/151 [==============================] - 1s 4ms/step - loss: 1.7883 - accuracy: 0.4206 - auc: 0.8881 - val_loss: 1.8993 - val_accuracy: 0.4002 - val_auc: 0.8725\n",
      "Epoch 61/100\n",
      "151/151 [==============================] - 1s 4ms/step - loss: 1.7892 - accuracy: 0.4273 - auc: 0.8878 - val_loss: 1.9036 - val_accuracy: 0.4060 - val_auc: 0.8728\n",
      "Epoch 62/100\n",
      "151/151 [==============================] - 1s 4ms/step - loss: 1.7662 - accuracy: 0.4139 - auc: 0.8911 - val_loss: 1.8935 - val_accuracy: 0.4118 - val_auc: 0.8743\n",
      "Epoch 63/100\n",
      "151/151 [==============================] - 1s 3ms/step - loss: 1.7643 - accuracy: 0.4229 - auc: 0.8909 - val_loss: 1.9083 - val_accuracy: 0.3993 - val_auc: 0.8725\n",
      "Epoch 64/100\n",
      "151/151 [==============================] - 1s 4ms/step - loss: 1.7546 - accuracy: 0.4273 - auc: 0.8925 - val_loss: 1.8938 - val_accuracy: 0.3952 - val_auc: 0.8751\n",
      "Epoch 65/100\n",
      "151/151 [==============================] - 1s 4ms/step - loss: 1.7387 - accuracy: 0.4258 - auc: 0.8949 - val_loss: 1.9113 - val_accuracy: 0.3977 - val_auc: 0.8727\n",
      "Epoch 66/100\n",
      "151/151 [==============================] - 1s 3ms/step - loss: 1.7421 - accuracy: 0.4337 - auc: 0.8938 - val_loss: 1.9071 - val_accuracy: 0.3935 - val_auc: 0.8722\n",
      "Epoch 67/100\n",
      "151/151 [==============================] - 1s 4ms/step - loss: 1.7463 - accuracy: 0.4318 - auc: 0.8937 - val_loss: 1.9342 - val_accuracy: 0.3819 - val_auc: 0.8703\n",
      "Epoch 68/100\n",
      "151/151 [==============================] - 1s 4ms/step - loss: 1.7461 - accuracy: 0.4316 - auc: 0.8937 - val_loss: 1.9085 - val_accuracy: 0.4052 - val_auc: 0.8738\n",
      "Epoch 69/100\n",
      "151/151 [==============================] - 1s 4ms/step - loss: 1.7284 - accuracy: 0.4293 - auc: 0.8958 - val_loss: 1.8974 - val_accuracy: 0.4093 - val_auc: 0.8752\n",
      "Epoch 70/100\n",
      "151/151 [==============================] - 1s 4ms/step - loss: 1.7246 - accuracy: 0.4427 - auc: 0.8956 - val_loss: 1.9393 - val_accuracy: 0.4002 - val_auc: 0.8681\n",
      "Epoch 71/100\n",
      "151/151 [==============================] - 1s 4ms/step - loss: 1.7216 - accuracy: 0.4331 - auc: 0.8979 - val_loss: 1.9146 - val_accuracy: 0.4126 - val_auc: 0.8708\n",
      "Epoch 72/100\n",
      "151/151 [==============================] - 1s 5ms/step - loss: 1.7020 - accuracy: 0.4487 - auc: 0.8979 - val_loss: 1.9223 - val_accuracy: 0.4176 - val_auc: 0.8704\n",
      "Epoch 73/100\n",
      "151/151 [==============================] - 1s 4ms/step - loss: 1.7003 - accuracy: 0.4379 - auc: 0.8986 - val_loss: 1.9127 - val_accuracy: 0.4052 - val_auc: 0.8720\n",
      "Epoch 74/100\n",
      "151/151 [==============================] - 1s 4ms/step - loss: 1.6975 - accuracy: 0.4437 - auc: 0.9001 - val_loss: 1.9023 - val_accuracy: 0.3993 - val_auc: 0.8746\n",
      "Epoch 75/100\n",
      "151/151 [==============================] - 1s 4ms/step - loss: 1.7138 - accuracy: 0.4335 - auc: 0.8975 - val_loss: 1.9247 - val_accuracy: 0.4160 - val_auc: 0.8715\n",
      "Epoch 76/100\n",
      "151/151 [==============================] - 1s 4ms/step - loss: 1.6932 - accuracy: 0.4508 - auc: 0.9000 - val_loss: 1.9432 - val_accuracy: 0.4035 - val_auc: 0.8695\n",
      "Epoch 77/100\n",
      "151/151 [==============================] - 1s 4ms/step - loss: 1.6753 - accuracy: 0.4452 - auc: 0.9036 - val_loss: 1.9041 - val_accuracy: 0.3985 - val_auc: 0.8740\n",
      "Epoch 78/100\n",
      "151/151 [==============================] - 1s 4ms/step - loss: 1.6630 - accuracy: 0.4477 - auc: 0.9045 - val_loss: 1.9233 - val_accuracy: 0.4043 - val_auc: 0.8715\n",
      "Epoch 79/100\n",
      "151/151 [==============================] - 1s 3ms/step - loss: 1.6795 - accuracy: 0.4502 - auc: 0.9014 - val_loss: 1.9191 - val_accuracy: 0.3952 - val_auc: 0.8725\n",
      "Epoch 80/100\n",
      "151/151 [==============================] - 1s 4ms/step - loss: 1.6718 - accuracy: 0.4533 - auc: 0.9032 - val_loss: 1.9186 - val_accuracy: 0.3993 - val_auc: 0.8729\n",
      "Epoch 81/100\n",
      "151/151 [==============================] - 1s 4ms/step - loss: 1.6607 - accuracy: 0.4531 - auc: 0.9047 - val_loss: 1.9327 - val_accuracy: 0.4060 - val_auc: 0.8722\n",
      "Epoch 82/100\n",
      "151/151 [==============================] - 1s 5ms/step - loss: 1.6915 - accuracy: 0.4418 - auc: 0.9006 - val_loss: 1.9366 - val_accuracy: 0.4118 - val_auc: 0.8704\n",
      "Epoch 83/100\n",
      "151/151 [==============================] - 1s 5ms/step - loss: 1.6737 - accuracy: 0.4475 - auc: 0.9017 - val_loss: 1.9467 - val_accuracy: 0.4027 - val_auc: 0.8697\n",
      "Epoch 84/100\n",
      "151/151 [==============================] - 1s 4ms/step - loss: 1.6413 - accuracy: 0.4527 - auc: 0.9073 - val_loss: 1.9318 - val_accuracy: 0.4018 - val_auc: 0.8706\n",
      "Epoch 85/100\n",
      "151/151 [==============================] - 1s 4ms/step - loss: 1.6627 - accuracy: 0.4522 - auc: 0.9043 - val_loss: 1.9370 - val_accuracy: 0.4018 - val_auc: 0.8708\n",
      "Epoch 86/100\n",
      "151/151 [==============================] - 1s 4ms/step - loss: 1.6680 - accuracy: 0.4454 - auc: 0.9039 - val_loss: 1.9464 - val_accuracy: 0.4126 - val_auc: 0.8691\n",
      "Epoch 87/100\n",
      "151/151 [==============================] - 1s 4ms/step - loss: 1.6587 - accuracy: 0.4566 - auc: 0.9052 - val_loss: 1.9687 - val_accuracy: 0.4043 - val_auc: 0.8675\n",
      "Epoch 88/100\n",
      "151/151 [==============================] - 1s 4ms/step - loss: 1.6692 - accuracy: 0.4435 - auc: 0.9032 - val_loss: 1.9442 - val_accuracy: 0.3985 - val_auc: 0.8701\n",
      "Epoch 89/100\n",
      "151/151 [==============================] - 1s 4ms/step - loss: 1.6326 - accuracy: 0.4581 - auc: 0.9087 - val_loss: 1.9555 - val_accuracy: 0.4043 - val_auc: 0.8687\n",
      "Epoch 90/100\n",
      "151/151 [==============================] - 1s 4ms/step - loss: 1.6156 - accuracy: 0.4662 - auc: 0.9108 - val_loss: 1.9855 - val_accuracy: 0.3927 - val_auc: 0.8659\n",
      "Epoch 91/100\n",
      "151/151 [==============================] - 1s 4ms/step - loss: 1.6282 - accuracy: 0.4576 - auc: 0.9079 - val_loss: 1.9792 - val_accuracy: 0.4018 - val_auc: 0.8672\n",
      "Epoch 92/100\n",
      "151/151 [==============================] - 1s 4ms/step - loss: 1.6136 - accuracy: 0.4664 - auc: 0.9101 - val_loss: 1.9513 - val_accuracy: 0.4002 - val_auc: 0.8673\n",
      "Epoch 93/100\n",
      "151/151 [==============================] - 1s 4ms/step - loss: 1.6307 - accuracy: 0.4678 - auc: 0.9075 - val_loss: 1.9755 - val_accuracy: 0.4068 - val_auc: 0.8672\n",
      "Epoch 94/100\n",
      "151/151 [==============================] - 1s 4ms/step - loss: 1.6086 - accuracy: 0.4668 - auc: 0.9107 - val_loss: 1.9670 - val_accuracy: 0.4101 - val_auc: 0.8683\n",
      "Epoch 95/100\n",
      "151/151 [==============================] - 1s 4ms/step - loss: 1.5996 - accuracy: 0.4762 - auc: 0.9122 - val_loss: 1.9902 - val_accuracy: 0.4160 - val_auc: 0.8686\n",
      "Epoch 96/100\n",
      "151/151 [==============================] - 1s 3ms/step - loss: 1.6413 - accuracy: 0.4583 - auc: 0.9066 - val_loss: 1.9574 - val_accuracy: 0.4060 - val_auc: 0.8694\n",
      "Epoch 97/100\n",
      "151/151 [==============================] - 1s 4ms/step - loss: 1.6125 - accuracy: 0.4597 - auc: 0.9098 - val_loss: 1.9871 - val_accuracy: 0.3918 - val_auc: 0.8660\n",
      "Epoch 98/100\n",
      "151/151 [==============================] - 1s 4ms/step - loss: 1.6047 - accuracy: 0.4674 - auc: 0.9107 - val_loss: 2.0306 - val_accuracy: 0.4002 - val_auc: 0.8627\n",
      "Epoch 99/100\n",
      "151/151 [==============================] - 1s 4ms/step - loss: 1.5877 - accuracy: 0.4745 - auc: 0.9127 - val_loss: 1.9726 - val_accuracy: 0.4018 - val_auc: 0.8673\n",
      "Epoch 100/100\n",
      "151/151 [==============================] - 1s 4ms/step - loss: 1.6005 - accuracy: 0.4683 - auc: 0.9114 - val_loss: 2.0061 - val_accuracy: 0.4077 - val_auc: 0.8637\n"
     ]
    },
    {
     "data": {
      "text/plain": [
       "<keras.callbacks.History at 0x141288e3640>"
      ]
     },
     "execution_count": 37,
     "metadata": {},
     "output_type": "execute_result"
    }
   ],
   "source": [
    "from keras.callbacks import ModelCheckpoint \n",
    "from datetime import datetime \n",
    "num_epochs = 100\n",
    "num_batch_size = 32\n",
    "model.fit(x_train, y_train, batch_size=num_batch_size, epochs=num_epochs, validation_data=(x_test, y_test), verbose=1)"
   ]
  },
  {
   "cell_type": "code",
   "execution_count": 55,
   "metadata": {},
   "outputs": [],
   "source": [
    "output = model.predict(x_test)"
   ]
  },
  {
   "cell_type": "code",
   "execution_count": 57,
   "metadata": {},
   "outputs": [
    {
     "data": {
      "text/plain": [
       "array([0.08845344, 0.00384868, 0.00830796, 0.0175414 , 0.06515086,\n",
       "       0.00085344, 0.0548446 , 0.09785555, 0.03367712, 0.1482468 ,\n",
       "       0.05109857, 0.01820142, 0.33063814, 0.01486018, 0.04353921,\n",
       "       0.01412572, 0.00875685], dtype=float32)"
      ]
     },
     "execution_count": 57,
     "metadata": {},
     "output_type": "execute_result"
    }
   ],
   "source": [
    "output[1]"
   ]
  },
  {
   "cell_type": "code",
   "execution_count": 38,
   "metadata": {},
   "outputs": [
    {
     "name": "stdout",
     "output_type": "stream",
     "text": [
      "Training Accuracy: 52.90%\n",
      "Testing Accuracy: 40.77%\n"
     ]
    }
   ],
   "source": [
    "# Evaluating the model on the training and testing set\n",
    "score = model.evaluate(x_train, y_train, verbose=0)\n",
    "print(\"Training Accuracy: {0:.2%}\".format(score[1]))\n",
    "score = model.evaluate(x_test, y_test, verbose=0)\n",
    "print(\"Testing Accuracy: {0:.2%}\".format(score[1]))"
   ]
  },
  {
   "cell_type": "code",
   "execution_count": 39,
   "metadata": {},
   "outputs": [
    {
     "name": "stdout",
     "output_type": "stream",
     "text": [
      "Original sample rate: 44100\n",
      "Librosa sample rate: 22050\n"
     ]
    }
   ],
   "source": [
    "fn = 'Test/dv_test_1-[AudioTrimmer.com].wav'\n",
    "librosa_audio, librosa_sample_rate = librosa.load(fn)\n",
    "scipy_sample_rate, scipy_audio = wav.read(fn)\n",
    "print(\"Original sample rate: {}\".format(scipy_sample_rate))\n",
    "print(\"Librosa sample rate: {}\".format(librosa_sample_rate))"
   ]
  },
  {
   "cell_type": "code",
   "execution_count": 89,
   "metadata": {},
   "outputs": [
    {
     "name": "stdout",
     "output_type": "stream",
     "text": [
      "Original audio file min~max range: -10497 to 10629\n",
      "Librosa audio file min~max range: -0.25 to -0.25\n"
     ]
    }
   ],
   "source": [
    "print('Original audio file min~max range: {} to {}'.format(np.min(scipy_audio), np.max(scipy_audio)))\n",
    "print('Librosa audio file min~max range: {0:.2f} to {0:.2f}'.format(np.min(librosa_audio), np.max(librosa_audio)))"
   ]
  },
  {
   "cell_type": "code",
   "execution_count": 40,
   "metadata": {},
   "outputs": [],
   "source": [
    "mfccs = librosa.feature.mfcc(y=librosa_audio, sr=librosa_sample_rate, n_mfcc = 100)"
   ]
  },
  {
   "cell_type": "code",
   "execution_count": 41,
   "metadata": {},
   "outputs": [
    {
     "data": {
      "text/plain": [
       "(100, 3116)"
      ]
     },
     "execution_count": 41,
     "metadata": {},
     "output_type": "execute_result"
    }
   ],
   "source": [
    "mfccs.shape"
   ]
  },
  {
   "cell_type": "code",
   "execution_count": 42,
   "metadata": {},
   "outputs": [
    {
     "data": {
      "text/plain": [
       "<matplotlib.collections.QuadMesh at 0x14128d6e250>"
      ]
     },
     "execution_count": 42,
     "metadata": {},
     "output_type": "execute_result"
    },
    {
     "data": {
      "image/png": "[encoded data removed]",
      "text/plain": [
       "<Figure size 576x576 with 1 Axes>"
      ]
     },
     "metadata": {
      "needs_background": "light"
     },
     "output_type": "display_data"
    }
   ],
   "source": [
    "import librosa.display\n",
    "plt.figure(figsize=(8,8))\n",
    "\n",
    "librosa.display.specshow(mfccs, sr=librosa_sample_rate, x_axis='time')"
   ]
  },
  {
   "cell_type": "code",
   "execution_count": 43,
   "metadata": {},
   "outputs": [],
   "source": [
    "mfccs_processed = np.mean(mfccs.T,axis=0)"
   ]
  },
  {
   "cell_type": "code",
   "execution_count": 44,
   "metadata": {},
   "outputs": [
    {
     "data": {
      "text/plain": [
       "array([-3.5428116e+02,  1.0043304e+02,  3.7815650e+00,  2.6591024e+01,\n",
       "        6.7473307e+00,  1.4398628e+01, -1.6803311e+00,  7.8047161e+00,\n",
       "        4.6000943e-01,  4.8551879e+00, -1.0996917e-01,  5.8239813e+00,\n",
       "        3.5230878e-01,  4.6289320e+00,  3.9206704e-01,  3.4700875e+00,\n",
       "        9.3890035e-01,  3.1523869e+00, -6.1137092e-01,  1.5630028e+00,\n",
       "       -4.3711066e-01,  2.2856452e+00, -7.5055462e-01, -2.0804171e-01,\n",
       "       -2.1168647e+00,  5.1132917e-01, -1.8325610e+00,  6.3369405e-01,\n",
       "       -9.0112585e-01,  1.1527293e+00, -5.2314895e-01,  1.4939402e+00,\n",
       "       -3.3133012e-01,  6.8298340e-01, -1.4745341e-01,  1.3305136e+00,\n",
       "       -9.0843037e-02,  8.3173327e-03, -2.0241816e+00, -1.1658217e+00,\n",
       "       -1.1992157e+00,  3.3290023e-01, -1.6634411e+00, -1.0936072e+00,\n",
       "       -1.7619939e+00, -2.2057742e-01, -1.0082159e+00, -3.4676087e-01,\n",
       "       -1.8426174e+00, -1.3083518e+00, -1.9708797e+00, -1.0640537e+00,\n",
       "       -2.0740361e+00, -1.6954092e+00, -2.3442700e+00, -9.5806080e-01,\n",
       "       -4.3058321e-01,  9.7348884e-02, -7.4588001e-01, -3.4660581e-01,\n",
       "       -1.0463388e+00, -7.2487950e-01, -1.5300312e+00, -1.1428636e+00,\n",
       "       -1.1767694e+00, -5.5606759e-01, -4.6966586e-01,  1.2764207e-01,\n",
       "       -2.3197885e-01,  3.7497160e-01,  2.4514857e-01, -2.2939260e-01,\n",
       "       -4.6650189e-01, -8.1749040e-01, -8.9434791e-01, -6.3379574e-01,\n",
       "       -6.3595563e-01, -7.1965498e-01, -1.0085537e+00, -8.0148733e-01,\n",
       "       -9.3656057e-01, -7.9751217e-01, -5.6894428e-01, -8.3071488e-01,\n",
       "       -7.8919309e-01, -3.0840188e-01,  1.7027970e-01, -1.4665401e-02,\n",
       "       -2.8168172e-01, -5.5436659e-01, -9.4618899e-01, -8.2677358e-01,\n",
       "       -8.1739110e-01, -6.7081332e-01, -3.1781271e-01, -6.1390889e-01,\n",
       "       -7.5590622e-01, -6.0129273e-01, -5.9821284e-01, -7.5580508e-01],\n",
       "      dtype=float32)"
      ]
     },
     "execution_count": 44,
     "metadata": {},
     "output_type": "execute_result"
    }
   ],
   "source": [
    "mfccs_processed"
   ]
  },
  {
   "cell_type": "code",
   "execution_count": 45,
   "metadata": {},
   "outputs": [],
   "source": [
    "X = np.array(mfccs_processed.tolist())"
   ]
  },
  {
   "cell_type": "code",
   "execution_count": 46,
   "metadata": {},
   "outputs": [
    {
     "data": {
      "text/plain": [
       "(100,)"
      ]
     },
     "execution_count": 46,
     "metadata": {},
     "output_type": "execute_result"
    }
   ],
   "source": [
    "X.shape"
   ]
  },
  {
   "cell_type": "code",
   "execution_count": 47,
   "metadata": {},
   "outputs": [
    {
     "data": {
      "text/plain": [
       "array([-3.54281158e+02,  1.00433037e+02,  3.78156495e+00,  2.65910244e+01,\n",
       "        6.74733067e+00,  1.43986282e+01, -1.68033111e+00,  7.80471611e+00,\n",
       "        4.60009426e-01,  4.85518789e+00, -1.09969169e-01,  5.82398129e+00,\n",
       "        3.52308780e-01,  4.62893200e+00,  3.92067045e-01,  3.47008753e+00,\n",
       "        9.38900352e-01,  3.15238690e+00, -6.11370921e-01,  1.56300282e+00,\n",
       "       -4.37110662e-01,  2.28564525e+00, -7.50554621e-01, -2.08041713e-01,\n",
       "       -2.11686468e+00,  5.11329174e-01, -1.83256102e+00,  6.33694053e-01,\n",
       "       -9.01125848e-01,  1.15272927e+00, -5.23148954e-01,  1.49394023e+00,\n",
       "       -3.31330121e-01,  6.82983398e-01, -1.47453412e-01,  1.33051360e+00,\n",
       "       -9.08430368e-02,  8.31733271e-03, -2.02418160e+00, -1.16582167e+00,\n",
       "       -1.19921565e+00,  3.32900226e-01, -1.66344106e+00, -1.09360719e+00,\n",
       "       -1.76199389e+00, -2.20577419e-01, -1.00821590e+00, -3.46760869e-01,\n",
       "       -1.84261739e+00, -1.30835176e+00, -1.97087967e+00, -1.06405365e+00,\n",
       "       -2.07403612e+00, -1.69540918e+00, -2.34426999e+00, -9.58060801e-01,\n",
       "       -4.30583209e-01,  9.73488837e-02, -7.45880008e-01, -3.46605808e-01,\n",
       "       -1.04633880e+00, -7.24879503e-01, -1.53003120e+00, -1.14286363e+00,\n",
       "       -1.17676938e+00, -5.56067586e-01, -4.69665855e-01,  1.27642065e-01,\n",
       "       -2.31978849e-01,  3.74971598e-01,  2.45148569e-01, -2.29392603e-01,\n",
       "       -4.66501892e-01, -8.17490399e-01, -8.94347906e-01, -6.33795738e-01,\n",
       "       -6.35955632e-01, -7.19654977e-01, -1.00855374e+00, -8.01487327e-01,\n",
       "       -9.36560571e-01, -7.97512174e-01, -5.68944275e-01, -8.30714881e-01,\n",
       "       -7.89193094e-01, -3.08401883e-01,  1.70279697e-01, -1.46654006e-02,\n",
       "       -2.81681716e-01, -5.54366589e-01, -9.46188986e-01, -8.26773584e-01,\n",
       "       -8.17391098e-01, -6.70813322e-01, -3.17812711e-01, -6.13908887e-01,\n",
       "       -7.55906224e-01, -6.01292729e-01, -5.98212838e-01, -7.55805075e-01])"
      ]
     },
     "execution_count": 47,
     "metadata": {},
     "output_type": "execute_result"
    }
   ],
   "source": [
    "X"
   ]
  },
  {
   "cell_type": "code",
   "execution_count": 48,
   "metadata": {},
   "outputs": [],
   "source": [
    "x=np.reshape(X,(-1,100))"
   ]
  },
  {
   "cell_type": "code",
   "execution_count": 49,
   "metadata": {},
   "outputs": [
    {
     "data": {
      "text/plain": [
       "(1, 100)"
      ]
     },
     "execution_count": 49,
     "metadata": {},
     "output_type": "execute_result"
    }
   ],
   "source": [
    "x.shape"
   ]
  },
  {
   "cell_type": "code",
   "execution_count": 50,
   "metadata": {},
   "outputs": [
    {
     "data": {
      "text/plain": [
       "array([[-3.54281158e+02,  1.00433037e+02,  3.78156495e+00,\n",
       "         2.65910244e+01,  6.74733067e+00,  1.43986282e+01,\n",
       "        -1.68033111e+00,  7.80471611e+00,  4.60009426e-01,\n",
       "         4.85518789e+00, -1.09969169e-01,  5.82398129e+00,\n",
       "         3.52308780e-01,  4.62893200e+00,  3.92067045e-01,\n",
       "         3.47008753e+00,  9.38900352e-01,  3.15238690e+00,\n",
       "        -6.11370921e-01,  1.56300282e+00, -4.37110662e-01,\n",
       "         2.28564525e+00, -7.50554621e-01, -2.08041713e-01,\n",
       "        -2.11686468e+00,  5.11329174e-01, -1.83256102e+00,\n",
       "         6.33694053e-01, -9.01125848e-01,  1.15272927e+00,\n",
       "        -5.23148954e-01,  1.49394023e+00, -3.31330121e-01,\n",
       "         6.82983398e-01, -1.47453412e-01,  1.33051360e+00,\n",
       "        -9.08430368e-02,  8.31733271e-03, -2.02418160e+00,\n",
       "        -1.16582167e+00, -1.19921565e+00,  3.32900226e-01,\n",
       "        -1.66344106e+00, -1.09360719e+00, -1.76199389e+00,\n",
       "        -2.20577419e-01, -1.00821590e+00, -3.46760869e-01,\n",
       "        -1.84261739e+00, -1.30835176e+00, -1.97087967e+00,\n",
       "        -1.06405365e+00, -2.07403612e+00, -1.69540918e+00,\n",
       "        -2.34426999e+00, -9.58060801e-01, -4.30583209e-01,\n",
       "         9.73488837e-02, -7.45880008e-01, -3.46605808e-01,\n",
       "        -1.04633880e+00, -7.24879503e-01, -1.53003120e+00,\n",
       "        -1.14286363e+00, -1.17676938e+00, -5.56067586e-01,\n",
       "        -4.69665855e-01,  1.27642065e-01, -2.31978849e-01,\n",
       "         3.74971598e-01,  2.45148569e-01, -2.29392603e-01,\n",
       "        -4.66501892e-01, -8.17490399e-01, -8.94347906e-01,\n",
       "        -6.33795738e-01, -6.35955632e-01, -7.19654977e-01,\n",
       "        -1.00855374e+00, -8.01487327e-01, -9.36560571e-01,\n",
       "        -7.97512174e-01, -5.68944275e-01, -8.30714881e-01,\n",
       "        -7.89193094e-01, -3.08401883e-01,  1.70279697e-01,\n",
       "        -1.46654006e-02, -2.81681716e-01, -5.54366589e-01,\n",
       "        -9.46188986e-01, -8.26773584e-01, -8.17391098e-01,\n",
       "        -6.70813322e-01, -3.17812711e-01, -6.13908887e-01,\n",
       "        -7.55906224e-01, -6.01292729e-01, -5.98212838e-01,\n",
       "        -7.55805075e-01]])"
      ]
     },
     "execution_count": 50,
     "metadata": {},
     "output_type": "execute_result"
    }
   ],
   "source": [
    "x"
   ]
  },
  {
   "cell_type": "code",
   "execution_count": 51,
   "metadata": {},
   "outputs": [],
   "source": [
    "output = model.predict(x)"
   ]
  },
  {
   "cell_type": "code",
   "execution_count": 52,
   "metadata": {},
   "outputs": [
    {
     "data": {
      "text/plain": [
       "array([[5.8159418e-02, 2.4637325e-06, 1.7200956e-03, 2.5624240e-06,\n",
       "        5.6030229e-03, 1.3199076e-02, 4.5299944e-02, 8.6342795e-03,\n",
       "        3.8266655e-03, 7.6947911e-03, 7.5928971e-02, 5.4219807e-03,\n",
       "        2.9045790e-01, 4.1416764e-01, 3.0706262e-03, 1.2327561e-03,\n",
       "        6.5577783e-02]], dtype=float32)"
      ]
     },
     "execution_count": 52,
     "metadata": {},
     "output_type": "execute_result"
    }
   ],
   "source": [
    "output"
   ]
  },
  {
   "cell_type": "code",
   "execution_count": 53,
   "metadata": {},
   "outputs": [
    {
     "data": {
      "text/plain": [
       "0.41416764"
      ]
     },
     "execution_count": 53,
     "metadata": {},
     "output_type": "execute_result"
    }
   ],
   "source": [
    "output.max()"
   ]
  },
  {
   "cell_type": "code",
   "execution_count": 54,
   "metadata": {},
   "outputs": [],
   "source": [
    "output.sort()"
   ]
  },
  {
   "cell_type": "code",
   "execution_count": 140,
   "metadata": {},
   "outputs": [
    {
     "data": {
      "text/plain": [
       "array([[1.19991004e-04, 4.44400532e-04, 3.56548210e-03, 1.01919780e-02,\n",
       "        1.03176776e-02, 1.26238931e-02, 1.51443928e-02, 2.06273422e-02,\n",
       "        2.32725572e-02, 3.81582454e-02, 5.16325012e-02, 5.28725274e-02,\n",
       "        5.76698445e-02, 7.19454512e-02, 9.82856378e-02, 1.11439332e-01,\n",
       "        1.31898493e-01, 2.89790273e-01]], dtype=float32)"
      ]
     },
     "execution_count": 140,
     "metadata": {},
     "output_type": "execute_result"
    }
   ],
   "source": [
    "output"
   ]
  },
  {
   "cell_type": "code",
   "execution_count": null,
   "metadata": {},
   "outputs": [],
   "source": []
  }
 ],
 "metadata": {
  "interpreter": {
   "hash": "c810a6f02dd99758e84a336706af5ec00c61e436be5779906daaa7198eca5f0b"
  },
  "kernelspec": {
   "display_name": "Python 3.8.8 ('vggfacemodel')",
   "language": "python",
   "name": "python3"
  },
  "language_info": {
   "codemirror_mode": {
    "name": "ipython",
    "version": 3
   },
   "file_extension": ".py",
   "mimetype": "text/x-python",
   "name": "python",
   "nbconvert_exporter": "python",
   "pygments_lexer": "ipython3",
   "version": "3.8.8"
  },
  "orig_nbformat": 4
 },
 "nbformat": 4,
 "nbformat_minor": 2
}
