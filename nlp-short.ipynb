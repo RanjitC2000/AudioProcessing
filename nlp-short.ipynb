{
  "cells": [
    {
      "cell_type": "code",
      "execution_count": 2,
      "metadata": {
        "id": "el0tB28G2HpX"
      },
      "outputs": [],
      "source": [
        "import numpy as np\n",
        "import pandas as pd\n",
        "from matplotlib import pyplot as plt\n",
        "%matplotlib inline\n",
        "import seaborn as sns\n",
        "import re\n",
        "import zipfile"
      ]
    },
    {
      "cell_type": "code",
      "execution_count": 3,
      "metadata": {
        "colab": {
          "base_uri": "https://localhost:8080/"
        },
        "id": "rsBeXEjP2SYs",
        "outputId": "9129f998-1661-4a6b-a67e-7c8a2543d114"
      },
      "outputs": [
        {
          "name": "stdout",
          "output_type": "stream",
          "text": [
            "                 id                                       comment_text  toxic  \\\n",
            "0  0000997932d777bf  Explanation\\nWhy the edits made under my usern...      0   \n",
            "1  000103f0d9cfb60f  D'aww! He matches this background colour I'm s...      0   \n",
            "2  000113f07ec002fd  Hey man, I'm really not trying to edit war. It...      0   \n",
            "3  0001b41b1c6bb37e  \"\\nMore\\nI can't make any real suggestions on ...      0   \n",
            "4  0001d958c54c6e35  You, sir, are my hero. Any chance you remember...      0   \n",
            "\n",
            "   severe_toxic  obscene  threat  insult  identity_hate  \n",
            "0             0        0       0       0              0  \n",
            "1             0        0       0       0              0  \n",
            "2             0        0       0       0              0  \n",
            "3             0        0       0       0              0  \n",
            "4             0        0       0       0              0  \n"
          ]
        }
      ],
      "source": [
        "data = pd.read_csv(\"nlp-train.csv\")\n",
        "print(data.head())"
      ]
    },
    {
      "cell_type": "code",
      "execution_count": 4,
      "metadata": {
        "colab": {
          "base_uri": "https://localhost:8080/"
        },
        "id": "bcp6iXqM23P3",
        "outputId": "6b8f672e-bab0-456b-9455-60dba42ea504"
      },
      "outputs": [
        {
          "data": {
            "text/plain": [
              "Index(['id', 'comment_text', 'toxic', 'severe_toxic', 'obscene', 'threat',\n",
              "       'insult', 'identity_hate'],\n",
              "      dtype='object')"
            ]
          },
          "execution_count": 4,
          "metadata": {},
          "output_type": "execute_result"
        }
      ],
      "source": [
        "# Feature Imformation \n",
        "data.columns"
      ]
    },
    {
      "cell_type": "code",
      "execution_count": 5,
      "metadata": {
        "colab": {
          "base_uri": "https://localhost:8080/"
        },
        "id": "IgWNxANa23Th",
        "outputId": "b91b3311-6906-448c-ad93-c42ac9549734"
      },
      "outputs": [
        {
          "data": {
            "text/plain": [
              "(159571, 8)"
            ]
          },
          "execution_count": 5,
          "metadata": {},
          "output_type": "execute_result"
        }
      ],
      "source": [
        "# Data Dimension \n",
        "\n",
        "data.shape "
      ]
    },
    {
      "cell_type": "code",
      "execution_count": 6,
      "metadata": {
        "id": "RApcJPdk3Ntx"
      },
      "outputs": [],
      "source": [
        "cols_target = ['obscene','insult','toxic','severe_toxic','identity_hate','threat']"
      ]
    },
    {
      "cell_type": "code",
      "execution_count": 7,
      "metadata": {
        "colab": {
          "base_uri": "https://localhost:8080/"
        },
        "id": "7U5pk5yi3RXi",
        "outputId": "2b8a4cf4-8e57-44e8-ed3d-4b5717c3f206"
      },
      "outputs": [
        {
          "name": "stdout",
          "output_type": "stream",
          "text": [
            "0\n"
          ]
        }
      ],
      "source": [
        "# Check Missing Value \n",
        "\n",
        "print(data[\"comment_text\"].isna().sum())\n",
        "\n",
        "# dropna "
      ]
    },
    {
      "cell_type": "code",
      "execution_count": 8,
      "metadata": {
        "colab": {
          "base_uri": "https://localhost:8080/",
          "height": 300
        },
        "id": "tVtsLGAp3UH9",
        "outputId": "d79ae79d-19c9-4557-d650-c062557ec963"
      },
      "outputs": [
        {
          "data": {
            "text/html": [
              "<div>\n",
              "<style scoped>\n",
              "    .dataframe tbody tr th:only-of-type {\n",
              "        vertical-align: middle;\n",
              "    }\n",
              "\n",
              "    .dataframe tbody tr th {\n",
              "        vertical-align: top;\n",
              "    }\n",
              "\n",
              "    .dataframe thead th {\n",
              "        text-align: right;\n",
              "    }\n",
              "</style>\n",
              "<table border=\"1\" class=\"dataframe\">\n",
              "  <thead>\n",
              "    <tr style=\"text-align: right;\">\n",
              "      <th></th>\n",
              "      <th>toxic</th>\n",
              "      <th>severe_toxic</th>\n",
              "      <th>obscene</th>\n",
              "      <th>threat</th>\n",
              "      <th>insult</th>\n",
              "      <th>identity_hate</th>\n",
              "    </tr>\n",
              "  </thead>\n",
              "  <tbody>\n",
              "    <tr>\n",
              "      <th>count</th>\n",
              "      <td>159571.000000</td>\n",
              "      <td>159571.000000</td>\n",
              "      <td>159571.000000</td>\n",
              "      <td>159571.000000</td>\n",
              "      <td>159571.000000</td>\n",
              "      <td>159571.000000</td>\n",
              "    </tr>\n",
              "    <tr>\n",
              "      <th>mean</th>\n",
              "      <td>0.095844</td>\n",
              "      <td>0.009996</td>\n",
              "      <td>0.052948</td>\n",
              "      <td>0.002996</td>\n",
              "      <td>0.049364</td>\n",
              "      <td>0.008805</td>\n",
              "    </tr>\n",
              "    <tr>\n",
              "      <th>std</th>\n",
              "      <td>0.294379</td>\n",
              "      <td>0.099477</td>\n",
              "      <td>0.223931</td>\n",
              "      <td>0.054650</td>\n",
              "      <td>0.216627</td>\n",
              "      <td>0.093420</td>\n",
              "    </tr>\n",
              "    <tr>\n",
              "      <th>min</th>\n",
              "      <td>0.000000</td>\n",
              "      <td>0.000000</td>\n",
              "      <td>0.000000</td>\n",
              "      <td>0.000000</td>\n",
              "      <td>0.000000</td>\n",
              "      <td>0.000000</td>\n",
              "    </tr>\n",
              "    <tr>\n",
              "      <th>25%</th>\n",
              "      <td>0.000000</td>\n",
              "      <td>0.000000</td>\n",
              "      <td>0.000000</td>\n",
              "      <td>0.000000</td>\n",
              "      <td>0.000000</td>\n",
              "      <td>0.000000</td>\n",
              "    </tr>\n",
              "    <tr>\n",
              "      <th>50%</th>\n",
              "      <td>0.000000</td>\n",
              "      <td>0.000000</td>\n",
              "      <td>0.000000</td>\n",
              "      <td>0.000000</td>\n",
              "      <td>0.000000</td>\n",
              "      <td>0.000000</td>\n",
              "    </tr>\n",
              "    <tr>\n",
              "      <th>75%</th>\n",
              "      <td>0.000000</td>\n",
              "      <td>0.000000</td>\n",
              "      <td>0.000000</td>\n",
              "      <td>0.000000</td>\n",
              "      <td>0.000000</td>\n",
              "      <td>0.000000</td>\n",
              "    </tr>\n",
              "    <tr>\n",
              "      <th>max</th>\n",
              "      <td>1.000000</td>\n",
              "      <td>1.000000</td>\n",
              "      <td>1.000000</td>\n",
              "      <td>1.000000</td>\n",
              "      <td>1.000000</td>\n",
              "      <td>1.000000</td>\n",
              "    </tr>\n",
              "  </tbody>\n",
              "</table>\n",
              "</div>"
            ],
            "text/plain": [
              "               toxic   severe_toxic        obscene         threat  \\\n",
              "count  159571.000000  159571.000000  159571.000000  159571.000000   \n",
              "mean        0.095844       0.009996       0.052948       0.002996   \n",
              "std         0.294379       0.099477       0.223931       0.054650   \n",
              "min         0.000000       0.000000       0.000000       0.000000   \n",
              "25%         0.000000       0.000000       0.000000       0.000000   \n",
              "50%         0.000000       0.000000       0.000000       0.000000   \n",
              "75%         0.000000       0.000000       0.000000       0.000000   \n",
              "max         1.000000       1.000000       1.000000       1.000000   \n",
              "\n",
              "              insult  identity_hate  \n",
              "count  159571.000000  159571.000000  \n",
              "mean        0.049364       0.008805  \n",
              "std         0.216627       0.093420  \n",
              "min         0.000000       0.000000  \n",
              "25%         0.000000       0.000000  \n",
              "50%         0.000000       0.000000  \n",
              "75%         0.000000       0.000000  \n",
              "max         1.000000       1.000000  "
            ]
          },
          "execution_count": 8,
          "metadata": {},
          "output_type": "execute_result"
        }
      ],
      "source": [
        "# check missing values in numeric columns\n",
        "data.describe()"
      ]
    },
    {
      "cell_type": "code",
      "execution_count": 9,
      "metadata": {
        "colab": {
          "base_uri": "https://localhost:8080/"
        },
        "id": "M-01EPYz3Wke",
        "outputId": "bfabcef8-e6f8-4d49-b8bb-02ddbdf94623"
      },
      "outputs": [
        {
          "name": "stdout",
          "output_type": "stream",
          "text": [
            "Percentage of unlabelled comments or good comments is  89.83211235124176\n"
          ]
        }
      ],
      "source": [
        "unlabelled_in_all = data[(data['toxic']!=1) & (data['severe_toxic']!=1) &\n",
        "                             (data['obscene']!=1) & (data['threat']!=1) &\n",
        "                             (data['insult']!=1) & (data['identity_hate']!=1)]\n",
        "print('Percentage of unlabelled comments or good comments is ', len(unlabelled_in_all)/len(data)*100)"
      ]
    },
    {
      "cell_type": "code",
      "execution_count": 10,
      "metadata": {
        "colab": {
          "base_uri": "https://localhost:8080/"
        },
        "id": "Jvdjw2JC3q6E",
        "outputId": "e979a244-0341-42dd-9bdc-1252fd41b4a0"
      },
      "outputs": [
        {
          "name": "stdout",
          "output_type": "stream",
          "text": [
            "Percentage of comments which is present in all categories is  0.019427088882065038\n"
          ]
        }
      ],
      "source": [
        "labelled_in_all = data[(data['toxic']==1) & (data['severe_toxic']==1) &\n",
        "                             (data['obscene']==1) & (data['threat']==1) &\n",
        "                             (data['insult']==1) & (data['identity_hate']==1)]\n",
        "print('Percentage of comments which is present in all categories is ', len(labelled_in_all)/len(data)*100)"
      ]
    },
    {
      "cell_type": "code",
      "execution_count": 11,
      "metadata": {
        "colab": {
          "base_uri": "https://localhost:8080/"
        },
        "id": "hZwrco-R3yhC",
        "outputId": "83f29374-3dca-4bf3-dc5e-8df103c92e2a"
      },
      "outputs": [
        {
          "name": "stdout",
          "output_type": "stream",
          "text": [
            "Total rows in train is 159571\n",
            "obscene           8449\n",
            "insult            7877\n",
            "toxic            15294\n",
            "severe_toxic      1595\n",
            "identity_hate     1405\n",
            "threat             478\n",
            "dtype: int64\n"
          ]
        }
      ],
      "source": [
        "# let's see the total rows in train, test data and the numbers for the various categories\n",
        "print('Total rows in train is {}'.format(len(data)))\n",
        "print(data[cols_target].sum())"
      ]
    },
    {
      "cell_type": "code",
      "execution_count": 15,
      "metadata": {
        "colab": {
          "base_uri": "https://localhost:8080/"
        },
        "id": "Oj9TH2gL4RR1",
        "outputId": "39e25a0d-776f-470a-ddf0-d0d92610ea44"
      },
      "outputs": [
        {
          "name": "stdout",
          "output_type": "stream",
          "text": [
            "0    143346\n",
            "1      6360\n",
            "3      4209\n",
            "2      3480\n",
            "4      1760\n",
            "5       385\n",
            "6        31\n",
            "Name: block, dtype: int64\n",
            "0    143346\n",
            "1     16225\n",
            "Name: block, dtype: int64\n"
          ]
        }
      ],
      "source": [
        "data['block'] =data[cols_target].sum(axis =1)\n",
        "print(data['block'].value_counts())\n",
        "data['block'] = data['block'] > 0 \n",
        "data['block'] = data['block'].astype(int)\n",
        "print(data['block'].value_counts())"
      ]
    },
    {
      "cell_type": "code",
      "execution_count": 17,
      "metadata": {
        "colab": {
          "base_uri": "https://localhost:8080/"
        },
        "id": "lOxDL6HU4Ymo",
        "outputId": "f4f47e31-1637-44b4-ca01-128b4f838cc0"
      },
      "outputs": [
        {
          "name": "stdout",
          "output_type": "stream",
          "text": [
            "Percentage Event Rate :  10.17 %\n"
          ]
        }
      ],
      "source": [
        "# Event Rate \n",
        "\n",
        "print(\"Percentage Event Rate : \" , round(100*data['block'].sum()/data.shape[0],2) , \"%\")"
      ]
    },
    {
      "cell_type": "code",
      "execution_count": 18,
      "metadata": {
        "id": "qN_vU-NH4k8v"
      },
      "outputs": [],
      "source": [
        "# Let's look at the character length for the rows in the training data and record these\n",
        "data['char_length'] = data['comment_text'].apply(lambda x: len(str(x)))"
      ]
    },
    {
      "cell_type": "code",
      "execution_count": 20,
      "metadata": {
        "id": "7M_evses4qY_"
      },
      "outputs": [],
      "source": [
        "def clean_text(text):\n",
        "    text = text.lower()\n",
        "    text = re.sub(r\"what's\", \"what is \", text)\n",
        "    text = re.sub(r\"\\'s\", \" \", text)\n",
        "    text = re.sub(r\"\\'ve\", \" have \", text)\n",
        "    text = re.sub(r\"can't\", \"cannot \", text)\n",
        "    text = re.sub(r\"n't\", \" not \", text)\n",
        "    text = re.sub(r\"i'm\", \"i am \", text)\n",
        "    text = re.sub(r\"\\'re\", \" are \", text)\n",
        "    text = re.sub(r\"\\'d\", \" would \", text)\n",
        "    text = re.sub(r\"\\'ll\", \" will \", text)\n",
        "    text = re.sub(r\"\\'scuse\", \" excuse \", text)\n",
        "    text = re.sub('\\W', ' ', text)\n",
        "    text = re.sub('\\s+', ' ', text)\n",
        "    text = text.strip(' ')\n",
        "    return text"
      ]
    },
    {
      "cell_type": "code",
      "execution_count": 21,
      "metadata": {
        "colab": {
          "base_uri": "https://localhost:8080/"
        },
        "id": "yclCyNVt4w7I",
        "outputId": "6d405522-5312-4d5f-9a2e-3e449d8e9ee6"
      },
      "outputs": [
        {
          "name": "stdout",
          "output_type": "stream",
          "text": [
            "Wall time: 6.18 s\n"
          ]
        }
      ],
      "source": [
        "%%time \n",
        "# clean the comment_text in train_df [Thanks to Pulkit Jha for the useful pointer.]\n",
        "data['comment_text'] = data['comment_text'].map(lambda com : clean_text(com))"
      ]
    },
    {
      "cell_type": "code",
      "execution_count": 22,
      "metadata": {
        "id": "SwtgBL4b4xD-"
      },
      "outputs": [],
      "source": [
        "from sklearn.model_selection import train_test_split\n",
        "\n",
        "X_train, X_test, y_train, y_test = train_test_split(data['comment_text'], data['block'], test_size=0.2, random_state=42)"
      ]
    },
    {
      "cell_type": "code",
      "execution_count": 23,
      "metadata": {
        "colab": {
          "base_uri": "https://localhost:8080/"
        },
        "id": "WZIV1FDi48oC",
        "outputId": "a690e93d-89f5-492b-90d0-74b42b4b48f3"
      },
      "outputs": [
        {
          "name": "stdout",
          "output_type": "stream",
          "text": [
            "(127656,) (31915,)\n",
            "(127656,) (31915,)\n"
          ]
        }
      ],
      "source": [
        "print(X_train.shape, X_test.shape)\n",
        "print(y_train.shape, y_test.shape)"
      ]
    },
    {
      "cell_type": "code",
      "execution_count": 24,
      "metadata": {
        "colab": {
          "base_uri": "https://localhost:8080/"
        },
        "id": "3r-oHx11A15F",
        "outputId": "4e6a3f8d-d33f-46ae-ae21-9db95277ffbd"
      },
      "outputs": [
        {
          "data": {
            "text/plain": [
              "140030    grandma terri should burn in trash grandma ter...\n",
              "159124    9 may 2009 utc it would be easiest if you were...\n",
              "60006     the objectivity of this discussion is doubtful...\n",
              "65432                          shelly shock shelly shock is\n",
              "154979    i do not care refer to ong teng cheong talk pa...\n",
              "                                ...                        \n",
              "119879    redirect talk john loveday experimental physicist\n",
              "103694     back it up post the line here with the reference\n",
              "131932    i wo not stop that sometimes germanic equals g...\n",
              "146867    british bands i think you have mistaken scotti...\n",
              "121958    you are wrong justin thompson is mentioned in ...\n",
              "Name: comment_text, Length: 127656, dtype: object"
            ]
          },
          "execution_count": 24,
          "metadata": {},
          "output_type": "execute_result"
        }
      ],
      "source": [
        "X_train"
      ]
    },
    {
      "cell_type": "code",
      "execution_count": 25,
      "metadata": {
        "colab": {
          "base_uri": "https://localhost:8080/"
        },
        "id": "qJ1qDDLtEYNp",
        "outputId": "a1303e58-b57d-42ca-ff13-8f7d72cd6d2d"
      },
      "outputs": [
        {
          "data": {
            "text/plain": [
              "119105    geez are you forgetful we have already discuss...\n",
              "131631    carioca rfa thanks for your support on my requ...\n",
              "125326    birthday no worries it what i do enjoy ur day ...\n",
              "111256    pseudoscience category i am assuming that this...\n",
              "83590     and if such phrase exists it would be provided...\n",
              "                                ...                        \n",
              "121162    would you claim them to be part of the ignoran...\n",
              "34019     the lyrics is found in the german version so i...\n",
              "83938     encyclopedia titanica references do not source...\n",
              "78687             a silly fat cow who wo not leave me alone\n",
              "127984    shazbot now your lieing you already stated you...\n",
              "Name: comment_text, Length: 31915, dtype: object"
            ]
          },
          "execution_count": 25,
          "metadata": {},
          "output_type": "execute_result"
        }
      ],
      "source": [
        " X_test"
      ]
    },
    {
      "cell_type": "code",
      "execution_count": 26,
      "metadata": {
        "colab": {
          "base_uri": "https://localhost:8080/"
        },
        "id": "gJ_ogLHO49F_",
        "outputId": "9b842912-3cb7-4499-c3d5-9d0176be8c8e"
      },
      "outputs": [
        {
          "name": "stdout",
          "output_type": "stream",
          "text": [
            "TfidfVectorizer(max_features=10000, stop_words='english')\n"
          ]
        }
      ],
      "source": [
        "# import and instantiate TfidfVectorizer\n",
        "from sklearn.feature_extraction.text import CountVectorizer\n",
        "from sklearn.feature_extraction.text import TfidfVectorizer\n",
        "vect = TfidfVectorizer(max_features = 10000, stop_words='english')\n",
        "#vect = TfidfVectorizer(stop_words='english')\n",
        "print(vect)"
      ]
    },
    {
      "cell_type": "code",
      "execution_count": 27,
      "metadata": {
        "colab": {
          "base_uri": "https://localhost:8080/"
        },
        "id": "v3ksXLb34_mP",
        "outputId": "679734ba-b968-4a4d-b19b-7e1752bf02a1"
      },
      "outputs": [
        {
          "name": "stdout",
          "output_type": "stream",
          "text": [
            "Wall time: 5.01 s\n"
          ]
        },
        {
          "data": {
            "text/plain": [
              "<127656x10000 sparse matrix of type '<class 'numpy.float64'>'\n",
              "\twith 2792162 stored elements in Compressed Sparse Row format>"
            ]
          },
          "execution_count": 27,
          "metadata": {},
          "output_type": "execute_result"
        }
      ],
      "source": [
        "%%time \n",
        "# learn the vocabulary in the training data, then use it to create a document-term matrix\n",
        "X_train_dtm = vect.fit_transform(X_train)\n",
        "# examine the document-term matrix created from X_train\n",
        "X_train_dtm"
      ]
    },
    {
      "cell_type": "code",
      "execution_count": 28,
      "metadata": {
        "colab": {
          "base_uri": "https://localhost:8080/"
        },
        "id": "3XkV3jKy5DM2",
        "outputId": "795a8422-4c6f-4180-ea3b-91deeb518995"
      },
      "outputs": [
        {
          "data": {
            "text/plain": [
              "(127656, 10000)"
            ]
          },
          "execution_count": 28,
          "metadata": {},
          "output_type": "execute_result"
        }
      ],
      "source": [
        "X_train_dtm.shape"
      ]
    },
    {
      "cell_type": "code",
      "execution_count": 29,
      "metadata": {
        "colab": {
          "base_uri": "https://localhost:8080/"
        },
        "id": "8boAzbnj5H53",
        "outputId": "e89aef07-d3a6-4974-e787-f025a6ca1456"
      },
      "outputs": [
        {
          "data": {
            "text/plain": [
              "0.2187254809801341"
            ]
          },
          "execution_count": 29,
          "metadata": {},
          "output_type": "execute_result"
        }
      ],
      "source": [
        "100*2792162/ (127656*10000)"
      ]
    },
    {
      "cell_type": "code",
      "execution_count": 30,
      "metadata": {
        "colab": {
          "base_uri": "https://localhost:8080/"
        },
        "id": "NF9aHm6a5J_w",
        "outputId": "914217c2-e8ad-4e72-b507-dae96509d97c"
      },
      "outputs": [
        {
          "name": "stdout",
          "output_type": "stream",
          "text": [
            "Wall time: 1.16 s\n"
          ]
        },
        {
          "data": {
            "text/plain": [
              "<31915x10000 sparse matrix of type '<class 'numpy.float64'>'\n",
              "\twith 688258 stored elements in Compressed Sparse Row format>"
            ]
          },
          "execution_count": 30,
          "metadata": {},
          "output_type": "execute_result"
        }
      ],
      "source": [
        "%%time\n",
        "# transform the test data using the earlier fitted vocabulary, into a document-term matrix\n",
        "X_test_dtm = vect.transform(X_test)\n",
        "# examine the document-term matrix from X_test\n",
        "X_test_dtm"
      ]
    },
    {
      "cell_type": "code",
      "execution_count": 31,
      "metadata": {
        "colab": {
          "base_uri": "https://localhost:8080/"
        },
        "id": "_OdmcjYsD8M5",
        "outputId": "2b8c18e2-2a09-401c-8146-cfcfc2800972"
      },
      "outputs": [
        {
          "data": {
            "text/plain": [
              "(31915, 10000)"
            ]
          },
          "execution_count": 31,
          "metadata": {},
          "output_type": "execute_result"
        }
      ],
      "source": [
        "X_test_dtm.shape"
      ]
    },
    {
      "cell_type": "code",
      "execution_count": 32,
      "metadata": {
        "colab": {
          "base_uri": "https://localhost:8080/"
        },
        "id": "vGSEOQQH5M8n",
        "outputId": "671d3495-ea11-4ef7-e784-1ce6998f0ec0"
      },
      "outputs": [
        {
          "name": "stdout",
          "output_type": "stream",
          "text": [
            "Training accuracy is 0.9594613649182178\n",
            "Test accuracy is 0.9563214789284036\n",
            "[[28507   164]\n",
            " [ 1230  2014]]\n"
          ]
        }
      ],
      "source": [
        "#Using Logistic Regression:\n",
        "\n",
        "# import and instantiate the Logistic Regression model\n",
        "from sklearn.linear_model import LogisticRegression\n",
        "from sklearn.metrics import accuracy_score\n",
        "from sklearn.metrics import confusion_matrix\n",
        "logreg = LogisticRegression(C=1, max_iter = 2000)\n",
        "\n",
        "\n",
        "\n",
        "# train the model using X_train_dtm & y_train\n",
        "logreg.fit(X_train_dtm, y_train)\n",
        "# compute the training accuracy\n",
        "y_pred_train = logreg.predict(X_train_dtm)\n",
        "print('Training accuracy is {}'.format(accuracy_score(y_train, y_pred_train)))\n",
        "# compute the predicted probabilities for X_test_dtm\n",
        "y_pred_test = logreg.predict(X_test_dtm)\n",
        "print('Test accuracy is {}'.format(accuracy_score(y_test,y_pred_test)))\n",
        "print(confusion_matrix(y_test,y_pred_test))"
      ]
    },
    {
      "cell_type": "code",
      "execution_count": 33,
      "metadata": {
        "colab": {
          "base_uri": "https://localhost:8080/"
        },
        "id": "1569ALx5ADlL",
        "outputId": "c01eea47-3ce5-4d8a-e972-dc774cb16713"
      },
      "outputs": [
        {
          "name": "stdout",
          "output_type": "stream",
          "text": [
            "Not Toxic\n"
          ]
        }
      ],
      "source": [
        "output=logreg.predict(vect.transform(np.array([input('Sample Input text: ')])))\n",
        "output=str(output)\n",
        "if (output==\"[1]\"):\n",
        "  op = 'toxic'\n",
        "  print('Toxic')\n",
        "elif (output==\"[0]\"):\n",
        "  op = 'non-toxic'\n",
        "  print('Not Toxic')"
      ]
    }
  ],
  "metadata": {
    "colab": {
      "name": "FYP.ipynb",
      "provenance": []
    },
    "kernelspec": {
      "display_name": "Python 3",
      "name": "python3"
    },
    "language_info": {
      "codemirror_mode": {
        "name": "ipython",
        "version": 3
      },
      "file_extension": ".py",
      "mimetype": "text/x-python",
      "name": "python",
      "nbconvert_exporter": "python",
      "pygments_lexer": "ipython3",
      "version": "3.8.8"
    }
  },
  "nbformat": 4,
  "nbformat_minor": 0
}
