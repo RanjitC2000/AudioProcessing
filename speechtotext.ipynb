{
 "cells": [
  {
   "cell_type": "code",
   "execution_count": 2,
   "metadata": {},
   "outputs": [
    {
     "name": "stdout",
     "output_type": "stream",
     "text": [
      "Collecting SpeechRecognition\n",
      "  Downloading SpeechRecognition-3.8.1-py2.py3-none-any.whl (32.8 MB)\n",
      "Installing collected packages: SpeechRecognition\n",
      "Successfully installed SpeechRecognition-3.8.1\n",
      "Note: you may need to restart the kernel to use updated packages.\n"
     ]
    }
   ],
   "source": [
    "pip install SpeechRecognition"
   ]
  },
  {
   "cell_type": "code",
   "execution_count": 4,
   "metadata": {},
   "outputs": [
    {
     "name": "stdout",
     "output_type": "stream",
     "text": [
      "but still smell of old beer drinkers it takes hi to bring up the older I called up restore It helped him that a selfie kotess find him because of my favourite is just for food is Bihar cross bun\n"
     ]
    }
   ],
   "source": [
    "import speech_recognition as sr\n",
    "recognizer = sr.Recognizer()\n",
    "#microphone = sr.Microphone()\n",
    "microphone = sr.AudioFile('C:/Users/shakt/Downloads/harvard.wav')\n",
    "with microphone as source:\n",
    "    recognizer.adjust_for_ambient_noise(source)\n",
    "    audio = recognizer.listen(source)\n",
    "    command = recognizer.recognize_google(audio)\n",
    "    print(command)"
   ]
  },
  {
   "cell_type": "code",
   "execution_count": null,
   "metadata": {},
   "outputs": [],
   "source": []
  }
 ],
 "metadata": {
  "interpreter": {
   "hash": "c810a6f02dd99758e84a336706af5ec00c61e436be5779906daaa7198eca5f0b"
  },
  "kernelspec": {
   "display_name": "Python 3.8.8 ('vggfacemodel')",
   "language": "python",
   "name": "python3"
  },
  "language_info": {
   "codemirror_mode": {
    "name": "ipython",
    "version": 3
   },
   "file_extension": ".py",
   "mimetype": "text/x-python",
   "name": "python",
   "nbconvert_exporter": "python",
   "pygments_lexer": "ipython3",
   "version": "3.8.8"
  },
  "orig_nbformat": 4
 },
 "nbformat": 4,
 "nbformat_minor": 2
}
