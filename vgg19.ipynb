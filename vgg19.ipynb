{
 "cells": [
  {
   "cell_type": "code",
   "execution_count": 1,
   "metadata": {},
   "outputs": [],
   "source": [
    "from scipy.io.wavfile import read\n",
    "import matplotlib.pyplot as plt\n",
    "from os import walk\n",
    "import os\n",
    "import pandas as pd"
   ]
  },
  {
   "cell_type": "code",
   "execution_count": 2,
   "metadata": {},
   "outputs": [],
   "source": [
    "df = pd.read_csv('train.csv')"
   ]
  },
  {
   "cell_type": "code",
   "execution_count": 6,
   "metadata": {},
   "outputs": [
    {
     "data": {
      "text/plain": [
       "(7337, 3)"
      ]
     },
     "execution_count": 6,
     "metadata": {},
     "output_type": "execute_result"
    }
   ],
   "source": [
    "df.shape"
   ]
  },
  {
   "cell_type": "code",
   "execution_count": 4,
   "metadata": {},
   "outputs": [],
   "source": [
    "df= df[df['Class'] != '.git']\n",
    "df= df[df['Class'] != 'Test']"
   ]
  },
  {
   "cell_type": "code",
   "execution_count": 5,
   "metadata": {},
   "outputs": [],
   "source": [
    "labels = list(df['classID'].unique())\n",
    "files = dict()\n",
    "for i in range(len(labels)):\n",
    "    tmp = df[df['classID'] == labels[i]][:1].reset_index()\n",
    "    path = df['relative_path']\n",
    "    files[labels[i]] = path"
   ]
  },
  {
   "cell_type": "code",
   "execution_count": 7,
   "metadata": {},
   "outputs": [],
   "source": [
    "def convert_to_img(file_name,class_name):\n",
    "    # read audio samples\n",
    "    input_data = read(file_name)\n",
    "    audio = input_data[1]\n",
    "    # plot the first 1024 samples\n",
    "    plt.plot(audio)\n",
    "    # label the axes\n",
    "    plt.ylabel(\"Amplitude\")\n",
    "    plt.xlabel(\"Time\")\n",
    "    # set the title\n",
    "    # plt.title(\"Sample Wav\")\n",
    "    # display the plot\n",
    "    plt.savefig(class_name+\"_plots/\" + file_name.split('.')[0].split('/')[1] + '.png')\n",
    "    # plt.show()\n",
    "    plt.close('all')"
   ]
  },
  {
   "cell_type": "code",
   "execution_count": null,
   "metadata": {},
   "outputs": [],
   "source": [
    "for index, row in df.iterrows():\n",
    "    file_name = row['relative_path']\n",
    "    class_label = row[\"Class\"]\n",
    "    try:\n",
    "       convert_to_img(file_name,class_label)\n",
    "    except:\n",
    "        print(\"error\")\n",
    "        continue"
   ]
  },
  {
   "cell_type": "code",
   "execution_count": null,
   "metadata": {},
   "outputs": [],
   "source": []
  }
 ],
 "metadata": {
  "interpreter": {
   "hash": "c810a6f02dd99758e84a336706af5ec00c61e436be5779906daaa7198eca5f0b"
  },
  "kernelspec": {
   "display_name": "Python 3",
   "language": "python",
   "name": "python3"
  },
  "language_info": {
   "codemirror_mode": {
    "name": "ipython",
    "version": 3
   },
   "file_extension": ".py",
   "mimetype": "text/x-python",
   "name": "python",
   "nbconvert_exporter": "python",
   "pygments_lexer": "ipython3",
   "version": "3.8.8"
  }
 },
 "nbformat": 4,
 "nbformat_minor": 2
}
